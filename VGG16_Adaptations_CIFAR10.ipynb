{
  "nbformat": 4,
  "nbformat_minor": 0,
  "metadata": {
    "colab": {
      "provenance": [],
      "collapsed_sections": [
        "l9zBOHkhH9yK",
        "2q7AvUMNH5OK",
        "yYxGuj8gImXD",
        "HXFRPJTnMTNf"
      ],
      "authorship_tag": "ABX9TyORIJ+0LoQc9FJCPtg9cxLg",
      "include_colab_link": true
    },
    "kernelspec": {
      "name": "python3",
      "display_name": "Python 3"
    },
    "language_info": {
      "name": "python"
    },
    "accelerator": "GPU",
    "gpuClass": "standard"
  },
  "cells": [
    {
      "cell_type": "markdown",
      "metadata": {
        "id": "view-in-github",
        "colab_type": "text"
      },
      "source": [
        "<a href=\"https://colab.research.google.com/github/Antonio-Villarreal/Deep-Learning-For-Dummies/blob/main/VGG16_Adaptations_CIFAR10.ipynb\" target=\"_parent\"><img src=\"https://colab.research.google.com/assets/colab-badge.svg\" alt=\"Open In Colab\"/></a>"
      ]
    },
    {
      "cell_type": "markdown",
      "source": [
        "# VGG16 Adaptation"
      ],
      "metadata": {
        "id": "i8eGmxl97DBP"
      }
    },
    {
      "cell_type": "markdown",
      "source": [
        "Adapts the VGG16 architecture for a smaller image size - 244 x 244"
      ],
      "metadata": {
        "id": "eTsyqIo5G9l0"
      }
    },
    {
      "cell_type": "code",
      "source": [
        "from keras.datasets import cifar10\n",
        "from keras.preprocessing.image import ImageDataGenerator\n",
        "\n",
        "# load the CIFAR10 dataset\n",
        "(x_train, y_train), (x_test, y_test) = cifar10.load_data()"
      ],
      "metadata": {
        "id": "-qNYu7v-7Ard"
      },
      "execution_count": 33,
      "outputs": []
    },
    {
      "cell_type": "code",
      "source": [
        "print(x_train.shape)\n",
        "print(y_train.shape)\n",
        "print(x_test.shape)\n",
        "print(x_test.shape)"
      ],
      "metadata": {
        "colab": {
          "base_uri": "https://localhost:8080/"
        },
        "id": "AvwGbGva9mCS",
        "outputId": "570f4680-1af5-4269-e4bd-59a56964ca1f"
      },
      "execution_count": 34,
      "outputs": [
        {
          "output_type": "stream",
          "name": "stdout",
          "text": [
            "(50000, 32, 32, 3)\n",
            "(50000, 1)\n",
            "(10000, 32, 32, 3)\n",
            "(10000, 32, 32, 3)\n"
          ]
        }
      ]
    },
    {
      "cell_type": "code",
      "source": [
        "x_train = x_train.astype('float32')\n",
        "x_test = x_test.astype('float32')\n",
        "x_train /= 255\n",
        "x_test /= 255"
      ],
      "metadata": {
        "id": "K3ACGStM7O0l"
      },
      "execution_count": 35,
      "outputs": []
    },
    {
      "cell_type": "code",
      "source": [
        "from keras.utils import to_categorical\n",
        "y_train = to_categorical(y_train, 10)\n",
        "y_test = to_categorical(y_test, 10)"
      ],
      "metadata": {
        "id": "iX8NVPeL9qdA"
      },
      "execution_count": 36,
      "outputs": []
    },
    {
      "cell_type": "markdown",
      "source": [
        "## Model 1"
      ],
      "metadata": {
        "id": "l9zBOHkhH9yK"
      }
    },
    {
      "cell_type": "code",
      "source": [
        "from keras.layers import Conv2D, MaxPooling2D, Flatten, Dense, BatchNormalization, Dropout\n",
        "from keras.models import Sequential\n",
        "\n",
        "model = Sequential()\n",
        "\n",
        "# Layer 1: Convolutional layer with 64 filters, kernel size of 3x3, and 'same' padding\n",
        "model.add(Conv2D(64, kernel_size=(3, 3), input_shape=(32, 32, 3), padding='same', activation='relu'))\n",
        "\n",
        "# Layer 2: Convolutional layer with 64 filters, kernel size of 3x3, and 'same' padding\n",
        "model.add(Conv2D(64, kernel_size=(3, 3), padding='same', activation='relu'))\n",
        "\n",
        "model.add(BatchNormalization())\n",
        "\n",
        "# Layer 3: Max pooling layer with pool size of 2x2\n",
        "model.add(MaxPooling2D(pool_size=(2, 2)))\n",
        "\n",
        "# Layer 4: Convolutional layer with 128 filters, kernel size of 3x3, and 'same' padding\n",
        "model.add(Conv2D(128, kernel_size=(3, 3), padding='same', activation='relu'))\n",
        "\n",
        "# Layer 5: Convolutional layer with 128 filters, kernel size of 3x3, and 'same' padding\n",
        "model.add(Conv2D(128, kernel_size=(3, 3), padding='same', activation='relu'))\n",
        "\n",
        "model.add(BatchNormalization())\n",
        "\n",
        "# Layer 6: Max pooling layer with pool size of 2x2\n",
        "model.add(MaxPooling2D(pool_size=(2, 2)))\n",
        "\n",
        "# Layer 7: Convolutional layer with 256 filters, kernel size of 3x3, and 'same' padding\n",
        "model.add(Conv2D(256, kernel_size=(3, 3), padding='same', activation='relu'))\n",
        "\n",
        "# Layer 8: Convolutional layer with 256 filters, kernel size of 3x3, and 'same' padding\n",
        "model.add(Conv2D(256, kernel_size=(3, 3), padding='same', activation='relu'))\n",
        "\n",
        "# Layer 9: Convolutional layer with 256 filters, kernel size of 3x3, and 'same' padding\n",
        "model.add(Conv2D(256, kernel_size=(3, 3), padding='same', activation='relu'))\n",
        "\n",
        "model.add(BatchNormalization())\n",
        "\n",
        "# Layer 10: Max pooling layer with pool size of 2x2\n",
        "model.add(MaxPooling2D(pool_size=(2, 2)))\n",
        "\n",
        "# Layer 11: Flatten layer to convert the 3D feature maps to 1D feature vectors\n",
        "model.add(Flatten())\n",
        "\n",
        "# Layer 12: Fully connected layer with 512 units and 'relu' activation\n",
        "model.add(Dense(512, activation='relu'))\n",
        "\n",
        "# Layer 13: Fully connected layer with 512 units and 'relu' activation\n",
        "model.add(Dense(512, activation='relu'))\n",
        "\n",
        "# Layer 14: Output layer with 'softmax' activation for multi-class classification\n",
        "model.add(Dense(10, activation='softmax'))"
      ],
      "metadata": {
        "id": "pE1OaQvaDMhp"
      },
      "execution_count": 37,
      "outputs": []
    },
    {
      "cell_type": "code",
      "source": [
        "model.summary()"
      ],
      "metadata": {
        "colab": {
          "base_uri": "https://localhost:8080/"
        },
        "id": "pG-DBNEf9-uM",
        "outputId": "3357fb4c-ddd2-4f38-cb67-fc59be6064f5"
      },
      "execution_count": 38,
      "outputs": [
        {
          "output_type": "stream",
          "name": "stdout",
          "text": [
            "Model: \"sequential_3\"\n",
            "_________________________________________________________________\n",
            " Layer (type)                Output Shape              Param #   \n",
            "=================================================================\n",
            " conv2d_14 (Conv2D)          (None, 32, 32, 64)        1792      \n",
            "                                                                 \n",
            " conv2d_15 (Conv2D)          (None, 32, 32, 64)        36928     \n",
            "                                                                 \n",
            " batch_normalization_10 (Bat  (None, 32, 32, 64)       256       \n",
            " chNormalization)                                                \n",
            "                                                                 \n",
            " max_pooling2d_7 (MaxPooling  (None, 16, 16, 64)       0         \n",
            " 2D)                                                             \n",
            "                                                                 \n",
            " conv2d_16 (Conv2D)          (None, 16, 16, 128)       73856     \n",
            "                                                                 \n",
            " conv2d_17 (Conv2D)          (None, 16, 16, 128)       147584    \n",
            "                                                                 \n",
            " batch_normalization_11 (Bat  (None, 16, 16, 128)      512       \n",
            " chNormalization)                                                \n",
            "                                                                 \n",
            " max_pooling2d_8 (MaxPooling  (None, 8, 8, 128)        0         \n",
            " 2D)                                                             \n",
            "                                                                 \n",
            " conv2d_18 (Conv2D)          (None, 8, 8, 256)         295168    \n",
            "                                                                 \n",
            " conv2d_19 (Conv2D)          (None, 8, 8, 256)         590080    \n",
            "                                                                 \n",
            " conv2d_20 (Conv2D)          (None, 8, 8, 256)         590080    \n",
            "                                                                 \n",
            " batch_normalization_12 (Bat  (None, 8, 8, 256)        1024      \n",
            " chNormalization)                                                \n",
            "                                                                 \n",
            " max_pooling2d_9 (MaxPooling  (None, 4, 4, 256)        0         \n",
            " 2D)                                                             \n",
            "                                                                 \n",
            " flatten_4 (Flatten)         (None, 4096)              0         \n",
            "                                                                 \n",
            " dense_10 (Dense)            (None, 512)               2097664   \n",
            "                                                                 \n",
            " dense_11 (Dense)            (None, 512)               262656    \n",
            "                                                                 \n",
            " dense_12 (Dense)            (None, 10)                5130      \n",
            "                                                                 \n",
            "=================================================================\n",
            "Total params: 4,102,730\n",
            "Trainable params: 4,101,834\n",
            "Non-trainable params: 896\n",
            "_________________________________________________________________\n"
          ]
        }
      ]
    },
    {
      "cell_type": "markdown",
      "source": [
        "## Model 2"
      ],
      "metadata": {
        "id": "2q7AvUMNH5OK"
      }
    },
    {
      "cell_type": "code",
      "source": [
        "from keras.layers import Conv2D, MaxPooling2D, Flatten, Dense\n",
        "from keras.models import Sequential\n",
        "\n",
        "model2 = Sequential()\n",
        "\n",
        "# Layer 1: Convolutional layer with 32 filters, kernel size of 3x3, and 'same' padding\n",
        "model2.add(Conv2D(32, kernel_size=(3, 3), input_shape=(32, 32, 3), padding='same', activation='relu'))\n",
        "\n",
        "# Layer 2: Max pooling layer with pool size of 2x2\n",
        "model2.add(MaxPooling2D(pool_size=(2, 2)))\n",
        "\n",
        "# Layer 3: Convolutional layer with 64 filters, kernel size of 3x3, and 'same' padding\n",
        "model2.add(Conv2D(64, kernel_size=(3, 3), padding='same', activation='relu'))\n",
        "\n",
        "# Layer 4: Max pooling layer with pool size of 2x2\n",
        "model2.add(MaxPooling2D(pool_size=(2, 2)))\n",
        "\n",
        "# Layer 5: Flatten layer to convert the 3D feature maps to 1D feature vectors\n",
        "model2.add(Flatten())\n",
        "\n",
        "# Layer 6: Fully connected layer with 128 units and 'relu' activation\n",
        "model2.add(Dense(128, activation='relu'))\n",
        "\n",
        "# Layer 7: Output layer with 'softmax' activation for multi-class classification\n",
        "model2.add(Dense(10, activation='softmax'))"
      ],
      "metadata": {
        "id": "AQ06Scev7QoG"
      },
      "execution_count": 39,
      "outputs": []
    },
    {
      "cell_type": "code",
      "source": [
        "model2.summary()"
      ],
      "metadata": {
        "colab": {
          "base_uri": "https://localhost:8080/"
        },
        "id": "zcmAyCkkHO3s",
        "outputId": "0e6d18bd-36b5-4402-e320-a66833e99cc1"
      },
      "execution_count": 40,
      "outputs": [
        {
          "output_type": "stream",
          "name": "stdout",
          "text": [
            "Model: \"sequential_4\"\n",
            "_________________________________________________________________\n",
            " Layer (type)                Output Shape              Param #   \n",
            "=================================================================\n",
            " conv2d_21 (Conv2D)          (None, 32, 32, 32)        896       \n",
            "                                                                 \n",
            " max_pooling2d_10 (MaxPoolin  (None, 16, 16, 32)       0         \n",
            " g2D)                                                            \n",
            "                                                                 \n",
            " conv2d_22 (Conv2D)          (None, 16, 16, 64)        18496     \n",
            "                                                                 \n",
            " max_pooling2d_11 (MaxPoolin  (None, 8, 8, 64)         0         \n",
            " g2D)                                                            \n",
            "                                                                 \n",
            " flatten_5 (Flatten)         (None, 4096)              0         \n",
            "                                                                 \n",
            " dense_13 (Dense)            (None, 128)               524416    \n",
            "                                                                 \n",
            " dense_14 (Dense)            (None, 10)                1290      \n",
            "                                                                 \n",
            "=================================================================\n",
            "Total params: 545,098\n",
            "Trainable params: 545,098\n",
            "Non-trainable params: 0\n",
            "_________________________________________________________________\n"
          ]
        }
      ]
    },
    {
      "cell_type": "markdown",
      "source": [
        "## Model 3"
      ],
      "metadata": {
        "id": "yYxGuj8gImXD"
      }
    },
    {
      "cell_type": "code",
      "source": [
        "model3 = Sequential()\n",
        "\n",
        "# Layer 1: Convolutional layer with 32 filters, kernel size of 3x3, and 'same' padding\n",
        "model3.add(Conv2D(32, kernel_size=(3, 3), input_shape=(32, 32, 3), padding='same', activation='relu'))\n",
        "model3.add(BatchNormalization())\n",
        "model3.add(Dropout(0.2))\n",
        "\n",
        "# Layer 2: Convolutional layer with 32 filters, kernel size of 3x3, and 'same' padding\n",
        "model3.add(Conv2D(32, kernel_size=(3, 3), padding='same', activation='relu'))\n",
        "model3.add(BatchNormalization())\n",
        "model3.add(Dropout(0.2))\n",
        "\n",
        "# Layer 3: Max pooling layer with pool size of 2x2\n",
        "model3.add(MaxPooling2D(pool_size=(2, 2)))\n",
        "\n",
        "# Layer 4: Convolutional layer with 64 filters, kernel size of 3x3, and 'same' padding\n",
        "model3.add(Conv2D(64, kernel_size=(3, 3), padding='same', activation='relu'))\n",
        "model3.add(BatchNormalization())\n",
        "model3.add(Dropout(0.2))\n",
        "\n",
        "# Layer 5: Convolutional layer with 64 filters, kernel size of 3x3, and 'same' padding\n",
        "model3.add(Conv2D(64, kernel_size=(3, 3), padding='same', activation='relu'))\n",
        "model3.add(BatchNormalization())\n",
        "model3.add(Dropout(0.2))\n",
        "\n",
        "# Layer 6: Max pooling layer with pool size of 2x2\n",
        "model3.add(MaxPooling2D(pool_size=(2, 2)))\n",
        "\n",
        "# Layer 7: Convolutional layer with 128 filters, kernel size of 3x3, and 'same' padding\n",
        "model3.add(Conv2D(128, kernel_size=(3, 3), padding='same', activation='relu'))\n",
        "model3.add(BatchNormalization())\n",
        "model3.add(Dropout(0.2))\n",
        "\n",
        "# Layer 8: Flatten layer to convert the 3D feature maps to 1D feature vectors\n",
        "model3.add(Flatten())\n",
        "\n",
        "# Layer 9: Fully connected layer with 512 units and 'relu' activation\n",
        "model3.add(Dense(512, activation='relu'))\n",
        "model3.add(BatchNormalization())\n",
        "model3.add(Dropout(0.2))\n",
        "\n",
        "# Layer 10: Fully connected layer with 512 units and 'relu' activation\n",
        "model3.add(Dense(512, activation='relu'))\n",
        "model3.add(BatchNormalization())\n",
        "model3.add(Dropout(0.2))\n",
        "\n",
        "# Layer 11: Output layer with 'softmax' activation for multi-class classification\n",
        "model3.add(Dense(10, activation='softmax'))"
      ],
      "metadata": {
        "id": "GA1rXQCqIn3k"
      },
      "execution_count": 41,
      "outputs": []
    },
    {
      "cell_type": "code",
      "source": [
        "model3.summary()"
      ],
      "metadata": {
        "colab": {
          "base_uri": "https://localhost:8080/"
        },
        "id": "oGmC2KU8Iqg1",
        "outputId": "1dc97a84-a409-4561-b90d-72d4099fa8b5"
      },
      "execution_count": 42,
      "outputs": [
        {
          "output_type": "stream",
          "name": "stdout",
          "text": [
            "Model: \"sequential_5\"\n",
            "_________________________________________________________________\n",
            " Layer (type)                Output Shape              Param #   \n",
            "=================================================================\n",
            " conv2d_23 (Conv2D)          (None, 32, 32, 32)        896       \n",
            "                                                                 \n",
            " batch_normalization_13 (Bat  (None, 32, 32, 32)       128       \n",
            " chNormalization)                                                \n",
            "                                                                 \n",
            " dropout_7 (Dropout)         (None, 32, 32, 32)        0         \n",
            "                                                                 \n",
            " conv2d_24 (Conv2D)          (None, 32, 32, 32)        9248      \n",
            "                                                                 \n",
            " batch_normalization_14 (Bat  (None, 32, 32, 32)       128       \n",
            " chNormalization)                                                \n",
            "                                                                 \n",
            " dropout_8 (Dropout)         (None, 32, 32, 32)        0         \n",
            "                                                                 \n",
            " max_pooling2d_12 (MaxPoolin  (None, 16, 16, 32)       0         \n",
            " g2D)                                                            \n",
            "                                                                 \n",
            " conv2d_25 (Conv2D)          (None, 16, 16, 64)        18496     \n",
            "                                                                 \n",
            " batch_normalization_15 (Bat  (None, 16, 16, 64)       256       \n",
            " chNormalization)                                                \n",
            "                                                                 \n",
            " dropout_9 (Dropout)         (None, 16, 16, 64)        0         \n",
            "                                                                 \n",
            " conv2d_26 (Conv2D)          (None, 16, 16, 64)        36928     \n",
            "                                                                 \n",
            " batch_normalization_16 (Bat  (None, 16, 16, 64)       256       \n",
            " chNormalization)                                                \n",
            "                                                                 \n",
            " dropout_10 (Dropout)        (None, 16, 16, 64)        0         \n",
            "                                                                 \n",
            " max_pooling2d_13 (MaxPoolin  (None, 8, 8, 64)         0         \n",
            " g2D)                                                            \n",
            "                                                                 \n",
            " conv2d_27 (Conv2D)          (None, 8, 8, 128)         73856     \n",
            "                                                                 \n",
            " batch_normalization_17 (Bat  (None, 8, 8, 128)        512       \n",
            " chNormalization)                                                \n",
            "                                                                 \n",
            " dropout_11 (Dropout)        (None, 8, 8, 128)         0         \n",
            "                                                                 \n",
            " flatten_6 (Flatten)         (None, 8192)              0         \n",
            "                                                                 \n",
            " dense_15 (Dense)            (None, 512)               4194816   \n",
            "                                                                 \n",
            " batch_normalization_18 (Bat  (None, 512)              2048      \n",
            " chNormalization)                                                \n",
            "                                                                 \n",
            " dropout_12 (Dropout)        (None, 512)               0         \n",
            "                                                                 \n",
            " dense_16 (Dense)            (None, 512)               262656    \n",
            "                                                                 \n",
            " batch_normalization_19 (Bat  (None, 512)              2048      \n",
            " chNormalization)                                                \n",
            "                                                                 \n",
            " dropout_13 (Dropout)        (None, 512)               0         \n",
            "                                                                 \n",
            " dense_17 (Dense)            (None, 10)                5130      \n",
            "                                                                 \n",
            "=================================================================\n",
            "Total params: 4,607,402\n",
            "Trainable params: 4,604,714\n",
            "Non-trainable params: 2,688\n",
            "_________________________________________________________________\n"
          ]
        }
      ]
    },
    {
      "cell_type": "markdown",
      "source": [
        "## Model 4 (Imported)"
      ],
      "metadata": {
        "id": "HXFRPJTnMTNf"
      }
    },
    {
      "cell_type": "code",
      "source": [
        "from keras.applications.vgg16 import VGG16\n",
        "from keras.applications.vgg16 import preprocess_input\n",
        "from keras.applications.vgg16 import decode_predictions\n",
        "\n",
        "# base_model = VGG16(include_top=False, input_shape=(32,32,3))\n",
        "base_model = VGG16(weights='imagenet', include_top=False, input_shape=(32,32,3))"
      ],
      "metadata": {
        "id": "HUgtfza7MWIi"
      },
      "execution_count": 43,
      "outputs": []
    },
    {
      "cell_type": "code",
      "source": [
        "# Freeze base model layers\n",
        "for layer in base_model.layers:\n",
        "    layer.trainable = False"
      ],
      "metadata": {
        "id": "VKmllHXWMZdg"
      },
      "execution_count": 44,
      "outputs": []
    },
    {
      "cell_type": "code",
      "source": [
        "# Add new layers\n",
        "x = base_model.output\n",
        "x = Flatten()(x)\n",
        "x = Dense(4096, activation='relu')(x)\n",
        "predictions = Dense(10, activation='softmax')(x)"
      ],
      "metadata": {
        "id": "Eccd83caMdRF"
      },
      "execution_count": 45,
      "outputs": []
    },
    {
      "cell_type": "code",
      "source": [
        "from keras.models import Model\n",
        "model4 = Model(inputs=base_model.input, outputs=predictions)"
      ],
      "metadata": {
        "id": "0XZJEg47Meyx"
      },
      "execution_count": 46,
      "outputs": []
    },
    {
      "cell_type": "code",
      "source": [
        "model4.summary()"
      ],
      "metadata": {
        "colab": {
          "base_uri": "https://localhost:8080/"
        },
        "id": "ZQJhllZCMgqe",
        "outputId": "9d0ef7f9-eef6-484b-c740-992928bf1afb"
      },
      "execution_count": 47,
      "outputs": [
        {
          "output_type": "stream",
          "name": "stdout",
          "text": [
            "Model: \"model_1\"\n",
            "_________________________________________________________________\n",
            " Layer (type)                Output Shape              Param #   \n",
            "=================================================================\n",
            " input_3 (InputLayer)        [(None, 32, 32, 3)]       0         \n",
            "                                                                 \n",
            " block1_conv1 (Conv2D)       (None, 32, 32, 64)        1792      \n",
            "                                                                 \n",
            " block1_conv2 (Conv2D)       (None, 32, 32, 64)        36928     \n",
            "                                                                 \n",
            " block1_pool (MaxPooling2D)  (None, 16, 16, 64)        0         \n",
            "                                                                 \n",
            " block2_conv1 (Conv2D)       (None, 16, 16, 128)       73856     \n",
            "                                                                 \n",
            " block2_conv2 (Conv2D)       (None, 16, 16, 128)       147584    \n",
            "                                                                 \n",
            " block2_pool (MaxPooling2D)  (None, 8, 8, 128)         0         \n",
            "                                                                 \n",
            " block3_conv1 (Conv2D)       (None, 8, 8, 256)         295168    \n",
            "                                                                 \n",
            " block3_conv2 (Conv2D)       (None, 8, 8, 256)         590080    \n",
            "                                                                 \n",
            " block3_conv3 (Conv2D)       (None, 8, 8, 256)         590080    \n",
            "                                                                 \n",
            " block3_pool (MaxPooling2D)  (None, 4, 4, 256)         0         \n",
            "                                                                 \n",
            " block4_conv1 (Conv2D)       (None, 4, 4, 512)         1180160   \n",
            "                                                                 \n",
            " block4_conv2 (Conv2D)       (None, 4, 4, 512)         2359808   \n",
            "                                                                 \n",
            " block4_conv3 (Conv2D)       (None, 4, 4, 512)         2359808   \n",
            "                                                                 \n",
            " block4_pool (MaxPooling2D)  (None, 2, 2, 512)         0         \n",
            "                                                                 \n",
            " block5_conv1 (Conv2D)       (None, 2, 2, 512)         2359808   \n",
            "                                                                 \n",
            " block5_conv2 (Conv2D)       (None, 2, 2, 512)         2359808   \n",
            "                                                                 \n",
            " block5_conv3 (Conv2D)       (None, 2, 2, 512)         2359808   \n",
            "                                                                 \n",
            " block5_pool (MaxPooling2D)  (None, 1, 1, 512)         0         \n",
            "                                                                 \n",
            " flatten_7 (Flatten)         (None, 512)               0         \n",
            "                                                                 \n",
            " dense_18 (Dense)            (None, 4096)              2101248   \n",
            "                                                                 \n",
            " dense_19 (Dense)            (None, 10)                40970     \n",
            "                                                                 \n",
            "=================================================================\n",
            "Total params: 16,856,906\n",
            "Trainable params: 2,142,218\n",
            "Non-trainable params: 14,714,688\n",
            "_________________________________________________________________\n"
          ]
        }
      ]
    },
    {
      "cell_type": "markdown",
      "source": [
        "## Training"
      ],
      "metadata": {
        "id": "lyIaZpXYIhu-"
      }
    },
    {
      "cell_type": "code",
      "source": [
        "model.compile(optimizer='adam', loss='categorical_crossentropy', metrics=['accuracy'])"
      ],
      "metadata": {
        "id": "EWKp1koGBAso"
      },
      "execution_count": 48,
      "outputs": []
    },
    {
      "cell_type": "code",
      "source": [
        "model2.compile(optimizer='adam', loss='categorical_crossentropy', metrics=['accuracy'])"
      ],
      "metadata": {
        "id": "xteiVkBtHRh5"
      },
      "execution_count": 49,
      "outputs": []
    },
    {
      "cell_type": "code",
      "source": [
        "model3.compile(optimizer='adam', loss='categorical_crossentropy', metrics=['accuracy'])"
      ],
      "metadata": {
        "id": "3dGX_ADqI4sP"
      },
      "execution_count": 50,
      "outputs": []
    },
    {
      "cell_type": "code",
      "source": [
        "model4.compile(optimizer='adam', loss='categorical_crossentropy', metrics=['accuracy'])"
      ],
      "metadata": {
        "id": "i9CP7CLpMo5O"
      },
      "execution_count": 51,
      "outputs": []
    },
    {
      "cell_type": "code",
      "source": [
        "history = model.fit(x_train, y_train, batch_size=64, epochs=Epoch, validation_data=(x_test, y_test))"
      ],
      "metadata": {
        "colab": {
          "base_uri": "https://localhost:8080/"
        },
        "id": "Gv8KPJIz8LXP",
        "outputId": "9a03a3c0-b07e-4e88-9caa-ea6a72b62481"
      },
      "execution_count": 52,
      "outputs": [
        {
          "output_type": "stream",
          "name": "stdout",
          "text": [
            "Epoch 1/10\n",
            "782/782 [==============================] - 17s 20ms/step - loss: 1.3442 - accuracy: 0.5210 - val_loss: 1.5771 - val_accuracy: 0.4899\n",
            "Epoch 2/10\n",
            "782/782 [==============================] - 15s 20ms/step - loss: 0.8421 - accuracy: 0.7045 - val_loss: 1.3995 - val_accuracy: 0.5805\n",
            "Epoch 3/10\n",
            "782/782 [==============================] - 15s 19ms/step - loss: 0.6617 - accuracy: 0.7696 - val_loss: 0.9123 - val_accuracy: 0.7055\n",
            "Epoch 4/10\n",
            "782/782 [==============================] - 15s 20ms/step - loss: 0.5374 - accuracy: 0.8124 - val_loss: 0.7410 - val_accuracy: 0.7591\n",
            "Epoch 5/10\n",
            "782/782 [==============================] - 15s 19ms/step - loss: 0.4376 - accuracy: 0.8484 - val_loss: 0.7721 - val_accuracy: 0.7479\n",
            "Epoch 6/10\n",
            "782/782 [==============================] - 15s 19ms/step - loss: 0.3500 - accuracy: 0.8781 - val_loss: 0.7150 - val_accuracy: 0.7820\n",
            "Epoch 7/10\n",
            "782/782 [==============================] - 15s 20ms/step - loss: 0.2807 - accuracy: 0.9016 - val_loss: 0.7355 - val_accuracy: 0.7927\n",
            "Epoch 8/10\n",
            "782/782 [==============================] - 15s 19ms/step - loss: 0.2208 - accuracy: 0.9230 - val_loss: 0.7643 - val_accuracy: 0.7961\n",
            "Epoch 9/10\n",
            "782/782 [==============================] - 15s 19ms/step - loss: 0.1805 - accuracy: 0.9378 - val_loss: 0.8003 - val_accuracy: 0.7898\n",
            "Epoch 10/10\n",
            "782/782 [==============================] - 15s 19ms/step - loss: 0.1475 - accuracy: 0.9501 - val_loss: 0.8846 - val_accuracy: 0.7798\n"
          ]
        }
      ]
    },
    {
      "cell_type": "code",
      "source": [
        "history2 = model2.fit(x_train, y_train, batch_size=64, epochs=Epoch, validation_data=(x_test, y_test))"
      ],
      "metadata": {
        "colab": {
          "base_uri": "https://localhost:8080/"
        },
        "id": "XK_bLj4cHSt2",
        "outputId": "65764e04-e012-47f4-b185-7ad802744500"
      },
      "execution_count": 53,
      "outputs": [
        {
          "output_type": "stream",
          "name": "stdout",
          "text": [
            "Epoch 1/10\n",
            "782/782 [==============================] - 4s 5ms/step - loss: 1.3943 - accuracy: 0.5028 - val_loss: 1.1237 - val_accuracy: 0.6001\n",
            "Epoch 2/10\n",
            "782/782 [==============================] - 4s 4ms/step - loss: 1.0301 - accuracy: 0.6360 - val_loss: 0.9748 - val_accuracy: 0.6560\n",
            "Epoch 3/10\n",
            "782/782 [==============================] - 4s 5ms/step - loss: 0.8884 - accuracy: 0.6900 - val_loss: 0.9098 - val_accuracy: 0.6879\n",
            "Epoch 4/10\n",
            "782/782 [==============================] - 4s 4ms/step - loss: 0.7958 - accuracy: 0.7246 - val_loss: 0.9125 - val_accuracy: 0.6919\n",
            "Epoch 5/10\n",
            "782/782 [==============================] - 3s 4ms/step - loss: 0.7077 - accuracy: 0.7537 - val_loss: 0.8803 - val_accuracy: 0.6978\n",
            "Epoch 6/10\n",
            "782/782 [==============================] - 4s 4ms/step - loss: 0.6414 - accuracy: 0.7754 - val_loss: 0.8933 - val_accuracy: 0.6972\n",
            "Epoch 7/10\n",
            "782/782 [==============================] - 3s 4ms/step - loss: 0.5716 - accuracy: 0.7983 - val_loss: 0.8752 - val_accuracy: 0.7142\n",
            "Epoch 8/10\n",
            "782/782 [==============================] - 3s 4ms/step - loss: 0.5114 - accuracy: 0.8198 - val_loss: 0.8915 - val_accuracy: 0.7167\n",
            "Epoch 9/10\n",
            "782/782 [==============================] - 4s 5ms/step - loss: 0.4488 - accuracy: 0.8430 - val_loss: 0.9401 - val_accuracy: 0.7160\n",
            "Epoch 10/10\n",
            "782/782 [==============================] - 4s 6ms/step - loss: 0.3884 - accuracy: 0.8641 - val_loss: 0.9696 - val_accuracy: 0.7081\n"
          ]
        }
      ]
    },
    {
      "cell_type": "code",
      "source": [
        "history3 = model3.fit(x_train, y_train, batch_size=64, epochs=Epoch, validation_data=(x_test, y_test))"
      ],
      "metadata": {
        "colab": {
          "base_uri": "https://localhost:8080/"
        },
        "id": "I51Wqg6mI6oD",
        "outputId": "ac2011e1-a92f-4f23-b561-be1ea15aa1a6"
      },
      "execution_count": 54,
      "outputs": [
        {
          "output_type": "stream",
          "name": "stdout",
          "text": [
            "Epoch 1/10\n",
            "782/782 [==============================] - 11s 13ms/step - loss: 1.4526 - accuracy: 0.4995 - val_loss: 1.3272 - val_accuracy: 0.5705\n",
            "Epoch 2/10\n",
            "782/782 [==============================] - 10s 12ms/step - loss: 0.9168 - accuracy: 0.6780 - val_loss: 0.9394 - val_accuracy: 0.6875\n",
            "Epoch 3/10\n",
            "782/782 [==============================] - 10s 12ms/step - loss: 0.7319 - accuracy: 0.7441 - val_loss: 0.8726 - val_accuracy: 0.7127\n",
            "Epoch 4/10\n",
            "782/782 [==============================] - 10s 12ms/step - loss: 0.6154 - accuracy: 0.7841 - val_loss: 0.8797 - val_accuracy: 0.7227\n",
            "Epoch 5/10\n",
            "782/782 [==============================] - 10s 12ms/step - loss: 0.5284 - accuracy: 0.8152 - val_loss: 0.8957 - val_accuracy: 0.7150\n",
            "Epoch 6/10\n",
            "782/782 [==============================] - 10s 12ms/step - loss: 0.4551 - accuracy: 0.8397 - val_loss: 1.2502 - val_accuracy: 0.6554\n",
            "Epoch 7/10\n",
            "782/782 [==============================] - 9s 12ms/step - loss: 0.3913 - accuracy: 0.8628 - val_loss: 0.6956 - val_accuracy: 0.7885\n",
            "Epoch 8/10\n",
            "782/782 [==============================] - 9s 12ms/step - loss: 0.3262 - accuracy: 0.8852 - val_loss: 0.8858 - val_accuracy: 0.7556\n",
            "Epoch 9/10\n",
            "782/782 [==============================] - 10s 12ms/step - loss: 0.2777 - accuracy: 0.9018 - val_loss: 0.8611 - val_accuracy: 0.7593\n",
            "Epoch 10/10\n",
            "782/782 [==============================] - 10s 12ms/step - loss: 0.2411 - accuracy: 0.9138 - val_loss: 0.8852 - val_accuracy: 0.7650\n"
          ]
        }
      ]
    },
    {
      "cell_type": "code",
      "source": [
        "history4 = model4.fit(x_train, y_train, batch_size=64, epochs=Epoch, validation_data=(x_test, y_test))"
      ],
      "metadata": {
        "colab": {
          "base_uri": "https://localhost:8080/"
        },
        "id": "0o9LuI7rMr8h",
        "outputId": "2759e102-acf7-493b-abff-4059dc4908d3"
      },
      "execution_count": 55,
      "outputs": [
        {
          "output_type": "stream",
          "name": "stdout",
          "text": [
            "Epoch 1/10\n",
            "782/782 [==============================] - 13s 16ms/step - loss: 1.3149 - accuracy: 0.5357 - val_loss: 1.2346 - val_accuracy: 0.5626\n",
            "Epoch 2/10\n",
            "782/782 [==============================] - 12s 16ms/step - loss: 1.1392 - accuracy: 0.6005 - val_loss: 1.1690 - val_accuracy: 0.5896\n",
            "Epoch 3/10\n",
            "782/782 [==============================] - 12s 15ms/step - loss: 1.0580 - accuracy: 0.6260 - val_loss: 1.1570 - val_accuracy: 0.5926\n",
            "Epoch 4/10\n",
            "782/782 [==============================] - 12s 15ms/step - loss: 0.9883 - accuracy: 0.6499 - val_loss: 1.1321 - val_accuracy: 0.6005\n",
            "Epoch 5/10\n",
            "782/782 [==============================] - 12s 15ms/step - loss: 0.9274 - accuracy: 0.6724 - val_loss: 1.1237 - val_accuracy: 0.6103\n",
            "Epoch 6/10\n",
            "782/782 [==============================] - 12s 15ms/step - loss: 0.8705 - accuracy: 0.6902 - val_loss: 1.1068 - val_accuracy: 0.6166\n",
            "Epoch 7/10\n",
            "782/782 [==============================] - 12s 15ms/step - loss: 0.8150 - accuracy: 0.7110 - val_loss: 1.1224 - val_accuracy: 0.6215\n",
            "Epoch 8/10\n",
            "782/782 [==============================] - 12s 15ms/step - loss: 0.7568 - accuracy: 0.7329 - val_loss: 1.1318 - val_accuracy: 0.6249\n",
            "Epoch 9/10\n",
            "782/782 [==============================] - 12s 15ms/step - loss: 0.7004 - accuracy: 0.7513 - val_loss: 1.1626 - val_accuracy: 0.6190\n",
            "Epoch 10/10\n",
            "782/782 [==============================] - 12s 15ms/step - loss: 0.6476 - accuracy: 0.7714 - val_loss: 1.1855 - val_accuracy: 0.6232\n"
          ]
        }
      ]
    },
    {
      "cell_type": "markdown",
      "source": [
        "# Analytics"
      ],
      "metadata": {
        "id": "RuZ2h6sN661G"
      }
    },
    {
      "cell_type": "code",
      "source": [
        "class_names = ['airplane', 'automobile', 'bird', 'cat', 'deer',\n",
        "               'dog', 'frog', 'horse', 'ship', 'truck']"
      ],
      "metadata": {
        "id": "R8uQBB6POBMc"
      },
      "execution_count": 56,
      "outputs": []
    },
    {
      "cell_type": "code",
      "source": [
        "test_loss4, test_acc4 = model4.evaluate(x_test, y_test, verbose=0)\n",
        "test_loss3, test_acc3 = model3.evaluate(x_test, y_test, verbose=0)\n",
        "test_loss2, test_acc2 = model2.evaluate(x_test, y_test, verbose=0)\n",
        "test_loss, test_acc = model.evaluate(x_test, y_test, verbose=0)\n",
        "print(\"Testing Loss Model 1:\", test_loss)\n",
        "print(\"Testing Accuracy Model 1:\", test_acc)\n",
        "print(\"Testing Loss Model 2:\", test_loss2)\n",
        "print(\"Testing Accuracy Model 2:\", test_acc2)\n",
        "print(\"Testing Loss Model 3:\", test_loss3)\n",
        "print(\"Testing Accuracy Model 3:\", test_acc3)\n",
        "print(\"Testing Loss Model 4:\", test_loss4)\n",
        "print(\"Testing Accuracy Model 4:\", test_acc4)"
      ],
      "metadata": {
        "colab": {
          "base_uri": "https://localhost:8080/"
        },
        "id": "wmd5jIo1HVR_",
        "outputId": "6af148e5-565f-4642-ff06-ac53aa426de9"
      },
      "execution_count": 57,
      "outputs": [
        {
          "output_type": "stream",
          "name": "stdout",
          "text": [
            "Testing Loss Model 1: 0.8845560550689697\n",
            "Testing Accuracy Model 1: 0.7797999978065491\n",
            "Testing Loss Model 2: 0.9695953130722046\n",
            "Testing Accuracy Model 2: 0.7081000208854675\n",
            "Testing Loss Model 3: 0.8852334022521973\n",
            "Testing Accuracy Model 3: 0.7649999856948853\n",
            "Testing Loss Model 4: 1.1854816675186157\n",
            "Testing Accuracy Model 4: 0.623199999332428\n"
          ]
        }
      ]
    },
    {
      "cell_type": "code",
      "source": [
        "import matplotlib.pyplot as plt\n",
        "\n",
        "plt.plot(history.history['accuracy'], label=\"model 1\")\n",
        "plt.title('Model accuracy')\n",
        "plt.ylabel('Accuracy')\n",
        "plt.xlabel('Epoch')\n",
        "# plt.show()\n",
        "\n",
        "model2, = plt.plot(history2.history['accuracy'], label=\"model 2\")\n",
        "plt.title('Model accuracy')\n",
        "plt.ylabel('Accuracy')\n",
        "plt.xlabel('Epoch')\n",
        "# plt.show()\n",
        "\n",
        "plt.plot(history3.history['accuracy'], label=\"model 3\")\n",
        "plt.title('Model accuracy')\n",
        "plt.ylabel('Accuracy')\n",
        "plt.xlabel('Epoch')\n",
        "# plt.show()\n",
        "\n",
        "plt.plot(history4.history['accuracy'], label=\"model 4\")\n",
        "plt.title('Model accuracy')\n",
        "plt.ylabel('Accuracy')\n",
        "plt.xlabel('Epoch')\n",
        "leg = plt.legend(loc='upper left')\n",
        "plt.show()"
      ],
      "metadata": {
        "colab": {
          "base_uri": "https://localhost:8080/",
          "height": 295
        },
        "id": "s9ptVgLTodgE",
        "outputId": "4c0b5a8a-5ed8-4979-cacb-7bbb99779953"
      },
      "execution_count": 58,
      "outputs": [
        {
          "output_type": "display_data",
          "data": {
            "text/plain": [
              "<Figure size 432x288 with 1 Axes>"
            ],
            "image/png": "[encoded data removed]"
          },
          "metadata": {
            "needs_background": "light"
          }
        }
      ]
    }
  ]
}