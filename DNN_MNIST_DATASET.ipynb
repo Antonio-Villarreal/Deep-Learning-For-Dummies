{
  "cells": [
    {
      "cell_type": "markdown",
      "metadata": {
        "id": "view-in-github",
        "colab_type": "text"
      },
      "source": [
        "<a href=\"https://colab.research.google.com/github/Antonio-Villarreal/DeepLearningModels/blob/main/DNN_MNIST_DATASET.ipynb\" target=\"_parent\"><img src=\"https://colab.research.google.com/assets/colab-badge.svg\" alt=\"Open In Colab\"/></a>"
      ]
    },
    {
      "cell_type": "markdown",
      "metadata": {
        "collapsed": true,
        "id": "1rjuYblzFWbQ"
      },
      "source": [
        "# Introduction to Neural Networks"
      ]
    },
    {
      "cell_type": "markdown",
      "metadata": {
        "id": "weWeyzh5FWbU"
      },
      "source": [
        "## Import packages"
      ]
    },
    {
      "cell_type": "code",
      "execution_count": 64,
      "metadata": {
        "id": "QaOkDxoAFWbV"
      },
      "outputs": [],
      "source": [
        "from keras.datasets import mnist\n",
        "from keras_preprocessing.image import load_img, array_to_img\n",
        "from keras.utils.np_utils import to_categorical\n",
        "from keras.models import Sequential\n",
        "from keras.layers import Dense\n",
        "\n",
        "import numpy as np\n",
        "import matplotlib.pyplot as plt\n",
        "%matplotlib inline"
      ]
    },
    {
      "cell_type": "markdown",
      "metadata": {
        "id": "jm1_T6svFWbW"
      },
      "source": [
        "## Load the data"
      ]
    },
    {
      "cell_type": "code",
      "execution_count": 65,
      "metadata": {
        "id": "6d_pzdNFFWbW"
      },
      "outputs": [],
      "source": [
        "(X_train, y_train), (X_test, y_test) = mnist.load_data()"
      ]
    },
    {
      "cell_type": "markdown",
      "source": [
        "### Training Data"
      ],
      "metadata": {
        "id": "2RVoF0V0IPmL"
      }
    },
    {
      "cell_type": "code",
      "execution_count": 66,
      "metadata": {
        "colab": {
          "base_uri": "https://localhost:8080/"
        },
        "id": "BQEepsfUFWbW",
        "outputId": "ee513c55-19a3-4917-d4fd-94aa99e645ad"
      },
      "outputs": [
        {
          "output_type": "stream",
          "name": "stdout",
          "text": [
            "(60000, 28, 28)\n"
          ]
        }
      ],
      "source": [
        "print(X_train.shape)\n",
        "# 60,000 images, 20 pixels x 28 pixels"
      ]
    },
    {
      "cell_type": "code",
      "source": [
        "print(y_train.shape)\n",
        "#  60,000 classifications"
      ],
      "metadata": {
        "colab": {
          "base_uri": "https://localhost:8080/"
        },
        "id": "28vjNaajHGlh",
        "outputId": "9bacb765-da19-4506-d059-994759796fe4"
      },
      "execution_count": 67,
      "outputs": [
        {
          "output_type": "stream",
          "name": "stdout",
          "text": [
            "(60000,)\n"
          ]
        }
      ]
    },
    {
      "cell_type": "markdown",
      "source": [
        "### Testing Data"
      ],
      "metadata": {
        "id": "19tfUPi1IXK1"
      }
    },
    {
      "cell_type": "code",
      "source": [
        "print(X_test.shape)\n",
        "# 10,000 images, 28 pixels x 28 pixels"
      ],
      "metadata": {
        "colab": {
          "base_uri": "https://localhost:8080/"
        },
        "id": "_e4qnEyMHuNc",
        "outputId": "b85dd44c-26b7-4d7e-8cfc-13400452d97b"
      },
      "execution_count": 68,
      "outputs": [
        {
          "output_type": "stream",
          "name": "stdout",
          "text": [
            "(10000, 28, 28)\n"
          ]
        }
      ]
    },
    {
      "cell_type": "code",
      "source": [
        "print(y_test.shape)\n",
        "# 10,000 classifications"
      ],
      "metadata": {
        "colab": {
          "base_uri": "https://localhost:8080/"
        },
        "id": "rI_vig4qH0lC",
        "outputId": "974e7dc3-150d-4ac8-d65a-bfb97ec70ed2"
      },
      "execution_count": 69,
      "outputs": [
        {
          "output_type": "stream",
          "name": "stdout",
          "text": [
            "(10000,)\n"
          ]
        }
      ]
    },
    {
      "cell_type": "markdown",
      "metadata": {
        "collapsed": true,
        "id": "Dy4UNdwYFWbX"
      },
      "source": [
        "## Understanding the image data format"
      ]
    },
    {
      "cell_type": "code",
      "execution_count": 70,
      "metadata": {
        "colab": {
          "base_uri": "https://localhost:8080/"
        },
        "id": "JQ-HQ-AJFWbX",
        "outputId": "1573c1ce-de7e-408c-d61a-17c5ce990926"
      },
      "outputs": [
        {
          "output_type": "execute_result",
          "data": {
            "text/plain": [
              "(28, 28)"
            ]
          },
          "metadata": {},
          "execution_count": 70
        }
      ],
      "source": [
        "X_train[0].shape\n",
        "# 28 pixels x 28 pixels for image 1 of the training set"
      ]
    },
    {
      "cell_type": "code",
      "execution_count": 71,
      "metadata": {
        "colab": {
          "base_uri": "https://localhost:8080/",
          "height": 282
        },
        "id": "5LpL2PsTFWbX",
        "outputId": "8a5e00c2-125d-4875-a53e-9623bd87475b"
      },
      "outputs": [
        {
          "output_type": "execute_result",
          "data": {
            "text/plain": [
              "<matplotlib.image.AxesImage at 0x7f6ab9f324f0>"
            ]
          },
          "metadata": {},
          "execution_count": 71
        },
        {
          "output_type": "display_data",
          "data": {
            "text/plain": [
              "<Figure size 432x288 with 1 Axes>"
            ],
            "image/png": "[encoded data removed]"
          },
          "metadata": {
            "needs_background": "light"
          }
        }
      ],
      "source": [
        "plt.imshow(X_train[0], cmap='gray')\n",
        "# shows image 1 of the training set"
      ]
    },
    {
      "cell_type": "code",
      "execution_count": 72,
      "metadata": {
        "colab": {
          "base_uri": "https://localhost:8080/"
        },
        "id": "KZCdGD2SFWbY",
        "outputId": "1c8f287d-63b5-49b0-ab7e-49002a19b64f"
      },
      "outputs": [
        {
          "output_type": "execute_result",
          "data": {
            "text/plain": [
              "5"
            ]
          },
          "metadata": {},
          "execution_count": 72
        }
      ],
      "source": [
        "y_train[0]\n",
        "# shows the image 1 classification"
      ]
    },
    {
      "cell_type": "code",
      "execution_count": 72,
      "metadata": {
        "id": "ha8kzXY0FWbY"
      },
      "outputs": [],
      "source": []
    },
    {
      "cell_type": "markdown",
      "metadata": {
        "id": "DljJ5lwjFWbY"
      },
      "source": [
        "## Preprocessing the image data"
      ]
    },
    {
      "cell_type": "code",
      "execution_count": 73,
      "metadata": {
        "id": "k3khEjXEFWbZ"
      },
      "outputs": [],
      "source": [
        "image_height, image_width = 28,28\n",
        "# variables with 28 to represent 28 pixels for image dimensions"
      ]
    },
    {
      "cell_type": "code",
      "execution_count": 74,
      "metadata": {
        "colab": {
          "base_uri": "https://localhost:8080/"
        },
        "id": "Qf7R2j2sFWbZ",
        "outputId": "3b7b9326-aa38-4389-b7d4-904431a7e62b"
      },
      "outputs": [
        {
          "output_type": "stream",
          "name": "stdout",
          "text": [
            "(60000, 784)\n"
          ]
        }
      ],
      "source": [
        "# RESHAPING TRAINING DATA\n",
        "X_train = X_train.reshape(60000, image_height*image_width)\n",
        "# reshapes each image from 28 pixels x 28 pixels to 784 pixels x 1 pixel\n",
        "# COMPRESSING EACH IMAGE INTO SINGLE LINE\n",
        "print(X_train.shape)\n",
        "# verifies each of ther 60,000 images are one line of 784 pixels"
      ]
    },
    {
      "cell_type": "code",
      "execution_count": 75,
      "metadata": {
        "colab": {
          "base_uri": "https://localhost:8080/"
        },
        "id": "eeHPzl5BFWbZ",
        "outputId": "a15fb6a2-724c-4a40-ac3b-2881cd7ff7f0"
      },
      "outputs": [
        {
          "output_type": "stream",
          "name": "stdout",
          "text": [
            "(10000, 784)\n"
          ]
        }
      ],
      "source": [
        "# RESHAPING TRAINING DATA\n",
        "X_test = X_test.reshape(10000, image_height*image_width)\n",
        "# reshapes each image from 28 pixels x 28 pixels to 784 pixels x 1 pixel\n",
        "# COMPRESSING EACH IMAGE INTO SINGLE LINE\n",
        "print(X_test.shape)"
      ]
    },
    {
      "cell_type": "code",
      "execution_count": 76,
      "metadata": {
        "colab": {
          "base_uri": "https://localhost:8080/"
        },
        "id": "tctKa6btFWbZ",
        "outputId": "ec9981a9-adc6-4f2d-b21d-73ac92b76695"
      },
      "outputs": [
        {
          "output_type": "stream",
          "name": "stdout",
          "text": [
            "[  0   0   0   0   0   0   0   0   0   0   0   0   0   0   0   0   0   0\n",
            "   0   0   0   0   0   0   0   0   0   0   0   0   0   0   0   0   0   0\n",
            "   0   0   0   0   0   0   0   0   0   0   0   0   0   0   0   0   0   0\n",
            "   0   0   0   0   0   0   0   0   0   0   0   0   0   0   0   0   0   0\n",
            "   0   0   0   0   0   0   0   0   0   0   0   0   0   0   0   0   0   0\n",
            "   0   0   0   0   0   0   0   0   0   0   0   0   0   0   0   0   0   0\n",
            "   0   0   0   0   0   0   0   0   0   0   0   0   0   0   0   0   0   0\n",
            "   0   0   0   0   0   0   0   0   0   0   0   0   0   0   0   0   0   0\n",
            "   0   0   0   0   0   0   0   0   3  18  18  18 126 136 175  26 166 255\n",
            " 247 127   0   0   0   0   0   0   0   0   0   0   0   0  30  36  94 154\n",
            " 170 253 253 253 253 253 225 172 253 242 195  64   0   0   0   0   0   0\n",
            "   0   0   0   0   0  49 238 253 253 253 253 253 253 253 253 251  93  82\n",
            "  82  56  39   0   0   0   0   0   0   0   0   0   0   0   0  18 219 253\n",
            " 253 253 253 253 198 182 247 241   0   0   0   0   0   0   0   0   0   0\n",
            "   0   0   0   0   0   0   0   0  80 156 107 253 253 205  11   0  43 154\n",
            "   0   0   0   0   0   0   0   0   0   0   0   0   0   0   0   0   0   0\n",
            "   0  14   1 154 253  90   0   0   0   0   0   0   0   0   0   0   0   0\n",
            "   0   0   0   0   0   0   0   0   0   0   0   0   0 139 253 190   2   0\n",
            "   0   0   0   0   0   0   0   0   0   0   0   0   0   0   0   0   0   0\n",
            "   0   0   0   0   0  11 190 253  70   0   0   0   0   0   0   0   0   0\n",
            "   0   0   0   0   0   0   0   0   0   0   0   0   0   0   0   0  35 241\n",
            " 225 160 108   1   0   0   0   0   0   0   0   0   0   0   0   0   0   0\n",
            "   0   0   0   0   0   0   0   0   0  81 240 253 253 119  25   0   0   0\n",
            "   0   0   0   0   0   0   0   0   0   0   0   0   0   0   0   0   0   0\n",
            "   0   0  45 186 253 253 150  27   0   0   0   0   0   0   0   0   0   0\n",
            "   0   0   0   0   0   0   0   0   0   0   0   0   0  16  93 252 253 187\n",
            "   0   0   0   0   0   0   0   0   0   0   0   0   0   0   0   0   0   0\n",
            "   0   0   0   0   0   0   0 249 253 249  64   0   0   0   0   0   0   0\n",
            "   0   0   0   0   0   0   0   0   0   0   0   0   0   0  46 130 183 253\n",
            " 253 207   2   0   0   0   0   0   0   0   0   0   0   0   0   0   0   0\n",
            "   0   0   0   0  39 148 229 253 253 253 250 182   0   0   0   0   0   0\n",
            "   0   0   0   0   0   0   0   0   0   0   0   0  24 114 221 253 253 253\n",
            " 253 201  78   0   0   0   0   0   0   0   0   0   0   0   0   0   0   0\n",
            "   0   0  23  66 213 253 253 253 253 198  81   2   0   0   0   0   0   0\n",
            "   0   0   0   0   0   0   0   0   0   0  18 171 219 253 253 253 253 195\n",
            "  80   9   0   0   0   0   0   0   0   0   0   0   0   0   0   0   0   0\n",
            "  55 172 226 253 253 253 253 244 133  11   0   0   0   0   0   0   0   0\n",
            "   0   0   0   0   0   0   0   0   0   0 136 253 253 253 212 135 132  16\n",
            "   0   0   0   0   0   0   0   0   0   0   0   0   0   0   0   0   0   0\n",
            "   0   0   0   0   0   0   0   0   0   0   0   0   0   0   0   0   0   0\n",
            "   0   0   0   0   0   0   0   0   0   0   0   0   0   0   0   0   0   0\n",
            "   0   0   0   0   0   0   0   0   0   0   0   0   0   0   0   0   0   0\n",
            "   0   0   0   0   0   0   0   0   0   0   0   0   0   0   0   0   0   0\n",
            "   0   0   0   0   0   0   0   0   0   0]\n"
          ]
        }
      ],
      "source": [
        "print(X_train[0])\n",
        "# prints matrix representation of each pixel in image 1\n",
        "X_train = X_train.astype('float32')\n",
        "X_test = X_test.astype('float32')\n",
        "# converts to floats to avoid division problems"
      ]
    },
    {
      "cell_type": "code",
      "execution_count": 77,
      "metadata": {
        "colab": {
          "base_uri": "https://localhost:8080/"
        },
        "id": "NL6lND_bFWba",
        "outputId": "522e7fe2-3979-42bd-efa8-094f76a02067"
      },
      "outputs": [
        {
          "output_type": "stream",
          "name": "stdout",
          "text": [
            "[0.         0.         0.         0.         0.         0.\n",
            " 0.         0.         0.         0.         0.         0.\n",
            " 0.         0.         0.         0.         0.         0.\n",
            " 0.         0.         0.         0.         0.         0.\n",
            " 0.         0.         0.         0.         0.         0.\n",
            " 0.         0.         0.         0.         0.         0.\n",
            " 0.         0.         0.         0.         0.         0.\n",
            " 0.         0.         0.         0.         0.         0.\n",
            " 0.         0.         0.         0.         0.         0.\n",
            " 0.         0.         0.         0.         0.         0.\n",
            " 0.         0.         0.         0.         0.         0.\n",
            " 0.         0.         0.         0.         0.         0.\n",
            " 0.         0.         0.         0.         0.         0.\n",
            " 0.         0.         0.         0.         0.         0.\n",
            " 0.         0.         0.         0.         0.         0.\n",
            " 0.         0.         0.         0.         0.         0.\n",
            " 0.         0.         0.         0.         0.         0.\n",
            " 0.         0.         0.         0.         0.         0.\n",
            " 0.         0.         0.         0.         0.         0.\n",
            " 0.         0.         0.         0.         0.         0.\n",
            " 0.         0.         0.         0.         0.         0.\n",
            " 0.         0.         0.         0.         0.         0.\n",
            " 0.         0.         0.         0.         0.         0.\n",
            " 0.         0.         0.         0.         0.         0.\n",
            " 0.         0.         0.         0.         0.         0.\n",
            " 0.         0.         0.01176471 0.07058824 0.07058824 0.07058824\n",
            " 0.49411765 0.53333336 0.6862745  0.10196079 0.6509804  1.\n",
            " 0.96862745 0.49803922 0.         0.         0.         0.\n",
            " 0.         0.         0.         0.         0.         0.\n",
            " 0.         0.         0.11764706 0.14117648 0.36862746 0.6039216\n",
            " 0.6666667  0.99215686 0.99215686 0.99215686 0.99215686 0.99215686\n",
            " 0.88235295 0.6745098  0.99215686 0.9490196  0.7647059  0.2509804\n",
            " 0.         0.         0.         0.         0.         0.\n",
            " 0.         0.         0.         0.         0.         0.19215687\n",
            " 0.93333334 0.99215686 0.99215686 0.99215686 0.99215686 0.99215686\n",
            " 0.99215686 0.99215686 0.99215686 0.9843137  0.3647059  0.32156864\n",
            " 0.32156864 0.21960784 0.15294118 0.         0.         0.\n",
            " 0.         0.         0.         0.         0.         0.\n",
            " 0.         0.         0.         0.07058824 0.85882354 0.99215686\n",
            " 0.99215686 0.99215686 0.99215686 0.99215686 0.7764706  0.7137255\n",
            " 0.96862745 0.94509804 0.         0.         0.         0.\n",
            " 0.         0.         0.         0.         0.         0.\n",
            " 0.         0.         0.         0.         0.         0.\n",
            " 0.         0.         0.3137255  0.6117647  0.41960785 0.99215686\n",
            " 0.99215686 0.8039216  0.04313726 0.         0.16862746 0.6039216\n",
            " 0.         0.         0.         0.         0.         0.\n",
            " 0.         0.         0.         0.         0.         0.\n",
            " 0.         0.         0.         0.         0.         0.\n",
            " 0.         0.05490196 0.00392157 0.6039216  0.99215686 0.3529412\n",
            " 0.         0.         0.         0.         0.         0.\n",
            " 0.         0.         0.         0.         0.         0.\n",
            " 0.         0.         0.         0.         0.         0.\n",
            " 0.         0.         0.         0.         0.         0.\n",
            " 0.         0.54509807 0.99215686 0.74509805 0.00784314 0.\n",
            " 0.         0.         0.         0.         0.         0.\n",
            " 0.         0.         0.         0.         0.         0.\n",
            " 0.         0.         0.         0.         0.         0.\n",
            " 0.         0.         0.         0.         0.         0.04313726\n",
            " 0.74509805 0.99215686 0.27450982 0.         0.         0.\n",
            " 0.         0.         0.         0.         0.         0.\n",
            " 0.         0.         0.         0.         0.         0.\n",
            " 0.         0.         0.         0.         0.         0.\n",
            " 0.         0.         0.         0.         0.13725491 0.94509804\n",
            " 0.88235295 0.627451   0.42352942 0.00392157 0.         0.\n",
            " 0.         0.         0.         0.         0.         0.\n",
            " 0.         0.         0.         0.         0.         0.\n",
            " 0.         0.         0.         0.         0.         0.\n",
            " 0.         0.         0.         0.31764707 0.9411765  0.99215686\n",
            " 0.99215686 0.46666667 0.09803922 0.         0.         0.\n",
            " 0.         0.         0.         0.         0.         0.\n",
            " 0.         0.         0.         0.         0.         0.\n",
            " 0.         0.         0.         0.         0.         0.\n",
            " 0.         0.         0.1764706  0.7294118  0.99215686 0.99215686\n",
            " 0.5882353  0.10588235 0.         0.         0.         0.\n",
            " 0.         0.         0.         0.         0.         0.\n",
            " 0.         0.         0.         0.         0.         0.\n",
            " 0.         0.         0.         0.         0.         0.\n",
            " 0.         0.0627451  0.3647059  0.9882353  0.99215686 0.73333335\n",
            " 0.         0.         0.         0.         0.         0.\n",
            " 0.         0.         0.         0.         0.         0.\n",
            " 0.         0.         0.         0.         0.         0.\n",
            " 0.         0.         0.         0.         0.         0.\n",
            " 0.         0.9764706  0.99215686 0.9764706  0.2509804  0.\n",
            " 0.         0.         0.         0.         0.         0.\n",
            " 0.         0.         0.         0.         0.         0.\n",
            " 0.         0.         0.         0.         0.         0.\n",
            " 0.         0.         0.18039216 0.50980395 0.7176471  0.99215686\n",
            " 0.99215686 0.8117647  0.00784314 0.         0.         0.\n",
            " 0.         0.         0.         0.         0.         0.\n",
            " 0.         0.         0.         0.         0.         0.\n",
            " 0.         0.         0.         0.         0.15294118 0.5803922\n",
            " 0.8980392  0.99215686 0.99215686 0.99215686 0.98039216 0.7137255\n",
            " 0.         0.         0.         0.         0.         0.\n",
            " 0.         0.         0.         0.         0.         0.\n",
            " 0.         0.         0.         0.         0.         0.\n",
            " 0.09411765 0.44705883 0.8666667  0.99215686 0.99215686 0.99215686\n",
            " 0.99215686 0.7882353  0.30588236 0.         0.         0.\n",
            " 0.         0.         0.         0.         0.         0.\n",
            " 0.         0.         0.         0.         0.         0.\n",
            " 0.         0.         0.09019608 0.25882354 0.8352941  0.99215686\n",
            " 0.99215686 0.99215686 0.99215686 0.7764706  0.31764707 0.00784314\n",
            " 0.         0.         0.         0.         0.         0.\n",
            " 0.         0.         0.         0.         0.         0.\n",
            " 0.         0.         0.         0.         0.07058824 0.67058825\n",
            " 0.85882354 0.99215686 0.99215686 0.99215686 0.99215686 0.7647059\n",
            " 0.3137255  0.03529412 0.         0.         0.         0.\n",
            " 0.         0.         0.         0.         0.         0.\n",
            " 0.         0.         0.         0.         0.         0.\n",
            " 0.21568628 0.6745098  0.8862745  0.99215686 0.99215686 0.99215686\n",
            " 0.99215686 0.95686275 0.52156866 0.04313726 0.         0.\n",
            " 0.         0.         0.         0.         0.         0.\n",
            " 0.         0.         0.         0.         0.         0.\n",
            " 0.         0.         0.         0.         0.53333336 0.99215686\n",
            " 0.99215686 0.99215686 0.83137256 0.5294118  0.5176471  0.0627451\n",
            " 0.         0.         0.         0.         0.         0.\n",
            " 0.         0.         0.         0.         0.         0.\n",
            " 0.         0.         0.         0.         0.         0.\n",
            " 0.         0.         0.         0.         0.         0.\n",
            " 0.         0.         0.         0.         0.         0.\n",
            " 0.         0.         0.         0.         0.         0.\n",
            " 0.         0.         0.         0.         0.         0.\n",
            " 0.         0.         0.         0.         0.         0.\n",
            " 0.         0.         0.         0.         0.         0.\n",
            " 0.         0.         0.         0.         0.         0.\n",
            " 0.         0.         0.         0.         0.         0.\n",
            " 0.         0.         0.         0.         0.         0.\n",
            " 0.         0.         0.         0.         0.         0.\n",
            " 0.         0.         0.         0.         0.         0.\n",
            " 0.         0.         0.         0.         0.         0.\n",
            " 0.         0.         0.         0.         0.         0.\n",
            " 0.         0.         0.         0.        ]\n"
          ]
        }
      ],
      "source": [
        "X_train /= 255.0\n",
        "X_test /= 255.0\n",
        "# normalizes each pixel by dividing by its max value of 255 to make each value between 0-1\n",
        "print(X_train[0])\n",
        "# prints matrix representation of each pixel in image 1 showing normalized values"
      ]
    },
    {
      "cell_type": "code",
      "source": [
        "print(y_train.shape)\n",
        "print(y_test.shape)\n",
        "# 1 dimensional array"
      ],
      "metadata": {
        "colab": {
          "base_uri": "https://localhost:8080/"
        },
        "id": "GDXoLQSeN8C7",
        "outputId": "6f4ce3b9-5056-4213-eca3-8a3ad270b569"
      },
      "execution_count": 78,
      "outputs": [
        {
          "output_type": "stream",
          "name": "stdout",
          "text": [
            "(60000,)\n",
            "(10000,)\n"
          ]
        }
      ]
    },
    {
      "cell_type": "code",
      "source": [
        "y_train = to_categorical(y_train, 10)\n",
        "y_test = to_categorical(y_test, 10)\n",
        "# adding 10 bins for the 10 possible image classifications\n",
        "print(y_train.shape)\n",
        "print(y_test.shape)"
      ],
      "metadata": {
        "colab": {
          "base_uri": "https://localhost:8080/"
        },
        "id": "xAR-NHFaJ3Pr",
        "outputId": "4ffd25a1-fbae-4b52-f9e0-cd5e225ba8bc"
      },
      "execution_count": 79,
      "outputs": [
        {
          "output_type": "stream",
          "name": "stdout",
          "text": [
            "(60000, 10)\n",
            "(10000, 10)\n"
          ]
        }
      ]
    },
    {
      "cell_type": "markdown",
      "metadata": {
        "collapsed": true,
        "id": "J-3wqOahFWba"
      },
      "source": [
        "## Build a model"
      ]
    },
    {
      "cell_type": "markdown",
      "source": [
        "![Screenshot_20230120_051522.png](data:image/png;base64,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)"
      ],
      "metadata": {
        "id": "CKoMuU8LQGhD"
      }
    },
    {
      "cell_type": "code",
      "execution_count": 80,
      "metadata": {
        "id": "N45OlyykFWba"
      },
      "outputs": [],
      "source": [
        "model = Sequential()"
      ]
    },
    {
      "cell_type": "code",
      "execution_count": 81,
      "metadata": {
        "id": "DMC9Qh-yFWba"
      },
      "outputs": [],
      "source": [
        "model.add(Dense(512, activation='relu', input_shape=(784,)))\n",
        "# Input Layer of 784 nodes -> Hidden Layer 1 of 512 nodes\n",
        "model.add(Dense(512, activation='relu'))\n",
        "# Next to Hidden Layer 2 of 512 Nodes\n",
        "model.add(Dense(10, activation='softmax'))\n",
        "# Next to Output Layer of 10 nodes (classifications)\n",
        "\n",
        "# Dense = fully connected node"
      ]
    },
    {
      "cell_type": "markdown",
      "metadata": {
        "collapsed": true,
        "id": "e21fzYNVFWbb"
      },
      "source": [
        "## Compile the model"
      ]
    },
    {
      "cell_type": "code",
      "execution_count": 82,
      "metadata": {
        "id": "btRy2EdZFWbb"
      },
      "outputs": [],
      "source": [
        "model.compile(optimizer='adam', loss='categorical_crossentropy', metrics=['accuracy'])\n",
        "# optimizer = adam\n",
        "\n",
        "# loss function = categorical_crossentropy\n",
        "## output is 10 classes which is allowed by this loss function\n",
        "\n",
        "# metrics = accuracy"
      ]
    },
    {
      "cell_type": "code",
      "execution_count": 83,
      "metadata": {
        "colab": {
          "base_uri": "https://localhost:8080/"
        },
        "id": "XJl61FEuFWbb",
        "outputId": "815b027b-05b7-43e9-a1ca-9e25157e4c50"
      },
      "outputs": [
        {
          "output_type": "stream",
          "name": "stdout",
          "text": [
            "Model: \"sequential_1\"\n",
            "_________________________________________________________________\n",
            " Layer (type)                Output Shape              Param #   \n",
            "=================================================================\n",
            " dense_3 (Dense)             (None, 512)               401920    \n",
            "                                                                 \n",
            " dense_4 (Dense)             (None, 512)               262656    \n",
            "                                                                 \n",
            " dense_5 (Dense)             (None, 10)                5130      \n",
            "                                                                 \n",
            "=================================================================\n",
            "Total params: 669,706\n",
            "Trainable params: 669,706\n",
            "Non-trainable params: 0\n",
            "_________________________________________________________________\n"
          ]
        }
      ],
      "source": [
        "model.summary()\n",
        "# enables us to check model design"
      ]
    },
    {
      "cell_type": "code",
      "execution_count": 84,
      "metadata": {
        "colab": {
          "base_uri": "https://localhost:8080/"
        },
        "id": "rOc7B3J9FWbb",
        "outputId": "06d63bf7-72e4-4146-9a0f-160299802f85"
      },
      "outputs": [
        {
          "output_type": "execute_result",
          "data": {
            "text/plain": [
              "401920"
            ]
          },
          "metadata": {},
          "execution_count": 84
        }
      ],
      "source": [
        "784*512+512\n",
        "# = num of input nodes * num of output nodes + bias\n",
        "# num of Parameters for Input Layer to Hidden Layer 1"
      ]
    },
    {
      "cell_type": "code",
      "execution_count": 85,
      "metadata": {
        "colab": {
          "base_uri": "https://localhost:8080/"
        },
        "id": "_TeJ4kJnFWbb",
        "outputId": "a4f477e4-4c69-4a26-8138-c8eac7e4d209"
      },
      "outputs": [
        {
          "output_type": "execute_result",
          "data": {
            "text/plain": [
              "262656"
            ]
          },
          "metadata": {},
          "execution_count": 85
        }
      ],
      "source": [
        "512*512+512\n",
        "# = num of input nodes * num of output nodes + bias\n",
        "# num of Parameters for Hidden Layer 1 to Hidden Layer 2"
      ]
    },
    {
      "cell_type": "code",
      "execution_count": 86,
      "metadata": {
        "colab": {
          "base_uri": "https://localhost:8080/"
        },
        "outputId": "28af7ebe-7d8b-4a42-cd81-19da13fcd8b7",
        "id": "hp54Gha1Srqq"
      },
      "outputs": [
        {
          "output_type": "execute_result",
          "data": {
            "text/plain": [
              "5130"
            ]
          },
          "metadata": {},
          "execution_count": 86
        }
      ],
      "source": [
        "512*10+10\n",
        "# = num of input nodes * num of output nodes + bias\n",
        "# num of Parameters for Hidden Layer 2 to Output Layer"
      ]
    },
    {
      "cell_type": "markdown",
      "metadata": {
        "collapsed": true,
        "id": "7JHY2yDzFWbb"
      },
      "source": [
        "## Train the model"
      ]
    },
    {
      "cell_type": "code",
      "execution_count": 87,
      "metadata": {
        "colab": {
          "base_uri": "https://localhost:8080/"
        },
        "id": "fe9Q8uDOFWbb",
        "outputId": "52362cba-8787-4f6c-fc4d-1bca81983286"
      },
      "outputs": [
        {
          "output_type": "stream",
          "name": "stdout",
          "text": [
            "Epoch 1/20\n",
            "1875/1875 [==============================] - 15s 8ms/step - loss: 0.1843 - accuracy: 0.9438 - val_loss: 0.1127 - val_accuracy: 0.9664\n",
            "Epoch 2/20\n",
            "1875/1875 [==============================] - 15s 8ms/step - loss: 0.0807 - accuracy: 0.9747 - val_loss: 0.0771 - val_accuracy: 0.9745\n",
            "Epoch 3/20\n",
            "1875/1875 [==============================] - 13s 7ms/step - loss: 0.0564 - accuracy: 0.9824 - val_loss: 0.0795 - val_accuracy: 0.9771\n",
            "Epoch 4/20\n",
            "1875/1875 [==============================] - 11s 6ms/step - loss: 0.0425 - accuracy: 0.9864 - val_loss: 0.0842 - val_accuracy: 0.9770\n",
            "Epoch 5/20\n",
            "1875/1875 [==============================] - 12s 6ms/step - loss: 0.0350 - accuracy: 0.9884 - val_loss: 0.1110 - val_accuracy: 0.9727\n",
            "Epoch 6/20\n",
            "1875/1875 [==============================] - 11s 6ms/step - loss: 0.0273 - accuracy: 0.9914 - val_loss: 0.0930 - val_accuracy: 0.9775\n",
            "Epoch 7/20\n",
            "1875/1875 [==============================] - 12s 6ms/step - loss: 0.0249 - accuracy: 0.9922 - val_loss: 0.0909 - val_accuracy: 0.9802\n",
            "Epoch 8/20\n",
            "1875/1875 [==============================] - 11s 6ms/step - loss: 0.0227 - accuracy: 0.9933 - val_loss: 0.0911 - val_accuracy: 0.9807\n",
            "Epoch 9/20\n",
            "1875/1875 [==============================] - 11s 6ms/step - loss: 0.0232 - accuracy: 0.9932 - val_loss: 0.0962 - val_accuracy: 0.9801\n",
            "Epoch 10/20\n",
            "1875/1875 [==============================] - 12s 6ms/step - loss: 0.0171 - accuracy: 0.9948 - val_loss: 0.1070 - val_accuracy: 0.9797\n",
            "Epoch 11/20\n",
            "1875/1875 [==============================] - 12s 6ms/step - loss: 0.0176 - accuracy: 0.9948 - val_loss: 0.0878 - val_accuracy: 0.9826\n",
            "Epoch 12/20\n",
            "1875/1875 [==============================] - 11s 6ms/step - loss: 0.0167 - accuracy: 0.9951 - val_loss: 0.1228 - val_accuracy: 0.9784\n",
            "Epoch 13/20\n",
            "1875/1875 [==============================] - 11s 6ms/step - loss: 0.0152 - accuracy: 0.9954 - val_loss: 0.1135 - val_accuracy: 0.9810\n",
            "Epoch 14/20\n",
            "1875/1875 [==============================] - 12s 6ms/step - loss: 0.0173 - accuracy: 0.9952 - val_loss: 0.1121 - val_accuracy: 0.9816\n",
            "Epoch 15/20\n",
            "1875/1875 [==============================] - 13s 7ms/step - loss: 0.0129 - accuracy: 0.9964 - val_loss: 0.1110 - val_accuracy: 0.9799\n",
            "Epoch 16/20\n",
            "1875/1875 [==============================] - 12s 6ms/step - loss: 0.0139 - accuracy: 0.9965 - val_loss: 0.1347 - val_accuracy: 0.9803\n",
            "Epoch 17/20\n",
            "1875/1875 [==============================] - 12s 6ms/step - loss: 0.0123 - accuracy: 0.9967 - val_loss: 0.1397 - val_accuracy: 0.9800\n",
            "Epoch 18/20\n",
            "1875/1875 [==============================] - 13s 7ms/step - loss: 0.0136 - accuracy: 0.9963 - val_loss: 0.1451 - val_accuracy: 0.9791\n",
            "Epoch 19/20\n",
            "1875/1875 [==============================] - 12s 7ms/step - loss: 0.0114 - accuracy: 0.9970 - val_loss: 0.1350 - val_accuracy: 0.9833\n",
            "Epoch 20/20\n",
            "1875/1875 [==============================] - 12s 7ms/step - loss: 0.0154 - accuracy: 0.9963 - val_loss: 0.1333 - val_accuracy: 0.9812\n"
          ]
        }
      ],
      "source": [
        "history = model.fit(X_train, y_train, epochs=20, validation_data=(X_test, y_test))"
      ]
    },
    {
      "cell_type": "markdown",
      "metadata": {
        "id": "QVA3PfakFWbc"
      },
      "source": [
        "## What is the accuracy of the model?"
      ]
    },
    {
      "cell_type": "markdown",
      "metadata": {
        "id": "zXpPDPywFWbc"
      },
      "source": [
        "### Plot the accuracy of the training model"
      ]
    },
    {
      "cell_type": "code",
      "execution_count": 90,
      "metadata": {
        "colab": {
          "base_uri": "https://localhost:8080/",
          "height": 282
        },
        "id": "kUIKS-H_FWbc",
        "outputId": "e6e83ccb-8852-4304-85c7-9ae1c15eb069"
      },
      "outputs": [
        {
          "output_type": "execute_result",
          "data": {
            "text/plain": [
              "[<matplotlib.lines.Line2D at 0x7f6aba7f4a30>]"
            ]
          },
          "metadata": {},
          "execution_count": 90
        },
        {
          "output_type": "display_data",
          "data": {
            "text/plain": [
              "<Figure size 432x288 with 1 Axes>"
            ],
            "image/png": "[encoded data removed]"
          },
          "metadata": {
            "needs_background": "light"
          }
        }
      ],
      "source": [
        "plt.plot(history.history['accuracy'])"
      ]
    },
    {
      "cell_type": "markdown",
      "metadata": {
        "collapsed": true,
        "id": "zTFp_F83FWbc"
      },
      "source": [
        "### Plot the accuracy of training and validation set"
      ]
    },
    {
      "cell_type": "code",
      "execution_count": 95,
      "metadata": {
        "colab": {
          "base_uri": "https://localhost:8080/",
          "height": 282
        },
        "id": "EqLDDseoFWbc",
        "outputId": "1b60f2ce-0379-4a92-93bb-64adef6237a2"
      },
      "outputs": [
        {
          "output_type": "execute_result",
          "data": {
            "text/plain": [
              "[<matplotlib.lines.Line2D at 0x7f6aba68df10>]"
            ]
          },
          "metadata": {},
          "execution_count": 95
        },
        {
          "output_type": "display_data",
          "data": {
            "text/plain": [
              "<Figure size 432x288 with 1 Axes>"
            ],
            "image/png": "[encoded data removed]"
          },
          "metadata": {
            "needs_background": "light"
          }
        }
      ],
      "source": [
        "plt.plot(history.history['accuracy'])\n",
        "plt.plot(history.history['val_accuracy'])"
      ]
    },
    {
      "cell_type": "markdown",
      "metadata": {
        "collapsed": true,
        "id": "-eLXa7MCFWbc"
      },
      "source": [
        "### Accuracy of training and validation with loss"
      ]
    },
    {
      "cell_type": "code",
      "execution_count": 97,
      "metadata": {
        "colab": {
          "base_uri": "https://localhost:8080/",
          "height": 282
        },
        "id": "57FvG-bLFWbd",
        "outputId": "5369e0ec-7d5f-48d0-e3eb-10f7a960c33f"
      },
      "outputs": [
        {
          "output_type": "execute_result",
          "data": {
            "text/plain": [
              "[<matplotlib.lines.Line2D at 0x7f6aba5c3730>]"
            ]
          },
          "metadata": {},
          "execution_count": 97
        },
        {
          "output_type": "display_data",
          "data": {
            "text/plain": [
              "<Figure size 432x288 with 1 Axes>"
            ],
            "image/png": "[encoded data removed]"
          },
          "metadata": {
            "needs_background": "light"
          }
        }
      ],
      "source": [
        "plt.plot(history.history['accuracy'])\n",
        "plt.plot(history.history['val_accuracy'])\n",
        "plt.plot(history.history['loss'])"
      ]
    },
    {
      "cell_type": "markdown",
      "source": [
        "## Evaluating the model"
      ],
      "metadata": {
        "id": "WTaKtXThVJJ1"
      }
    },
    {
      "cell_type": "code",
      "source": [
        "score = model.evaluate(X_test, y_test)\n",
        "score\n",
        "# accuracy is around 98.11% for the model"
      ],
      "metadata": {
        "colab": {
          "base_uri": "https://localhost:8080/"
        },
        "id": "hrS9Xk76VNrw",
        "outputId": "dbe75625-1ee0-46b7-e230-d74012cab6bf"
      },
      "execution_count": 98,
      "outputs": [
        {
          "output_type": "stream",
          "name": "stdout",
          "text": [
            "313/313 [==============================] - 1s 3ms/step - loss: 0.1333 - accuracy: 0.9812\n"
          ]
        },
        {
          "output_type": "execute_result",
          "data": {
            "text/plain": [
              "[0.13333487510681152, 0.9811999797821045]"
            ]
          },
          "metadata": {},
          "execution_count": 98
        }
      ]
    },
    {
      "cell_type": "markdown",
      "metadata": {
        "collapsed": true,
        "id": "aqfr0zLRFWbd"
      },
      "source": [
        "## Run a prediction"
      ]
    },
    {
      "cell_type": "code",
      "execution_count": 47,
      "metadata": {
        "id": "cRFA3f_SFWbd"
      },
      "outputs": [],
      "source": []
    },
    {
      "cell_type": "code",
      "execution_count": 47,
      "metadata": {
        "id": "nfxvi3Z4FWbd"
      },
      "outputs": [],
      "source": []
    },
    {
      "cell_type": "code",
      "execution_count": 47,
      "metadata": {
        "id": "f5Y2niGAFWbd"
      },
      "outputs": [],
      "source": []
    },
    {
      "cell_type": "code",
      "execution_count": 47,
      "metadata": {
        "id": "MiF1AMoFFWbd"
      },
      "outputs": [],
      "source": []
    },
    {
      "cell_type": "markdown",
      "metadata": {
        "collapsed": true,
        "id": "JKHDVNwbFWbd"
      },
      "source": [
        "## Experiment further\n",
        "- What results do you get with a model with more than 2 hidden layers and more/less neurons\n",
        "- What results do you get when trying to use another activation function?"
      ]
    },
    {
      "cell_type": "code",
      "execution_count": 47,
      "metadata": {
        "id": "5qLiZI2YFWbe"
      },
      "outputs": [],
      "source": []
    },
    {
      "cell_type": "code",
      "execution_count": 47,
      "metadata": {
        "id": "5Nfzz58wFWbe"
      },
      "outputs": [],
      "source": []
    },
    {
      "cell_type": "code",
      "execution_count": 47,
      "metadata": {
        "id": "dsuOrfMDFWbe"
      },
      "outputs": [],
      "source": []
    },
    {
      "cell_type": "code",
      "execution_count": 47,
      "metadata": {
        "id": "0ikdXUXVFWbe"
      },
      "outputs": [],
      "source": []
    },
    {
      "cell_type": "code",
      "execution_count": 47,
      "metadata": {
        "id": "Q1-H8bhTFWbe"
      },
      "outputs": [],
      "source": []
    },
    {
      "cell_type": "code",
      "execution_count": 47,
      "metadata": {
        "id": "1Hsez9EGFWbe"
      },
      "outputs": [],
      "source": []
    },
    {
      "cell_type": "code",
      "execution_count": 47,
      "metadata": {
        "id": "dFBOEguLFWbe"
      },
      "outputs": [],
      "source": []
    },
    {
      "cell_type": "code",
      "execution_count": 47,
      "metadata": {
        "id": "GqekYbcRFWbe"
      },
      "outputs": [],
      "source": []
    },
    {
      "cell_type": "code",
      "execution_count": 47,
      "metadata": {
        "id": "nMi_yHCJFWbf"
      },
      "outputs": [],
      "source": []
    },
    {
      "cell_type": "code",
      "execution_count": 47,
      "metadata": {
        "id": "Iah5rFxwFWbf"
      },
      "outputs": [],
      "source": []
    },
    {
      "cell_type": "code",
      "execution_count": 47,
      "metadata": {
        "id": "1JuxaXgZFWbf"
      },
      "outputs": [],
      "source": []
    },
    {
      "cell_type": "code",
      "execution_count": 47,
      "metadata": {
        "id": "hWzOR0wxFWbf"
      },
      "outputs": [],
      "source": []
    },
    {
      "cell_type": "code",
      "execution_count": 47,
      "metadata": {
        "id": "8cyg_Wc2FWbf"
      },
      "outputs": [],
      "source": []
    },
    {
      "cell_type": "code",
      "execution_count": 47,
      "metadata": {
        "id": "FxiENfjZFWbf"
      },
      "outputs": [],
      "source": []
    },
    {
      "cell_type": "code",
      "execution_count": 47,
      "metadata": {
        "id": "Jac1UAh6FWbf"
      },
      "outputs": [],
      "source": []
    },
    {
      "cell_type": "code",
      "execution_count": 47,
      "metadata": {
        "id": "NNGhlMUnFWbf"
      },
      "outputs": [],
      "source": []
    },
    {
      "cell_type": "code",
      "execution_count": 47,
      "metadata": {
        "id": "ilvMDyPCFWbg"
      },
      "outputs": [],
      "source": []
    },
    {
      "cell_type": "code",
      "execution_count": 47,
      "metadata": {
        "id": "lmgta0oDFWbg"
      },
      "outputs": [],
      "source": []
    },
    {
      "cell_type": "code",
      "execution_count": 47,
      "metadata": {
        "id": "JKz3ItZ3FWbg"
      },
      "outputs": [],
      "source": []
    },
    {
      "cell_type": "code",
      "execution_count": 47,
      "metadata": {
        "id": "MIg9-XSTFWbg"
      },
      "outputs": [],
      "source": []
    },
    {
      "cell_type": "code",
      "execution_count": 47,
      "metadata": {
        "id": "YEISEaS8FWbg"
      },
      "outputs": [],
      "source": []
    },
    {
      "cell_type": "code",
      "execution_count": 47,
      "metadata": {
        "id": "Q9NO-LooFWbg"
      },
      "outputs": [],
      "source": []
    },
    {
      "cell_type": "code",
      "execution_count": 47,
      "metadata": {
        "id": "ZTOumJUKFWbg"
      },
      "outputs": [],
      "source": []
    },
    {
      "cell_type": "code",
      "execution_count": 47,
      "metadata": {
        "id": "bSWqu90jFWbg"
      },
      "outputs": [],
      "source": []
    },
    {
      "cell_type": "code",
      "execution_count": 47,
      "metadata": {
        "id": "GWV5Nq82FWbg"
      },
      "outputs": [],
      "source": []
    },
    {
      "cell_type": "code",
      "execution_count": 47,
      "metadata": {
        "id": "-GgEFUiuFWbg"
      },
      "outputs": [],
      "source": []
    },
    {
      "cell_type": "code",
      "execution_count": 47,
      "metadata": {
        "id": "8eI4hD4TFWbh"
      },
      "outputs": [],
      "source": []
    },
    {
      "cell_type": "code",
      "execution_count": 47,
      "metadata": {
        "id": "F7VclfheFWbh"
      },
      "outputs": [],
      "source": []
    },
    {
      "cell_type": "code",
      "execution_count": 47,
      "metadata": {
        "id": "Fz0xyQ3uFWbh"
      },
      "outputs": [],
      "source": []
    },
    {
      "cell_type": "code",
      "execution_count": 47,
      "metadata": {
        "id": "0PUkXxFuFWbh"
      },
      "outputs": [],
      "source": []
    },
    {
      "cell_type": "code",
      "execution_count": 47,
      "metadata": {
        "id": "ZUuTrR9-FWbh"
      },
      "outputs": [],
      "source": []
    },
    {
      "cell_type": "code",
      "execution_count": 47,
      "metadata": {
        "id": "S5hhkXfaFWbh"
      },
      "outputs": [],
      "source": []
    },
    {
      "cell_type": "code",
      "execution_count": 47,
      "metadata": {
        "id": "-MM0QnM0FWbh"
      },
      "outputs": [],
      "source": []
    },
    {
      "cell_type": "code",
      "execution_count": 47,
      "metadata": {
        "id": "d1wWkk5-FWbh"
      },
      "outputs": [],
      "source": []
    },
    {
      "cell_type": "code",
      "execution_count": 47,
      "metadata": {
        "id": "_dbJ7ajqFWbh"
      },
      "outputs": [],
      "source": []
    },
    {
      "cell_type": "code",
      "execution_count": 47,
      "metadata": {
        "id": "4JjqYhALFWbh"
      },
      "outputs": [],
      "source": []
    },
    {
      "cell_type": "code",
      "execution_count": 47,
      "metadata": {
        "id": "tVF-3pSHFWbi"
      },
      "outputs": [],
      "source": []
    },
    {
      "cell_type": "code",
      "execution_count": 47,
      "metadata": {
        "id": "mG8vRYSzFWbi"
      },
      "outputs": [],
      "source": []
    },
    {
      "cell_type": "markdown",
      "metadata": {
        "id": "jGcd79kNFWbi"
      },
      "source": [
        "# Convolution Neural Network"
      ]
    },
    {
      "cell_type": "markdown",
      "metadata": {
        "collapsed": true,
        "id": "Sed-13e_FWbi"
      },
      "source": [
        "## Import the libraries"
      ]
    }
  ],
  "metadata": {
    "kernelspec": {
      "display_name": "Python 3",
      "language": "python",
      "name": "python3"
    },
    "language_info": {
      "codemirror_mode": {
        "name": "ipython",
        "version": 3
      },
      "file_extension": ".py",
      "mimetype": "text/x-python",
      "name": "python",
      "nbconvert_exporter": "python",
      "pygments_lexer": "ipython3",
      "version": "3.6.4"
    },
    "colab": {
      "provenance": [],
      "include_colab_link": true
    }
  },
  "nbformat": 4,
  "nbformat_minor": 0
}