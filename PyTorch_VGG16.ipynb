{
  "nbformat": 4,
  "nbformat_minor": 0,
  "metadata": {
    "colab": {
      "provenance": [],
      "include_colab_link": true
    },
    "kernelspec": {
      "name": "python3",
      "display_name": "Python 3"
    },
    "language_info": {
      "name": "python"
    },
    "gpuClass": "standard",
    "accelerator": "GPU"
  },
  "cells": [
    {
      "cell_type": "markdown",
      "metadata": {
        "id": "view-in-github",
        "colab_type": "text"
      },
      "source": [
        "<a href=\"https://colab.research.google.com/github/Antonio-Villarreal/Deep-Learning-For-Dummies/blob/main/PyTorch_VGG16.ipynb\" target=\"_parent\"><img src=\"https://colab.research.google.com/assets/colab-badge.svg\" alt=\"Open In Colab\"/></a>"
      ]
    },
    {
      "cell_type": "code",
      "source": [
        "from google.colab import drive\n",
        "drive.mount('/content/gdrive')"
      ],
      "metadata": {
        "colab": {
          "base_uri": "https://localhost:8080/"
        },
        "id": "JfjCMRP6HXoS",
        "outputId": "38440592-0b22-42a9-f2e1-8e200c889fd8"
      },
      "execution_count": 12,
      "outputs": [
        {
          "output_type": "stream",
          "name": "stdout",
          "text": [
            "Drive already mounted at /content/gdrive; to attempt to forcibly remount, call drive.mount(\"/content/gdrive\", force_remount=True).\n"
          ]
        }
      ]
    },
    {
      "cell_type": "code",
      "source": [
        "import torch\n",
        "import torchvision\n",
        "import torchvision.transforms as transforms"
      ],
      "metadata": {
        "id": "NqDEeGqk-n3r"
      },
      "execution_count": 13,
      "outputs": []
    },
    {
      "cell_type": "code",
      "source": [
        "# Load the CIFAR10 dataset\n",
        "train_dataset = torchvision.datasets.CIFAR10(root='data/', train=True, transform=transforms.ToTensor(), download=True)\n",
        "test_dataset = torchvision.datasets.CIFAR10(root='data/', train=False, transform=transforms.ToTensor(), download=True)\n",
        "\n",
        "# Split the dataset into train and test sets\n",
        "train_loader = torch.utils.data.DataLoader(train_dataset, batch_size=32, shuffle=True)\n",
        "test_loader = torch.utils.data.DataLoader(test_dataset, batch_size=32, shuffle=False)\n",
        "\n",
        "# Normalize the pixel values\n",
        "mean = [0.4914, 0.4822, 0.4465]\n",
        "std = [0.2023, 0.1994, 0.2010]\n",
        "normalize = transforms.Normalize(mean=mean, std=std)\n",
        "\n",
        "# Apply normalization to the train and test datasets\n",
        "train_dataset.transform = transforms.Compose([transforms.ToTensor(), normalize])\n",
        "test_dataset.transform = transforms.Compose([transforms.ToTensor(), normalize])"
      ],
      "metadata": {
        "colab": {
          "base_uri": "https://localhost:8080/"
        },
        "id": "e6_D2YgS-n1A",
        "outputId": "942e71a4-66cc-4934-900f-3fb46f8dd6a4"
      },
      "execution_count": 14,
      "outputs": [
        {
          "output_type": "stream",
          "name": "stdout",
          "text": [
            "Files already downloaded and verified\n",
            "Files already downloaded and verified\n"
          ]
        }
      ]
    },
    {
      "cell_type": "code",
      "source": [
        "import torch\n",
        "import torch.nn as nn\n",
        "import torch.nn.functional as F"
      ],
      "metadata": {
        "id": "r_Cgxozh-nxt"
      },
      "execution_count": 15,
      "outputs": []
    },
    {
      "cell_type": "markdown",
      "source": [
        "# CNN"
      ],
      "metadata": {
        "id": "0GrprGUediR8"
      }
    },
    {
      "cell_type": "code",
      "source": [
        "# WORKS\n",
        "\n",
        "# class VGG16(nn.Module):\n",
        "#     def __init__(self):\n",
        "#         super(VGG16, self).__init__()\n",
        "#         self.conv1 = nn.Conv2d(3, 64, kernel_size=3, padding=1)\n",
        "#         self.conv2 = nn.Conv2d(64, 64, kernel_size=3, padding=1)\n",
        "#         self.pool = nn.MaxPool2d(2, 2)\n",
        "#         self.fc1 = nn.Linear(64 * 8 * 8, 4096)\n",
        "#         self.fc2 = nn.Linear(4096, 4096)\n",
        "#         self.fc3 = nn.Linear(4096, 10)\n",
        "\n",
        "#     def forward(self, x):\n",
        "#         x = self.pool(F.relu(self.conv1(x)))\n",
        "#         x = self.pool(F.relu(self.conv2(x)))\n",
        "#         x = x.view(-1, 64 * 8 * 8)\n",
        "#         x = F.relu(self.fc1(x))\n",
        "#         x = F.relu(self.fc2(x))\n",
        "#         x = self.fc3(x)\n",
        "#         return x"
      ],
      "metadata": {
        "id": "Z-gtUf4NCaLS"
      },
      "execution_count": 16,
      "outputs": []
    },
    {
      "cell_type": "markdown",
      "source": [
        "# VGG16"
      ],
      "metadata": {
        "id": "cxkN7ON1ddzi"
      }
    },
    {
      "cell_type": "code",
      "source": [
        "# First Epoch 9% or 10%\n",
        "\n",
        "# import torch\n",
        "# import torch.nn as nn\n",
        "# import torch.nn.functional as F\n",
        "\n",
        "# class VGG16(nn.Module):\n",
        "#     def __init__(self):\n",
        "#         super(VGG16, self).__init__()\n",
        "#         self.conv1 = nn.Conv2d(3, 64, 3, padding=1)\n",
        "#         self.conv2 = nn.Conv2d(64, 64, 3, padding=1)\n",
        "#         self.pool1 = nn.MaxPool2d(2, 2)\n",
        "#         self.conv3 = nn.Conv2d(64, 128, 3, padding=1)\n",
        "#         self.conv4 = nn.Conv2d(128, 128, 3, padding=1)\n",
        "#         self.pool2 = nn.MaxPool2d(2, 2)\n",
        "#         self.conv5 = nn.Conv2d(128, 256, 3, padding=1)\n",
        "#         self.conv6 = nn.Conv2d(256, 256, 3, padding=1)\n",
        "#         self.conv7 = nn.Conv2d(256, 256, 3, padding=1)\n",
        "#         self.pool3 = nn.MaxPool2d(2, 2)\n",
        "#         self.conv8 = nn.Conv2d(256, 512, 3, padding=1)\n",
        "#         self.conv9 = nn.Conv2d(512, 512, 3, padding=1)\n",
        "#         self.conv10 = nn.Conv2d(512, 512, 3, padding=1)\n",
        "#         self.pool4 = nn.MaxPool2d(2, 2)\n",
        "#         self.conv11 = nn.Conv2d(512, 512, 3, padding=1)\n",
        "#         self.conv12 = nn.Conv2d(512, 512, 3, padding=1)\n",
        "#         self.conv13 = nn.Conv2d(512, 512, 3, padding=1)\n",
        "#         self.pool5 = nn.MaxPool2d(2, 2)\n",
        "#         self.fc1 = nn.Linear(512, 4096)\n",
        "#         self.fc2 = nn.Linear(4096, 4096)\n",
        "#         self.fc3 = nn.Linear(4096, 10)\n",
        "\n",
        "#     def forward(self, x):\n",
        "#         x = F.relu(self.conv1(x))\n",
        "#         x = F.relu(self.conv2(x))\n",
        "#         x = self.pool1(x)\n",
        "#         x = F.relu(self.conv3(x))\n",
        "#         x = F.relu(self.conv4(x))\n",
        "#         x = self.pool2(x)\n",
        "#         x = F.relu(self.conv5(x))\n",
        "#         x = F.relu(self.conv6(x))\n",
        "#         x = F.relu(self.conv7(x))\n",
        "#         x = self.pool3(x)\n",
        "#         x = F.relu(self.conv8(x))\n",
        "#         x = F.relu(self.conv9(x))\n",
        "#         x = F.relu(self.conv10(x))\n",
        "#         x = self.pool4(x)\n",
        "#         x = F.relu(self.conv11(x))\n",
        "#         x = F.relu(self.conv12(x))\n",
        "#         x = F.relu(self.conv13(x))\n",
        "#         x = self.pool5(x)\n",
        "#         x = x.view(-1, 512)\n",
        "#         x = F.relu(self.fc1(x))\n",
        "#         x = F.relu(self.fc2(x))\n",
        "#         x = self.fc3(x)\n",
        "#         return x"
      ],
      "metadata": {
        "id": "Z_zZhnmeSf5J"
      },
      "execution_count": 17,
      "outputs": []
    },
    {
      "cell_type": "markdown",
      "source": [
        "# Improved VGG16"
      ],
      "metadata": {
        "id": "ut5N_7vUdakJ"
      }
    },
    {
      "cell_type": "code",
      "source": [
        "import torch\n",
        "import torch.nn as nn\n",
        "import torch.nn.functional as F\n",
        "\n",
        "class VGG16(nn.Module):\n",
        "    def __init__(self, num_classes=10):\n",
        "        super(VGG16, self).__init__()\n",
        "        self.conv1 = nn.Conv2d(3, 64, kernel_size=3, stride=1, padding=1)\n",
        "        self.bn1 = nn.BatchNorm2d(64)\n",
        "        self.conv2 = nn.Conv2d(64, 64, kernel_size=3, stride=1, padding=1)\n",
        "        self.bn2 = nn.BatchNorm2d(64)\n",
        "        self.pool1 = nn.MaxPool2d(kernel_size=2, stride=2)\n",
        "        self.conv3 = nn.Conv2d(64, 128, kernel_size=3, stride=1, padding=1)\n",
        "        self.bn3 = nn.BatchNorm2d(128)\n",
        "        self.conv4 = nn.Conv2d(128, 128, kernel_size=3, stride=1, padding=1)\n",
        "        self.bn4 = nn.BatchNorm2d(128)\n",
        "        self.pool2 = nn.MaxPool2d(kernel_size=2, stride=2)\n",
        "        self.conv5 = nn.Conv2d(128, 256, kernel_size=3, stride=1, padding=1)\n",
        "        self.bn5 = nn.BatchNorm2d(256)\n",
        "        self.conv6 = nn.Conv2d(256, 256, kernel_size=3, stride=1, padding=1)\n",
        "        self.bn6 = nn.BatchNorm2d(256)\n",
        "        self.conv7 = nn.Conv2d(256, 256, kernel_size=3, stride=1, padding=1)\n",
        "        self.bn7 = nn.BatchNorm2d(256)\n",
        "        self.pool3 = nn.MaxPool2d(kernel_size=2, stride=2)\n",
        "        self.fc1 = nn.Linear(256 * 4 * 4, 512)\n",
        "        self.fc2 = nn.Linear(512, 512)\n",
        "        self.fc3 = nn.Linear(512, num_classes)\n",
        "        self.dropout = nn.Dropout(0.5)\n",
        "\n",
        "    def forward(self, x):\n",
        "        x = F.relu(self.bn1(self.conv1(x)))\n",
        "        x = F.relu(self.bn2(self.conv2(x)))\n",
        "        x = self.pool1(x)\n",
        "        x = F.relu(self.bn3(self.conv3(x)))\n",
        "        x = F.relu(self.bn4(self.conv4(x)))\n",
        "        x = self.pool2(x)\n",
        "        x = F.relu(self.bn5(self.conv5(x)))\n",
        "        x = F.relu(self.bn6(self.conv6(x)))\n",
        "        x = F.relu(self.bn7(self.conv7(x)))\n",
        "        x = self.pool3(x)\n",
        "        x = x.view(-1, 256 * 4 * 4)\n",
        "        x = F.relu(self.fc1(x))\n",
        "        x = self.dropout(x)\n",
        "        x = F.relu(self.fc2(x))\n",
        "        x = self.dropout(x)\n",
        "        x = self.fc3(x)\n",
        "        return x\n"
      ],
      "metadata": {
        "id": "QV8hWO8Zc1JR"
      },
      "execution_count": 18,
      "outputs": []
    },
    {
      "cell_type": "code",
      "source": [
        "model = VGG16()"
      ],
      "metadata": {
        "id": "it7mMpUD-nu3"
      },
      "execution_count": 19,
      "outputs": []
    },
    {
      "cell_type": "code",
      "source": [
        "import torch.optim as optim\n",
        "\n",
        "# Define the loss function and optimizer\n",
        "criterion = nn.CrossEntropyLoss()\n",
        "optimizer = optim.SGD(model.parameters(), lr=0.001, momentum=0.9)"
      ],
      "metadata": {
        "id": "ZS8UQdAb-nms"
      },
      "execution_count": 20,
      "outputs": []
    },
    {
      "cell_type": "code",
      "source": [
        "# # Train the model\n",
        "# for epoch in range(5):\n",
        "#   running_loss = 0.0\n",
        "#   for i, data in enumerate(train_loader, 0):\n",
        "#     inputs, labels = data\n",
        "#     optimizer.zero_grad()\n",
        "\n",
        "#     outputs = model(inputs)\n",
        "#     loss = criterion(outputs, labels)\n",
        "#     loss.backward()\n",
        "#     optimizer.step()\n",
        "\n",
        "#     running_loss += loss.item()\n",
        "#   if (epoch + 1) % 10 == 0:\n",
        "#     print(\"Epoch: %d, Loss: %.4f\" % (epoch + 1, running_loss / 2000))"
      ],
      "metadata": {
        "id": "rdivKgiMBRyQ"
      },
      "execution_count": 21,
      "outputs": []
    },
    {
      "cell_type": "code",
      "source": [
        "# WORKS\n",
        "\n",
        "# Train the model\n",
        "for epoch in range(20):\n",
        "    model.train()\n",
        "    train_loss = 0\n",
        "    correct = 0\n",
        "    total = 0\n",
        "    for inputs, labels in train_loader:\n",
        "        optimizer.zero_grad()\n",
        "        outputs = model(inputs)\n",
        "        loss = criterion(outputs, labels)\n",
        "        loss.backward()\n",
        "        optimizer.step()\n",
        "\n",
        "        train_loss += loss.item()\n",
        "        _, predicted = torch.max(outputs.data, 1)\n",
        "        total += labels.size(0)\n",
        "        correct += (predicted == labels).sum().item()\n",
        "\n",
        "    train_loss /= len(train_loader.dataset)\n",
        "    train_accuracy = 100 * correct / total\n",
        "\n",
        "    model.eval()\n",
        "    val_loss = 0\n",
        "    correct = 0\n",
        "    total = 0\n",
        "    with torch.no_grad():\n",
        "        for inputs, labels in test_loader:\n",
        "            outputs = model(inputs)\n",
        "            loss = criterion(outputs, labels)\n",
        "            val_loss += loss.item()\n",
        "            _, predicted = torch.max(outputs.data, 1)\n",
        "            total += labels.size(0)\n",
        "            correct += (predicted == labels).sum().item()\n",
        "    val_loss /= len(test_loader.dataset)\n",
        "    val_accuracy = 100 * correct / total\n",
        "\n",
        "    print('Epoch: {}/20'.format(epoch+1))\n",
        "    print('Training Loss: {:.4f}, Accuracy: {:.2f}%'.format(train_loss, train_accuracy))\n",
        "    print('Validation Loss: {:.4f}, Accuracy: {:.2f}%'.format(val_loss, val_accuracy))"
      ],
      "metadata": {
        "id": "QQCHKn0yEpHc",
        "colab": {
          "base_uri": "https://localhost:8080/"
        },
        "outputId": "a37beccf-976a-4bb6-dd72-694c857c1f1e"
      },
      "execution_count": null,
      "outputs": [
        {
          "output_type": "stream",
          "name": "stdout",
          "text": [
            "Epoch: 1/20\n",
            "Training Loss: 0.0454, Accuracy: 46.16%\n",
            "Validation Loss: 0.0331, Accuracy: 61.49%\n",
            "Epoch: 2/20\n",
            "Training Loss: 0.0296, Accuracy: 66.58%\n",
            "Validation Loss: 0.0253, Accuracy: 72.03%\n",
            "Epoch: 3/20\n",
            "Training Loss: 0.0233, Accuracy: 74.21%\n",
            "Validation Loss: 0.0221, Accuracy: 75.13%\n",
            "Epoch: 4/20\n",
            "Training Loss: 0.0194, Accuracy: 78.55%\n",
            "Validation Loss: 0.0193, Accuracy: 78.65%\n",
            "Epoch: 5/20\n",
            "Training Loss: 0.0166, Accuracy: 81.90%\n",
            "Validation Loss: 0.0175, Accuracy: 81.10%\n",
            "Epoch: 6/20\n",
            "Training Loss: 0.0140, Accuracy: 84.59%\n",
            "Validation Loss: 0.0189, Accuracy: 79.71%\n",
            "Epoch: 7/20\n",
            "Training Loss: 0.0121, Accuracy: 86.83%\n",
            "Validation Loss: 0.0193, Accuracy: 80.00%\n",
            "Epoch: 8/20\n",
            "Training Loss: 0.0104, Accuracy: 88.77%\n",
            "Validation Loss: 0.0202, Accuracy: 80.10%\n"
          ]
        }
      ]
    },
    {
      "cell_type": "code",
      "source": [
        "import torch\n",
        "\n",
        "# Save the model\n",
        "torch.save(model, '/content/gdrive/MyDrive/Deep Learning/model.pt')\n",
        "\n",
        "# Load the model\n",
        "model = VGG16()\n",
        "model.load_state_dict(torch.load('/content/gdrive/MyDrive/Deep Learning/model.pt'))"
      ],
      "metadata": {
        "id": "0qlc3eDfGA3o"
      },
      "execution_count": null,
      "outputs": []
    },
    {
      "cell_type": "code",
      "source": [
        "import matplotlib.pyplot as plt\n",
        "\n",
        "def predict(model, inputs):\n",
        "    model.eval()\n",
        "    with torch.no_grad():\n",
        "        outputs = model(inputs)\n",
        "        _, predicted = torch.max(outputs.data, 1)\n",
        "    return predicted"
      ],
      "metadata": {
        "id": "mAlPbFWKFpKo"
      },
      "execution_count": null,
      "outputs": []
    },
    {
      "cell_type": "code",
      "source": [
        "# Load your trained model\n",
        "model = VGG16()\n",
        "model.load_state_dict(torch.load('/content/gdrive/MyDrive/Deep Learning/model.pt'))\n",
        "\n",
        "# Load an image and convert it to a tensor\n",
        "from PIL import Image\n",
        "import torchvision.transforms as transforms\n",
        "img = Image.open(\"/content/gdrive/MyDrive/Deep Learning/image.jpg\")\n",
        "transform = transforms.Compose([transforms.Resize((224, 224)),\n",
        "                                transforms.ToTensor(),\n",
        "                                transforms.Normalize((0.5, 0.5, 0.5), (0.5, 0.5, 0.5))])\n",
        "img_tensor = transform(img).unsqueeze(0)\n",
        "\n",
        "# Make a prediction\n",
        "predicted = predict(model, img_tensor)\n",
        "print(\"Prediction:\", predicted)\n",
        "\n",
        "# Plot the image\n",
        "plt.imshow(img)\n",
        "plt.show()"
      ],
      "metadata": {
        "id": "2C8hUqPSFr5e"
      },
      "execution_count": null,
      "outputs": []
    }
  ]
}