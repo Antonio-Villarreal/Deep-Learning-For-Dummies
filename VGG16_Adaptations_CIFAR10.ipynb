{
  "nbformat": 4,
  "nbformat_minor": 0,
  "metadata": {
    "colab": {
      "provenance": [],
      "collapsed_sections": [
        "l9zBOHkhH9yK",
        "2q7AvUMNH5OK",
        "yYxGuj8gImXD",
        "HXFRPJTnMTNf"
      ],
      "authorship_tag": "ABX9TyMwDnHHdxdls8Hg+qFtnIli",
      "include_colab_link": true
    },
    "kernelspec": {
      "name": "python3",
      "display_name": "Python 3"
    },
    "language_info": {
      "name": "python"
    },
    "gpuClass": "standard",
    "accelerator": "GPU"
  },
  "cells": [
    {
      "cell_type": "markdown",
      "metadata": {
        "id": "view-in-github",
        "colab_type": "text"
      },
      "source": [
        "<a href=\"https://colab.research.google.com/github/Antonio-Villarreal/Deep-Learning-For-Dummies/blob/main/VGG16_Adaptations_CIFAR10.ipynb\" target=\"_parent\"><img src=\"https://colab.research.google.com/assets/colab-badge.svg\" alt=\"Open In Colab\"/></a>"
      ]
    },
    {
      "cell_type": "markdown",
      "source": [
        "# VGG16 Adaptation"
      ],
      "metadata": {
        "id": "i8eGmxl97DBP"
      }
    },
    {
      "cell_type": "markdown",
      "source": [
        "Adapts the VGG16 architecture for a smaller image size - 244 x 244"
      ],
      "metadata": {
        "id": "eTsyqIo5G9l0"
      }
    },
    {
      "cell_type": "code",
      "source": [
        "from keras.datasets import cifar10\n",
        "from keras.preprocessing.image import ImageDataGenerator\n",
        "\n",
        "# load the CIFAR10 dataset\n",
        "(x_train, y_train), (x_test, y_test) = cifar10.load_data()"
      ],
      "metadata": {
        "id": "-qNYu7v-7Ard",
        "colab": {
          "base_uri": "https://localhost:8080/"
        },
        "outputId": "96b070fb-8d2b-416f-e806-56ccb56f4b6a"
      },
      "execution_count": 1,
      "outputs": [
        {
          "output_type": "stream",
          "name": "stdout",
          "text": [
            "Downloading data from https://www.cs.toronto.edu/~kriz/cifar-10-python.tar.gz\n",
            "170498071/170498071 [==============================] - 3s 0us/step\n"
          ]
        }
      ]
    },
    {
      "cell_type": "code",
      "source": [
        "print(x_train.shape)\n",
        "print(y_train.shape)\n",
        "print(x_test.shape)\n",
        "print(x_test.shape)"
      ],
      "metadata": {
        "colab": {
          "base_uri": "https://localhost:8080/"
        },
        "id": "AvwGbGva9mCS",
        "outputId": "78f317bf-4be0-4510-db63-3049db05330b"
      },
      "execution_count": 2,
      "outputs": [
        {
          "output_type": "stream",
          "name": "stdout",
          "text": [
            "(50000, 32, 32, 3)\n",
            "(50000, 1)\n",
            "(10000, 32, 32, 3)\n",
            "(10000, 32, 32, 3)\n"
          ]
        }
      ]
    },
    {
      "cell_type": "code",
      "source": [
        "x_train = x_train.astype('float32')\n",
        "x_test = x_test.astype('float32')\n",
        "x_train /= 255\n",
        "x_test /= 255"
      ],
      "metadata": {
        "id": "K3ACGStM7O0l"
      },
      "execution_count": 3,
      "outputs": []
    },
    {
      "cell_type": "code",
      "source": [
        "from keras.utils import to_categorical\n",
        "y_train = to_categorical(y_train, 10)\n",
        "y_test = to_categorical(y_test, 10)"
      ],
      "metadata": {
        "id": "iX8NVPeL9qdA"
      },
      "execution_count": 4,
      "outputs": []
    },
    {
      "cell_type": "markdown",
      "source": [
        "## Model 1"
      ],
      "metadata": {
        "id": "l9zBOHkhH9yK"
      }
    },
    {
      "cell_type": "code",
      "source": [
        "from keras.layers import Conv2D, MaxPooling2D, Flatten, Dense, BatchNormalization, Dropout\n",
        "from keras.models import Sequential\n",
        "\n",
        "model = Sequential()\n",
        "\n",
        "# Layer 1: Convolutional layer with 64 filters, kernel size of 3x3, and 'same' padding\n",
        "model.add(Conv2D(64, kernel_size=(3, 3), input_shape=(32, 32, 3), padding='same', activation='relu'))\n",
        "\n",
        "# Layer 2: Convolutional layer with 64 filters, kernel size of 3x3, and 'same' padding\n",
        "model.add(Conv2D(64, kernel_size=(3, 3), padding='same', activation='relu'))\n",
        "\n",
        "model.add(BatchNormalization())\n",
        "\n",
        "# Layer 3: Max pooling layer with pool size of 2x2\n",
        "model.add(MaxPooling2D(pool_size=(2, 2)))\n",
        "\n",
        "# Layer 4: Convolutional layer with 128 filters, kernel size of 3x3, and 'same' padding\n",
        "model.add(Conv2D(128, kernel_size=(3, 3), padding='same', activation='relu'))\n",
        "\n",
        "# Layer 5: Convolutional layer with 128 filters, kernel size of 3x3, and 'same' padding\n",
        "model.add(Conv2D(128, kernel_size=(3, 3), padding='same', activation='relu'))\n",
        "\n",
        "model.add(BatchNormalization())\n",
        "\n",
        "# Layer 6: Max pooling layer with pool size of 2x2\n",
        "model.add(MaxPooling2D(pool_size=(2, 2)))\n",
        "\n",
        "# Layer 7: Convolutional layer with 256 filters, kernel size of 3x3, and 'same' padding\n",
        "model.add(Conv2D(256, kernel_size=(3, 3), padding='same', activation='relu'))\n",
        "\n",
        "# Layer 8: Convolutional layer with 256 filters, kernel size of 3x3, and 'same' padding\n",
        "model.add(Conv2D(256, kernel_size=(3, 3), padding='same', activation='relu'))\n",
        "\n",
        "# Layer 9: Convolutional layer with 256 filters, kernel size of 3x3, and 'same' padding\n",
        "model.add(Conv2D(256, kernel_size=(3, 3), padding='same', activation='relu'))\n",
        "\n",
        "model.add(BatchNormalization())\n",
        "\n",
        "# Layer 10: Max pooling layer with pool size of 2x2\n",
        "model.add(MaxPooling2D(pool_size=(2, 2)))\n",
        "\n",
        "# Layer 11: Flatten layer to convert the 3D feature maps to 1D feature vectors\n",
        "model.add(Flatten())\n",
        "\n",
        "# Layer 12: Fully connected layer with 512 units and 'relu' activation\n",
        "model.add(Dense(512, activation='relu'))\n",
        "\n",
        "# Layer 13: Fully connected layer with 512 units and 'relu' activation\n",
        "model.add(Dense(512, activation='relu'))\n",
        "\n",
        "# Layer 14: Output layer with 'softmax' activation for multi-class classification\n",
        "model.add(Dense(10, activation='softmax'))"
      ],
      "metadata": {
        "id": "pE1OaQvaDMhp"
      },
      "execution_count": 5,
      "outputs": []
    },
    {
      "cell_type": "code",
      "source": [
        "model.summary()"
      ],
      "metadata": {
        "colab": {
          "base_uri": "https://localhost:8080/"
        },
        "id": "pG-DBNEf9-uM",
        "outputId": "75a650eb-61af-4815-90b6-4b390e3452e8"
      },
      "execution_count": 6,
      "outputs": [
        {
          "output_type": "stream",
          "name": "stdout",
          "text": [
            "Model: \"sequential\"\n",
            "_________________________________________________________________\n",
            " Layer (type)                Output Shape              Param #   \n",
            "=================================================================\n",
            " conv2d (Conv2D)             (None, 32, 32, 64)        1792      \n",
            "                                                                 \n",
            " conv2d_1 (Conv2D)           (None, 32, 32, 64)        36928     \n",
            "                                                                 \n",
            " batch_normalization (BatchN  (None, 32, 32, 64)       256       \n",
            " ormalization)                                                   \n",
            "                                                                 \n",
            " max_pooling2d (MaxPooling2D  (None, 16, 16, 64)       0         \n",
            " )                                                               \n",
            "                                                                 \n",
            " conv2d_2 (Conv2D)           (None, 16, 16, 128)       73856     \n",
            "                                                                 \n",
            " conv2d_3 (Conv2D)           (None, 16, 16, 128)       147584    \n",
            "                                                                 \n",
            " batch_normalization_1 (Batc  (None, 16, 16, 128)      512       \n",
            " hNormalization)                                                 \n",
            "                                                                 \n",
            " max_pooling2d_1 (MaxPooling  (None, 8, 8, 128)        0         \n",
            " 2D)                                                             \n",
            "                                                                 \n",
            " conv2d_4 (Conv2D)           (None, 8, 8, 256)         295168    \n",
            "                                                                 \n",
            " conv2d_5 (Conv2D)           (None, 8, 8, 256)         590080    \n",
            "                                                                 \n",
            " conv2d_6 (Conv2D)           (None, 8, 8, 256)         590080    \n",
            "                                                                 \n",
            " batch_normalization_2 (Batc  (None, 8, 8, 256)        1024      \n",
            " hNormalization)                                                 \n",
            "                                                                 \n",
            " max_pooling2d_2 (MaxPooling  (None, 4, 4, 256)        0         \n",
            " 2D)                                                             \n",
            "                                                                 \n",
            " flatten (Flatten)           (None, 4096)              0         \n",
            "                                                                 \n",
            " dense (Dense)               (None, 512)               2097664   \n",
            "                                                                 \n",
            " dense_1 (Dense)             (None, 512)               262656    \n",
            "                                                                 \n",
            " dense_2 (Dense)             (None, 10)                5130      \n",
            "                                                                 \n",
            "=================================================================\n",
            "Total params: 4,102,730\n",
            "Trainable params: 4,101,834\n",
            "Non-trainable params: 896\n",
            "_________________________________________________________________\n"
          ]
        }
      ]
    },
    {
      "cell_type": "markdown",
      "source": [
        "## Model 2"
      ],
      "metadata": {
        "id": "2q7AvUMNH5OK"
      }
    },
    {
      "cell_type": "code",
      "source": [
        "from keras.layers import Conv2D, MaxPooling2D, Flatten, Dense\n",
        "from keras.models import Sequential\n",
        "\n",
        "model2 = Sequential()\n",
        "\n",
        "# Layer 1: Convolutional layer with 32 filters, kernel size of 3x3, and 'same' padding\n",
        "model2.add(Conv2D(32, kernel_size=(3, 3), input_shape=(32, 32, 3), padding='same', activation='relu'))\n",
        "\n",
        "# Layer 2: Max pooling layer with pool size of 2x2\n",
        "model2.add(MaxPooling2D(pool_size=(2, 2)))\n",
        "\n",
        "# Layer 3: Convolutional layer with 64 filters, kernel size of 3x3, and 'same' padding\n",
        "model2.add(Conv2D(64, kernel_size=(3, 3), padding='same', activation='relu'))\n",
        "\n",
        "# Layer 4: Max pooling layer with pool size of 2x2\n",
        "model2.add(MaxPooling2D(pool_size=(2, 2)))\n",
        "\n",
        "# Layer 5: Flatten layer to convert the 3D feature maps to 1D feature vectors\n",
        "model2.add(Flatten())\n",
        "\n",
        "# Layer 6: Fully connected layer with 128 units and 'relu' activation\n",
        "model2.add(Dense(128, activation='relu'))\n",
        "\n",
        "# Layer 7: Output layer with 'softmax' activation for multi-class classification\n",
        "model2.add(Dense(10, activation='softmax'))"
      ],
      "metadata": {
        "id": "AQ06Scev7QoG"
      },
      "execution_count": 7,
      "outputs": []
    },
    {
      "cell_type": "code",
      "source": [
        "model2.summary()"
      ],
      "metadata": {
        "colab": {
          "base_uri": "https://localhost:8080/"
        },
        "id": "zcmAyCkkHO3s",
        "outputId": "7aa1ca31-19fe-40fc-9f04-77a315405f06"
      },
      "execution_count": 8,
      "outputs": [
        {
          "output_type": "stream",
          "name": "stdout",
          "text": [
            "Model: \"sequential_1\"\n",
            "_________________________________________________________________\n",
            " Layer (type)                Output Shape              Param #   \n",
            "=================================================================\n",
            " conv2d_7 (Conv2D)           (None, 32, 32, 32)        896       \n",
            "                                                                 \n",
            " max_pooling2d_3 (MaxPooling  (None, 16, 16, 32)       0         \n",
            " 2D)                                                             \n",
            "                                                                 \n",
            " conv2d_8 (Conv2D)           (None, 16, 16, 64)        18496     \n",
            "                                                                 \n",
            " max_pooling2d_4 (MaxPooling  (None, 8, 8, 64)         0         \n",
            " 2D)                                                             \n",
            "                                                                 \n",
            " flatten_1 (Flatten)         (None, 4096)              0         \n",
            "                                                                 \n",
            " dense_3 (Dense)             (None, 128)               524416    \n",
            "                                                                 \n",
            " dense_4 (Dense)             (None, 10)                1290      \n",
            "                                                                 \n",
            "=================================================================\n",
            "Total params: 545,098\n",
            "Trainable params: 545,098\n",
            "Non-trainable params: 0\n",
            "_________________________________________________________________\n"
          ]
        }
      ]
    },
    {
      "cell_type": "markdown",
      "source": [
        "## Model 3"
      ],
      "metadata": {
        "id": "yYxGuj8gImXD"
      }
    },
    {
      "cell_type": "code",
      "source": [
        "model3 = Sequential()\n",
        "\n",
        "# Layer 1: Convolutional layer with 32 filters, kernel size of 3x3, and 'same' padding\n",
        "model3.add(Conv2D(32, kernel_size=(3, 3), input_shape=(32, 32, 3), padding='same', activation='relu'))\n",
        "model3.add(BatchNormalization())\n",
        "model3.add(Dropout(0.2))\n",
        "\n",
        "# Layer 2: Convolutional layer with 32 filters, kernel size of 3x3, and 'same' padding\n",
        "model3.add(Conv2D(32, kernel_size=(3, 3), padding='same', activation='relu'))\n",
        "model3.add(BatchNormalization())\n",
        "model3.add(Dropout(0.2))\n",
        "\n",
        "# Layer 3: Max pooling layer with pool size of 2x2\n",
        "model3.add(MaxPooling2D(pool_size=(2, 2)))\n",
        "\n",
        "# Layer 4: Convolutional layer with 64 filters, kernel size of 3x3, and 'same' padding\n",
        "model3.add(Conv2D(64, kernel_size=(3, 3), padding='same', activation='relu'))\n",
        "model3.add(BatchNormalization())\n",
        "model3.add(Dropout(0.2))\n",
        "\n",
        "# Layer 5: Convolutional layer with 64 filters, kernel size of 3x3, and 'same' padding\n",
        "model3.add(Conv2D(64, kernel_size=(3, 3), padding='same', activation='relu'))\n",
        "model3.add(BatchNormalization())\n",
        "model3.add(Dropout(0.2))\n",
        "\n",
        "# Layer 6: Max pooling layer with pool size of 2x2\n",
        "model3.add(MaxPooling2D(pool_size=(2, 2)))\n",
        "\n",
        "# Layer 7: Convolutional layer with 128 filters, kernel size of 3x3, and 'same' padding\n",
        "model3.add(Conv2D(128, kernel_size=(3, 3), padding='same', activation='relu'))\n",
        "model3.add(BatchNormalization())\n",
        "model3.add(Dropout(0.2))\n",
        "\n",
        "# Layer 8: Flatten layer to convert the 3D feature maps to 1D feature vectors\n",
        "model3.add(Flatten())\n",
        "\n",
        "# Layer 9: Fully connected layer with 512 units and 'relu' activation\n",
        "model3.add(Dense(512, activation='relu'))\n",
        "model3.add(BatchNormalization())\n",
        "model3.add(Dropout(0.2))\n",
        "\n",
        "# Layer 10: Fully connected layer with 512 units and 'relu' activation\n",
        "model3.add(Dense(512, activation='relu'))\n",
        "model3.add(BatchNormalization())\n",
        "model3.add(Dropout(0.2))\n",
        "\n",
        "# Layer 11: Output layer with 'softmax' activation for multi-class classification\n",
        "model3.add(Dense(10, activation='softmax'))"
      ],
      "metadata": {
        "id": "GA1rXQCqIn3k"
      },
      "execution_count": 9,
      "outputs": []
    },
    {
      "cell_type": "code",
      "source": [
        "model3.summary()"
      ],
      "metadata": {
        "colab": {
          "base_uri": "https://localhost:8080/"
        },
        "id": "oGmC2KU8Iqg1",
        "outputId": "d879683b-cd4b-4438-922a-07dabfd2d81f"
      },
      "execution_count": 10,
      "outputs": [
        {
          "output_type": "stream",
          "name": "stdout",
          "text": [
            "Model: \"sequential_2\"\n",
            "_________________________________________________________________\n",
            " Layer (type)                Output Shape              Param #   \n",
            "=================================================================\n",
            " conv2d_9 (Conv2D)           (None, 32, 32, 32)        896       \n",
            "                                                                 \n",
            " batch_normalization_3 (Batc  (None, 32, 32, 32)       128       \n",
            " hNormalization)                                                 \n",
            "                                                                 \n",
            " dropout (Dropout)           (None, 32, 32, 32)        0         \n",
            "                                                                 \n",
            " conv2d_10 (Conv2D)          (None, 32, 32, 32)        9248      \n",
            "                                                                 \n",
            " batch_normalization_4 (Batc  (None, 32, 32, 32)       128       \n",
            " hNormalization)                                                 \n",
            "                                                                 \n",
            " dropout_1 (Dropout)         (None, 32, 32, 32)        0         \n",
            "                                                                 \n",
            " max_pooling2d_5 (MaxPooling  (None, 16, 16, 32)       0         \n",
            " 2D)                                                             \n",
            "                                                                 \n",
            " conv2d_11 (Conv2D)          (None, 16, 16, 64)        18496     \n",
            "                                                                 \n",
            " batch_normalization_5 (Batc  (None, 16, 16, 64)       256       \n",
            " hNormalization)                                                 \n",
            "                                                                 \n",
            " dropout_2 (Dropout)         (None, 16, 16, 64)        0         \n",
            "                                                                 \n",
            " conv2d_12 (Conv2D)          (None, 16, 16, 64)        36928     \n",
            "                                                                 \n",
            " batch_normalization_6 (Batc  (None, 16, 16, 64)       256       \n",
            " hNormalization)                                                 \n",
            "                                                                 \n",
            " dropout_3 (Dropout)         (None, 16, 16, 64)        0         \n",
            "                                                                 \n",
            " max_pooling2d_6 (MaxPooling  (None, 8, 8, 64)         0         \n",
            " 2D)                                                             \n",
            "                                                                 \n",
            " conv2d_13 (Conv2D)          (None, 8, 8, 128)         73856     \n",
            "                                                                 \n",
            " batch_normalization_7 (Batc  (None, 8, 8, 128)        512       \n",
            " hNormalization)                                                 \n",
            "                                                                 \n",
            " dropout_4 (Dropout)         (None, 8, 8, 128)         0         \n",
            "                                                                 \n",
            " flatten_2 (Flatten)         (None, 8192)              0         \n",
            "                                                                 \n",
            " dense_5 (Dense)             (None, 512)               4194816   \n",
            "                                                                 \n",
            " batch_normalization_8 (Batc  (None, 512)              2048      \n",
            " hNormalization)                                                 \n",
            "                                                                 \n",
            " dropout_5 (Dropout)         (None, 512)               0         \n",
            "                                                                 \n",
            " dense_6 (Dense)             (None, 512)               262656    \n",
            "                                                                 \n",
            " batch_normalization_9 (Batc  (None, 512)              2048      \n",
            " hNormalization)                                                 \n",
            "                                                                 \n",
            " dropout_6 (Dropout)         (None, 512)               0         \n",
            "                                                                 \n",
            " dense_7 (Dense)             (None, 10)                5130      \n",
            "                                                                 \n",
            "=================================================================\n",
            "Total params: 4,607,402\n",
            "Trainable params: 4,604,714\n",
            "Non-trainable params: 2,688\n",
            "_________________________________________________________________\n"
          ]
        }
      ]
    },
    {
      "cell_type": "markdown",
      "source": [
        "## Model 4 (Imported)"
      ],
      "metadata": {
        "id": "HXFRPJTnMTNf"
      }
    },
    {
      "cell_type": "code",
      "source": [
        "from keras.applications.vgg16 import VGG16\n",
        "from keras.applications.vgg16 import preprocess_input\n",
        "from keras.applications.vgg16 import decode_predictions\n",
        "\n",
        "# base_model = VGG16(include_top=False, input_shape=(32,32,3))\n",
        "base_model = VGG16(weights='imagenet', include_top=False, input_shape=(32,32,3))"
      ],
      "metadata": {
        "id": "HUgtfza7MWIi",
        "colab": {
          "base_uri": "https://localhost:8080/"
        },
        "outputId": "278b0cb6-b47e-41c2-818f-928066cc3510"
      },
      "execution_count": 11,
      "outputs": [
        {
          "output_type": "stream",
          "name": "stdout",
          "text": [
            "Downloading data from https://storage.googleapis.com/tensorflow/keras-applications/vgg16/vgg16_weights_tf_dim_ordering_tf_kernels_notop.h5\n",
            "58889256/58889256 [==============================] - 0s 0us/step\n"
          ]
        }
      ]
    },
    {
      "cell_type": "code",
      "source": [
        "# Freeze base model layers\n",
        "for layer in base_model.layers:\n",
        "    layer.trainable = False"
      ],
      "metadata": {
        "id": "VKmllHXWMZdg"
      },
      "execution_count": 12,
      "outputs": []
    },
    {
      "cell_type": "code",
      "source": [
        "# Add new layers\n",
        "x = base_model.output\n",
        "x = Flatten()(x)\n",
        "x = Dense(4096, activation='relu')(x)\n",
        "predictions = Dense(10, activation='softmax')(x)"
      ],
      "metadata": {
        "id": "Eccd83caMdRF"
      },
      "execution_count": 13,
      "outputs": []
    },
    {
      "cell_type": "code",
      "source": [
        "from keras.models import Model\n",
        "model4 = Model(inputs=base_model.input, outputs=predictions)"
      ],
      "metadata": {
        "id": "0XZJEg47Meyx"
      },
      "execution_count": 14,
      "outputs": []
    },
    {
      "cell_type": "code",
      "source": [
        "model4.summary()"
      ],
      "metadata": {
        "colab": {
          "base_uri": "https://localhost:8080/"
        },
        "id": "ZQJhllZCMgqe",
        "outputId": "ac4f75ff-2edc-431b-f05e-1cc0777cac9a"
      },
      "execution_count": 15,
      "outputs": [
        {
          "output_type": "stream",
          "name": "stdout",
          "text": [
            "Model: \"model\"\n",
            "_________________________________________________________________\n",
            " Layer (type)                Output Shape              Param #   \n",
            "=================================================================\n",
            " input_1 (InputLayer)        [(None, 32, 32, 3)]       0         \n",
            "                                                                 \n",
            " block1_conv1 (Conv2D)       (None, 32, 32, 64)        1792      \n",
            "                                                                 \n",
            " block1_conv2 (Conv2D)       (None, 32, 32, 64)        36928     \n",
            "                                                                 \n",
            " block1_pool (MaxPooling2D)  (None, 16, 16, 64)        0         \n",
            "                                                                 \n",
            " block2_conv1 (Conv2D)       (None, 16, 16, 128)       73856     \n",
            "                                                                 \n",
            " block2_conv2 (Conv2D)       (None, 16, 16, 128)       147584    \n",
            "                                                                 \n",
            " block2_pool (MaxPooling2D)  (None, 8, 8, 128)         0         \n",
            "                                                                 \n",
            " block3_conv1 (Conv2D)       (None, 8, 8, 256)         295168    \n",
            "                                                                 \n",
            " block3_conv2 (Conv2D)       (None, 8, 8, 256)         590080    \n",
            "                                                                 \n",
            " block3_conv3 (Conv2D)       (None, 8, 8, 256)         590080    \n",
            "                                                                 \n",
            " block3_pool (MaxPooling2D)  (None, 4, 4, 256)         0         \n",
            "                                                                 \n",
            " block4_conv1 (Conv2D)       (None, 4, 4, 512)         1180160   \n",
            "                                                                 \n",
            " block4_conv2 (Conv2D)       (None, 4, 4, 512)         2359808   \n",
            "                                                                 \n",
            " block4_conv3 (Conv2D)       (None, 4, 4, 512)         2359808   \n",
            "                                                                 \n",
            " block4_pool (MaxPooling2D)  (None, 2, 2, 512)         0         \n",
            "                                                                 \n",
            " block5_conv1 (Conv2D)       (None, 2, 2, 512)         2359808   \n",
            "                                                                 \n",
            " block5_conv2 (Conv2D)       (None, 2, 2, 512)         2359808   \n",
            "                                                                 \n",
            " block5_conv3 (Conv2D)       (None, 2, 2, 512)         2359808   \n",
            "                                                                 \n",
            " block5_pool (MaxPooling2D)  (None, 1, 1, 512)         0         \n",
            "                                                                 \n",
            " flatten_3 (Flatten)         (None, 512)               0         \n",
            "                                                                 \n",
            " dense_8 (Dense)             (None, 4096)              2101248   \n",
            "                                                                 \n",
            " dense_9 (Dense)             (None, 10)                40970     \n",
            "                                                                 \n",
            "=================================================================\n",
            "Total params: 16,856,906\n",
            "Trainable params: 2,142,218\n",
            "Non-trainable params: 14,714,688\n",
            "_________________________________________________________________\n"
          ]
        }
      ]
    },
    {
      "cell_type": "markdown",
      "source": [
        "## Training"
      ],
      "metadata": {
        "id": "lyIaZpXYIhu-"
      }
    },
    {
      "cell_type": "code",
      "source": [
        "model.compile(optimizer='adam', loss='categorical_crossentropy', metrics=['accuracy'])"
      ],
      "metadata": {
        "id": "EWKp1koGBAso"
      },
      "execution_count": 16,
      "outputs": []
    },
    {
      "cell_type": "code",
      "source": [
        "model2.compile(optimizer='adam', loss='categorical_crossentropy', metrics=['accuracy'])"
      ],
      "metadata": {
        "id": "xteiVkBtHRh5"
      },
      "execution_count": 17,
      "outputs": []
    },
    {
      "cell_type": "code",
      "source": [
        "model3.compile(optimizer='adam', loss='categorical_crossentropy', metrics=['accuracy'])"
      ],
      "metadata": {
        "id": "3dGX_ADqI4sP"
      },
      "execution_count": 18,
      "outputs": []
    },
    {
      "cell_type": "code",
      "source": [
        "model4.compile(optimizer='adam', loss='categorical_crossentropy', metrics=['accuracy'])"
      ],
      "metadata": {
        "id": "i9CP7CLpMo5O"
      },
      "execution_count": 19,
      "outputs": []
    },
    {
      "cell_type": "code",
      "source": [
        "Epoch = 20"
      ],
      "metadata": {
        "id": "cHDGL092snMt"
      },
      "execution_count": 20,
      "outputs": []
    },
    {
      "cell_type": "code",
      "source": [
        "history = model.fit(x_train, y_train, batch_size=64, epochs=Epoch, validation_data=(x_test, y_test))"
      ],
      "metadata": {
        "colab": {
          "base_uri": "https://localhost:8080/"
        },
        "id": "Gv8KPJIz8LXP",
        "outputId": "f811ade9-658e-408a-af86-dfbb26c3a626"
      },
      "execution_count": 21,
      "outputs": [
        {
          "output_type": "stream",
          "name": "stdout",
          "text": [
            "Epoch 1/20\n",
            "782/782 [==============================] - 26s 21ms/step - loss: 1.4322 - accuracy: 0.4884 - val_loss: 1.3653 - val_accuracy: 0.5191\n",
            "Epoch 2/20\n",
            "782/782 [==============================] - 16s 20ms/step - loss: 0.8914 - accuracy: 0.6859 - val_loss: 1.0936 - val_accuracy: 0.6363\n",
            "Epoch 3/20\n",
            "782/782 [==============================] - 16s 20ms/step - loss: 0.6815 - accuracy: 0.7622 - val_loss: 0.7659 - val_accuracy: 0.7404\n",
            "Epoch 4/20\n",
            "782/782 [==============================] - 16s 20ms/step - loss: 0.5549 - accuracy: 0.8085 - val_loss: 0.7886 - val_accuracy: 0.7308\n",
            "Epoch 5/20\n",
            "782/782 [==============================] - 16s 20ms/step - loss: 0.4570 - accuracy: 0.8412 - val_loss: 0.7531 - val_accuracy: 0.7504\n",
            "Epoch 6/20\n",
            "782/782 [==============================] - 16s 20ms/step - loss: 0.3670 - accuracy: 0.8709 - val_loss: 0.7052 - val_accuracy: 0.7737\n",
            "Epoch 7/20\n",
            "782/782 [==============================] - 16s 21ms/step - loss: 0.2906 - accuracy: 0.8991 - val_loss: 0.7181 - val_accuracy: 0.7906\n",
            "Epoch 8/20\n",
            "782/782 [==============================] - 16s 21ms/step - loss: 0.2338 - accuracy: 0.9175 - val_loss: 0.7227 - val_accuracy: 0.7959\n",
            "Epoch 9/20\n",
            "782/782 [==============================] - 16s 20ms/step - loss: 0.1828 - accuracy: 0.9356 - val_loss: 0.9712 - val_accuracy: 0.7626\n",
            "Epoch 10/20\n",
            "782/782 [==============================] - 16s 20ms/step - loss: 0.1453 - accuracy: 0.9500 - val_loss: 0.7880 - val_accuracy: 0.8128\n",
            "Epoch 11/20\n",
            "782/782 [==============================] - 16s 20ms/step - loss: 0.1305 - accuracy: 0.9555 - val_loss: 0.9005 - val_accuracy: 0.8025\n",
            "Epoch 12/20\n",
            "782/782 [==============================] - 16s 21ms/step - loss: 0.1104 - accuracy: 0.9622 - val_loss: 0.7780 - val_accuracy: 0.8220\n",
            "Epoch 13/20\n",
            "782/782 [==============================] - 19s 24ms/step - loss: 0.0942 - accuracy: 0.9685 - val_loss: 1.1020 - val_accuracy: 0.7892\n",
            "Epoch 14/20\n",
            "782/782 [==============================] - 16s 20ms/step - loss: 0.0865 - accuracy: 0.9699 - val_loss: 0.9083 - val_accuracy: 0.8019\n",
            "Epoch 15/20\n",
            "782/782 [==============================] - 16s 21ms/step - loss: 0.0825 - accuracy: 0.9736 - val_loss: 1.0783 - val_accuracy: 0.7939\n",
            "Epoch 16/20\n",
            "782/782 [==============================] - 16s 20ms/step - loss: 0.0745 - accuracy: 0.9756 - val_loss: 0.9811 - val_accuracy: 0.8146\n",
            "Epoch 17/20\n",
            "782/782 [==============================] - 16s 20ms/step - loss: 0.0705 - accuracy: 0.9767 - val_loss: 0.9914 - val_accuracy: 0.8046\n",
            "Epoch 18/20\n",
            "782/782 [==============================] - 16s 20ms/step - loss: 0.0625 - accuracy: 0.9791 - val_loss: 0.9059 - val_accuracy: 0.8206\n",
            "Epoch 19/20\n",
            "782/782 [==============================] - 16s 20ms/step - loss: 0.0645 - accuracy: 0.9796 - val_loss: 1.0124 - val_accuracy: 0.8145\n",
            "Epoch 20/20\n",
            "782/782 [==============================] - 16s 20ms/step - loss: 0.0634 - accuracy: 0.9804 - val_loss: 1.5178 - val_accuracy: 0.7910\n"
          ]
        }
      ]
    },
    {
      "cell_type": "code",
      "source": [
        "history2 = model2.fit(x_train, y_train, batch_size=64, epochs=Epoch, validation_data=(x_test, y_test))"
      ],
      "metadata": {
        "id": "XK_bLj4cHSt2",
        "colab": {
          "base_uri": "https://localhost:8080/"
        },
        "outputId": "7c13365c-1c63-448d-f68b-10e9cb0dc5f1"
      },
      "execution_count": 22,
      "outputs": [
        {
          "output_type": "stream",
          "name": "stdout",
          "text": [
            "Epoch 1/20\n",
            "782/782 [==============================] - 5s 6ms/step - loss: 1.4698 - accuracy: 0.4730 - val_loss: 1.1678 - val_accuracy: 0.5869\n",
            "Epoch 2/20\n",
            "782/782 [==============================] - 4s 5ms/step - loss: 1.0782 - accuracy: 0.6201 - val_loss: 1.0641 - val_accuracy: 0.6366\n",
            "Epoch 3/20\n",
            "782/782 [==============================] - 4s 6ms/step - loss: 0.9218 - accuracy: 0.6782 - val_loss: 0.9361 - val_accuracy: 0.6715\n",
            "Epoch 4/20\n",
            "782/782 [==============================] - 4s 5ms/step - loss: 0.8226 - accuracy: 0.7128 - val_loss: 0.8843 - val_accuracy: 0.6933\n",
            "Epoch 5/20\n",
            "782/782 [==============================] - 4s 5ms/step - loss: 0.7490 - accuracy: 0.7391 - val_loss: 0.9103 - val_accuracy: 0.6860\n",
            "Epoch 6/20\n",
            "782/782 [==============================] - 4s 6ms/step - loss: 0.6795 - accuracy: 0.7629 - val_loss: 0.8659 - val_accuracy: 0.7041\n",
            "Epoch 7/20\n",
            "782/782 [==============================] - 4s 5ms/step - loss: 0.6137 - accuracy: 0.7876 - val_loss: 0.8860 - val_accuracy: 0.7021\n",
            "Epoch 8/20\n",
            "782/782 [==============================] - 4s 5ms/step - loss: 0.5554 - accuracy: 0.8054 - val_loss: 0.8830 - val_accuracy: 0.7136\n",
            "Epoch 9/20\n",
            "782/782 [==============================] - 4s 5ms/step - loss: 0.4942 - accuracy: 0.8265 - val_loss: 0.9040 - val_accuracy: 0.7126\n",
            "Epoch 10/20\n",
            "782/782 [==============================] - 4s 5ms/step - loss: 0.4370 - accuracy: 0.8477 - val_loss: 0.9654 - val_accuracy: 0.7177\n",
            "Epoch 11/20\n",
            "782/782 [==============================] - 4s 6ms/step - loss: 0.3900 - accuracy: 0.8640 - val_loss: 0.9772 - val_accuracy: 0.7077\n",
            "Epoch 12/20\n",
            "782/782 [==============================] - 4s 5ms/step - loss: 0.3428 - accuracy: 0.8808 - val_loss: 1.0642 - val_accuracy: 0.7077\n",
            "Epoch 13/20\n",
            "782/782 [==============================] - 4s 6ms/step - loss: 0.2949 - accuracy: 0.8967 - val_loss: 1.1505 - val_accuracy: 0.7006\n",
            "Epoch 14/20\n",
            "782/782 [==============================] - 4s 6ms/step - loss: 0.2549 - accuracy: 0.9119 - val_loss: 1.2046 - val_accuracy: 0.6999\n",
            "Epoch 15/20\n",
            "782/782 [==============================] - 4s 6ms/step - loss: 0.2189 - accuracy: 0.9240 - val_loss: 1.3036 - val_accuracy: 0.6957\n",
            "Epoch 16/20\n",
            "782/782 [==============================] - 4s 6ms/step - loss: 0.1862 - accuracy: 0.9355 - val_loss: 1.4072 - val_accuracy: 0.6968\n",
            "Epoch 17/20\n",
            "782/782 [==============================] - 4s 5ms/step - loss: 0.1610 - accuracy: 0.9454 - val_loss: 1.5509 - val_accuracy: 0.6859\n",
            "Epoch 18/20\n",
            "782/782 [==============================] - 4s 6ms/step - loss: 0.1383 - accuracy: 0.9509 - val_loss: 1.6186 - val_accuracy: 0.6898\n",
            "Epoch 19/20\n",
            "782/782 [==============================] - 4s 6ms/step - loss: 0.1198 - accuracy: 0.9599 - val_loss: 1.7211 - val_accuracy: 0.6901\n",
            "Epoch 20/20\n",
            "782/782 [==============================] - 4s 5ms/step - loss: 0.1139 - accuracy: 0.9613 - val_loss: 1.8169 - val_accuracy: 0.6853\n"
          ]
        }
      ]
    },
    {
      "cell_type": "code",
      "source": [
        "history3 = model3.fit(x_train, y_train, batch_size=64, epochs=Epoch, validation_data=(x_test, y_test))"
      ],
      "metadata": {
        "id": "I51Wqg6mI6oD",
        "colab": {
          "base_uri": "https://localhost:8080/"
        },
        "outputId": "11733d2e-896a-40f8-8684-beb52115bd7a"
      },
      "execution_count": 23,
      "outputs": [
        {
          "output_type": "stream",
          "name": "stdout",
          "text": [
            "Epoch 1/20\n",
            "782/782 [==============================] - 13s 14ms/step - loss: 1.4450 - accuracy: 0.5018 - val_loss: 1.5058 - val_accuracy: 0.5114\n",
            "Epoch 2/20\n",
            "782/782 [==============================] - 10s 13ms/step - loss: 0.9197 - accuracy: 0.6767 - val_loss: 1.0724 - val_accuracy: 0.6565\n",
            "Epoch 3/20\n",
            "782/782 [==============================] - 10s 13ms/step - loss: 0.7329 - accuracy: 0.7415 - val_loss: 0.8786 - val_accuracy: 0.7160\n",
            "Epoch 4/20\n",
            "782/782 [==============================] - 10s 13ms/step - loss: 0.6164 - accuracy: 0.7850 - val_loss: 0.9173 - val_accuracy: 0.7152\n",
            "Epoch 5/20\n",
            "782/782 [==============================] - 10s 13ms/step - loss: 0.5267 - accuracy: 0.8143 - val_loss: 1.4030 - val_accuracy: 0.6136\n",
            "Epoch 6/20\n",
            "782/782 [==============================] - 10s 13ms/step - loss: 0.4526 - accuracy: 0.8416 - val_loss: 0.7045 - val_accuracy: 0.7787\n",
            "Epoch 7/20\n",
            "782/782 [==============================] - 10s 13ms/step - loss: 0.3858 - accuracy: 0.8639 - val_loss: 0.7278 - val_accuracy: 0.7880\n",
            "Epoch 8/20\n",
            "782/782 [==============================] - 10s 13ms/step - loss: 0.3248 - accuracy: 0.8849 - val_loss: 0.8552 - val_accuracy: 0.7646\n",
            "Epoch 9/20\n",
            "782/782 [==============================] - 10s 13ms/step - loss: 0.2861 - accuracy: 0.8989 - val_loss: 0.8082 - val_accuracy: 0.7786\n",
            "Epoch 10/20\n",
            "782/782 [==============================] - 10s 13ms/step - loss: 0.2360 - accuracy: 0.9164 - val_loss: 0.7709 - val_accuracy: 0.7883\n",
            "Epoch 11/20\n",
            "782/782 [==============================] - 10s 13ms/step - loss: 0.2129 - accuracy: 0.9243 - val_loss: 0.8479 - val_accuracy: 0.7828\n",
            "Epoch 12/20\n",
            "782/782 [==============================] - 10s 13ms/step - loss: 0.1858 - accuracy: 0.9344 - val_loss: 0.8782 - val_accuracy: 0.7876\n",
            "Epoch 13/20\n",
            "782/782 [==============================] - 10s 13ms/step - loss: 0.1743 - accuracy: 0.9398 - val_loss: 0.7704 - val_accuracy: 0.8088\n",
            "Epoch 14/20\n",
            "782/782 [==============================] - 10s 13ms/step - loss: 0.1587 - accuracy: 0.9446 - val_loss: 0.7981 - val_accuracy: 0.8056\n",
            "Epoch 15/20\n",
            "782/782 [==============================] - 10s 13ms/step - loss: 0.1492 - accuracy: 0.9471 - val_loss: 0.9305 - val_accuracy: 0.7934\n",
            "Epoch 16/20\n",
            "782/782 [==============================] - 10s 13ms/step - loss: 0.1370 - accuracy: 0.9526 - val_loss: 0.9659 - val_accuracy: 0.7848\n",
            "Epoch 17/20\n",
            "782/782 [==============================] - 10s 13ms/step - loss: 0.1271 - accuracy: 0.9548 - val_loss: 1.0496 - val_accuracy: 0.7740\n",
            "Epoch 18/20\n",
            "782/782 [==============================] - 10s 13ms/step - loss: 0.1172 - accuracy: 0.9593 - val_loss: 0.9105 - val_accuracy: 0.7984\n",
            "Epoch 19/20\n",
            "782/782 [==============================] - 10s 13ms/step - loss: 0.1180 - accuracy: 0.9585 - val_loss: 0.9651 - val_accuracy: 0.7973\n",
            "Epoch 20/20\n",
            "782/782 [==============================] - 10s 13ms/step - loss: 0.1053 - accuracy: 0.9634 - val_loss: 0.9792 - val_accuracy: 0.7953\n"
          ]
        }
      ]
    },
    {
      "cell_type": "code",
      "source": [
        "history4 = model4.fit(x_train, y_train, batch_size=64, epochs=Epoch, validation_data=(x_test, y_test))"
      ],
      "metadata": {
        "id": "0o9LuI7rMr8h",
        "colab": {
          "base_uri": "https://localhost:8080/"
        },
        "outputId": "a5a57241-ad40-499d-ea2f-4f00f591c51e"
      },
      "execution_count": 24,
      "outputs": [
        {
          "output_type": "stream",
          "name": "stdout",
          "text": [
            "Epoch 1/20\n",
            "782/782 [==============================] - 14s 17ms/step - loss: 1.3145 - accuracy: 0.5372 - val_loss: 1.2177 - val_accuracy: 0.5675\n",
            "Epoch 2/20\n",
            "782/782 [==============================] - 14s 17ms/step - loss: 1.1368 - accuracy: 0.5987 - val_loss: 1.1816 - val_accuracy: 0.5823\n",
            "Epoch 3/20\n",
            "782/782 [==============================] - 13s 17ms/step - loss: 1.0566 - accuracy: 0.6283 - val_loss: 1.1129 - val_accuracy: 0.6121\n",
            "Epoch 4/20\n",
            "782/782 [==============================] - 13s 16ms/step - loss: 0.9908 - accuracy: 0.6498 - val_loss: 1.0947 - val_accuracy: 0.6159\n",
            "Epoch 5/20\n",
            "782/782 [==============================] - 13s 16ms/step - loss: 0.9305 - accuracy: 0.6723 - val_loss: 1.1531 - val_accuracy: 0.6054\n",
            "Epoch 6/20\n",
            "782/782 [==============================] - 13s 16ms/step - loss: 0.8713 - accuracy: 0.6927 - val_loss: 1.0902 - val_accuracy: 0.6223\n",
            "Epoch 7/20\n",
            "782/782 [==============================] - 13s 16ms/step - loss: 0.8142 - accuracy: 0.7117 - val_loss: 1.1375 - val_accuracy: 0.6181\n",
            "Epoch 8/20\n",
            "782/782 [==============================] - 13s 16ms/step - loss: 0.7577 - accuracy: 0.7305 - val_loss: 1.1453 - val_accuracy: 0.6234\n",
            "Epoch 9/20\n",
            "782/782 [==============================] - 13s 16ms/step - loss: 0.7011 - accuracy: 0.7505 - val_loss: 1.1615 - val_accuracy: 0.6201\n",
            "Epoch 10/20\n",
            "782/782 [==============================] - 13s 16ms/step - loss: 0.6461 - accuracy: 0.7713 - val_loss: 1.2320 - val_accuracy: 0.6147\n",
            "Epoch 11/20\n",
            "782/782 [==============================] - 13s 16ms/step - loss: 0.5945 - accuracy: 0.7909 - val_loss: 1.1871 - val_accuracy: 0.6266\n",
            "Epoch 12/20\n",
            "782/782 [==============================] - 13s 17ms/step - loss: 0.5411 - accuracy: 0.8096 - val_loss: 1.2170 - val_accuracy: 0.6292\n",
            "Epoch 13/20\n",
            "782/782 [==============================] - 13s 17ms/step - loss: 0.4916 - accuracy: 0.8286 - val_loss: 1.2895 - val_accuracy: 0.6262\n",
            "Epoch 14/20\n",
            "782/782 [==============================] - 13s 16ms/step - loss: 0.4464 - accuracy: 0.8468 - val_loss: 1.3280 - val_accuracy: 0.6237\n",
            "Epoch 15/20\n",
            "782/782 [==============================] - 13s 16ms/step - loss: 0.4053 - accuracy: 0.8611 - val_loss: 1.3583 - val_accuracy: 0.6235\n",
            "Epoch 16/20\n",
            "782/782 [==============================] - 13s 16ms/step - loss: 0.3638 - accuracy: 0.8763 - val_loss: 1.4187 - val_accuracy: 0.6190\n",
            "Epoch 17/20\n",
            "782/782 [==============================] - 13s 16ms/step - loss: 0.3260 - accuracy: 0.8895 - val_loss: 1.4462 - val_accuracy: 0.6268\n",
            "Epoch 18/20\n",
            "782/782 [==============================] - 13s 16ms/step - loss: 0.2913 - accuracy: 0.9024 - val_loss: 1.5403 - val_accuracy: 0.6206\n",
            "Epoch 19/20\n",
            "782/782 [==============================] - 13s 16ms/step - loss: 0.2651 - accuracy: 0.9121 - val_loss: 1.6006 - val_accuracy: 0.6170\n",
            "Epoch 20/20\n",
            "782/782 [==============================] - 13s 16ms/step - loss: 0.2342 - accuracy: 0.9232 - val_loss: 1.6657 - val_accuracy: 0.6196\n"
          ]
        }
      ]
    },
    {
      "cell_type": "markdown",
      "source": [
        "# Analytics"
      ],
      "metadata": {
        "id": "RuZ2h6sN661G"
      }
    },
    {
      "cell_type": "code",
      "source": [
        "class_names = ['airplane', 'automobile', 'bird', 'cat', 'deer',\n",
        "               'dog', 'frog', 'horse', 'ship', 'truck']"
      ],
      "metadata": {
        "id": "R8uQBB6POBMc"
      },
      "execution_count": 25,
      "outputs": []
    },
    {
      "cell_type": "code",
      "source": [
        "test_loss4, test_acc4 = model4.evaluate(x_test, y_test, verbose=0)\n",
        "test_loss3, test_acc3 = model3.evaluate(x_test, y_test, verbose=0)\n",
        "test_loss2, test_acc2 = model2.evaluate(x_test, y_test, verbose=0)\n",
        "test_loss, test_acc = model.evaluate(x_test, y_test, verbose=0)\n",
        "print(\"Testing Loss Model 1:\", test_loss)\n",
        "print(\"Testing Accuracy Model 1:\", test_acc)\n",
        "print(\"Testing Loss Model 2:\", test_loss2)\n",
        "print(\"Testing Accuracy Model 2:\", test_acc2)\n",
        "print(\"Testing Loss Model 3:\", test_loss3)\n",
        "print(\"Testing Accuracy Model 3:\", test_acc3)\n",
        "print(\"Testing Loss Model 4:\", test_loss4)\n",
        "print(\"Testing Accuracy Model 4:\", test_acc4)"
      ],
      "metadata": {
        "id": "wmd5jIo1HVR_",
        "colab": {
          "base_uri": "https://localhost:8080/"
        },
        "outputId": "34d11888-4ea0-4d71-c310-110d2f84c7fa"
      },
      "execution_count": 26,
      "outputs": [
        {
          "output_type": "stream",
          "name": "stdout",
          "text": [
            "Testing Loss Model 1: 1.5177855491638184\n",
            "Testing Accuracy Model 1: 0.7910000085830688\n",
            "Testing Loss Model 2: 1.8168818950653076\n",
            "Testing Accuracy Model 2: 0.6852999925613403\n",
            "Testing Loss Model 3: 0.9791887402534485\n",
            "Testing Accuracy Model 3: 0.7953000068664551\n",
            "Testing Loss Model 4: 1.6656626462936401\n",
            "Testing Accuracy Model 4: 0.6195999979972839\n"
          ]
        }
      ]
    },
    {
      "cell_type": "code",
      "source": [
        "import matplotlib.pyplot as plt\n",
        "\n",
        "plt.plot(history.history['accuracy'], label=\"model 1\")\n",
        "plt.title('Model accuracy')\n",
        "plt.ylabel('Accuracy')\n",
        "plt.xlabel('Epoch')\n",
        "# plt.show()\n",
        "\n",
        "model2, = plt.plot(history2.history['accuracy'], label=\"model 2\")\n",
        "plt.title('Model accuracy')\n",
        "plt.ylabel('Accuracy')\n",
        "plt.xlabel('Epoch')\n",
        "# plt.show()\n",
        "\n",
        "plt.plot(history3.history['accuracy'], label=\"model 3\")\n",
        "plt.title('Model accuracy')\n",
        "plt.ylabel('Accuracy')\n",
        "plt.xlabel('Epoch')\n",
        "# plt.show()\n",
        "\n",
        "plt.plot(history4.history['accuracy'], label=\"model 4\")\n",
        "plt.title('Model accuracy')\n",
        "plt.ylabel('Accuracy')\n",
        "plt.xlabel('Epoch')\n",
        "leg = plt.legend(loc='upper left')\n",
        "plt.show()"
      ],
      "metadata": {
        "id": "s9ptVgLTodgE",
        "colab": {
          "base_uri": "https://localhost:8080/",
          "height": 295
        },
        "outputId": "a48b1d77-a499-427a-8023-9f76c1f7d95d"
      },
      "execution_count": 27,
      "outputs": [
        {
          "output_type": "display_data",
          "data": {
            "text/plain": [
              "<Figure size 432x288 with 1 Axes>"
            ],
            "image/png": "[encoded data removed]"
          },
          "metadata": {
            "needs_background": "light"
          }
        }
      ]
    }
  ]
}