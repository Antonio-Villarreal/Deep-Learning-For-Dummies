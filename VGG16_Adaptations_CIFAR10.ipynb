{
  "nbformat": 4,
  "nbformat_minor": 0,
  "metadata": {
    "colab": {
      "provenance": [],
      "collapsed_sections": [
        "l9zBOHkhH9yK",
        "2q7AvUMNH5OK",
        "yYxGuj8gImXD",
        "HXFRPJTnMTNf"
      ],
      "authorship_tag": "ABX9TyP94D32BjdX5lTOfvC7BJLv",
      "include_colab_link": true
    },
    "kernelspec": {
      "name": "python3",
      "display_name": "Python 3"
    },
    "language_info": {
      "name": "python"
    },
    "accelerator": "GPU",
    "gpuClass": "standard"
  },
  "cells": [
    {
      "cell_type": "markdown",
      "metadata": {
        "id": "view-in-github",
        "colab_type": "text"
      },
      "source": [
        "<a href=\"https://colab.research.google.com/github/Antonio-Villarreal/Deep-Learning-For-Dummies/blob/main/VGG16_Adaptations_CIFAR10.ipynb\" target=\"_parent\"><img src=\"https://colab.research.google.com/assets/colab-badge.svg\" alt=\"Open In Colab\"/></a>"
      ]
    },
    {
      "cell_type": "markdown",
      "source": [
        "# VGG16 Adaptation"
      ],
      "metadata": {
        "id": "i8eGmxl97DBP"
      }
    },
    {
      "cell_type": "markdown",
      "source": [
        "Adapts the VGG16 architecture for a smaller image size - 244 x 244"
      ],
      "metadata": {
        "id": "eTsyqIo5G9l0"
      }
    },
    {
      "cell_type": "code",
      "source": [
        "from keras.datasets import cifar10\n",
        "from keras.preprocessing.image import ImageDataGenerator\n",
        "\n",
        "# load the CIFAR10 dataset\n",
        "(x_train, y_train), (x_test, y_test) = cifar10.load_data()"
      ],
      "metadata": {
        "id": "-qNYu7v-7Ard"
      },
      "execution_count": 16,
      "outputs": []
    },
    {
      "cell_type": "code",
      "source": [
        "print(x_train.shape)\n",
        "print(y_train.shape)\n",
        "print(x_test.shape)\n",
        "print(x_test.shape)"
      ],
      "metadata": {
        "colab": {
          "base_uri": "https://localhost:8080/"
        },
        "id": "AvwGbGva9mCS",
        "outputId": "8af4be9c-108e-4ee2-ee87-55278d506116"
      },
      "execution_count": 17,
      "outputs": [
        {
          "output_type": "stream",
          "name": "stdout",
          "text": [
            "(50000, 32, 32, 3)\n",
            "(50000, 1)\n",
            "(10000, 32, 32, 3)\n",
            "(10000, 32, 32, 3)\n"
          ]
        }
      ]
    },
    {
      "cell_type": "code",
      "source": [
        "x_train = x_train.astype('float32')\n",
        "x_test = x_test.astype('float32')\n",
        "x_train /= 255\n",
        "x_test /= 255"
      ],
      "metadata": {
        "id": "K3ACGStM7O0l"
      },
      "execution_count": 18,
      "outputs": []
    },
    {
      "cell_type": "code",
      "source": [
        "from keras.utils import to_categorical\n",
        "y_train = to_categorical(y_train, 10)\n",
        "y_test = to_categorical(y_test, 10)"
      ],
      "metadata": {
        "id": "iX8NVPeL9qdA"
      },
      "execution_count": 19,
      "outputs": []
    },
    {
      "cell_type": "markdown",
      "source": [
        "## Model 1"
      ],
      "metadata": {
        "id": "l9zBOHkhH9yK"
      }
    },
    {
      "cell_type": "code",
      "source": [
        "from keras.layers import Conv2D, MaxPooling2D, Flatten, Dense, BatchNormalization, Dropout\n",
        "from keras.models import Sequential\n",
        "\n",
        "model = Sequential()\n",
        "\n",
        "# Layer 1: Convolutional layer with 64 filters, kernel size of 3x3, and 'same' padding\n",
        "model.add(Conv2D(64, kernel_size=(3, 3), input_shape=(32, 32, 3), padding='same', activation='relu'))\n",
        "\n",
        "# Layer 2: Convolutional layer with 64 filters, kernel size of 3x3, and 'same' padding\n",
        "model.add(Conv2D(64, kernel_size=(3, 3), padding='same', activation='relu'))\n",
        "\n",
        "model.add(BatchNormalization())\n",
        "\n",
        "# Layer 3: Max pooling layer with pool size of 2x2\n",
        "model.add(MaxPooling2D(pool_size=(2, 2)))\n",
        "\n",
        "# Layer 4: Convolutional layer with 128 filters, kernel size of 3x3, and 'same' padding\n",
        "model.add(Conv2D(128, kernel_size=(3, 3), padding='same', activation='relu'))\n",
        "\n",
        "# Layer 5: Convolutional layer with 128 filters, kernel size of 3x3, and 'same' padding\n",
        "model.add(Conv2D(128, kernel_size=(3, 3), padding='same', activation='relu'))\n",
        "\n",
        "model.add(BatchNormalization())\n",
        "\n",
        "# Layer 6: Max pooling layer with pool size of 2x2\n",
        "model.add(MaxPooling2D(pool_size=(2, 2)))\n",
        "\n",
        "# Layer 7: Convolutional layer with 256 filters, kernel size of 3x3, and 'same' padding\n",
        "model.add(Conv2D(256, kernel_size=(3, 3), padding='same', activation='relu'))\n",
        "\n",
        "# Layer 8: Convolutional layer with 256 filters, kernel size of 3x3, and 'same' padding\n",
        "model.add(Conv2D(256, kernel_size=(3, 3), padding='same', activation='relu'))\n",
        "\n",
        "# Layer 9: Convolutional layer with 256 filters, kernel size of 3x3, and 'same' padding\n",
        "model.add(Conv2D(256, kernel_size=(3, 3), padding='same', activation='relu'))\n",
        "\n",
        "model.add(BatchNormalization())\n",
        "\n",
        "# Layer 10: Max pooling layer with pool size of 2x2\n",
        "model.add(MaxPooling2D(pool_size=(2, 2)))\n",
        "\n",
        "# Layer 11: Flatten layer to convert the 3D feature maps to 1D feature vectors\n",
        "model.add(Flatten())\n",
        "\n",
        "# Layer 12: Fully connected layer with 512 units and 'relu' activation\n",
        "model.add(Dense(512, activation='relu'))\n",
        "\n",
        "# Layer 13: Fully connected layer with 512 units and 'relu' activation\n",
        "model.add(Dense(512, activation='relu'))\n",
        "\n",
        "# Layer 14: Output layer with 'softmax' activation for multi-class classification\n",
        "model.add(Dense(10, activation='softmax'))"
      ],
      "metadata": {
        "id": "pE1OaQvaDMhp"
      },
      "execution_count": 20,
      "outputs": []
    },
    {
      "cell_type": "code",
      "source": [
        "model.summary()"
      ],
      "metadata": {
        "colab": {
          "base_uri": "https://localhost:8080/"
        },
        "id": "pG-DBNEf9-uM",
        "outputId": "d687725c-a592-41ef-9c17-2b46b63f4214"
      },
      "execution_count": 21,
      "outputs": [
        {
          "output_type": "stream",
          "name": "stdout",
          "text": [
            "Model: \"sequential_3\"\n",
            "_________________________________________________________________\n",
            " Layer (type)                Output Shape              Param #   \n",
            "=================================================================\n",
            " conv2d_14 (Conv2D)          (None, 32, 32, 64)        1792      \n",
            "                                                                 \n",
            " conv2d_15 (Conv2D)          (None, 32, 32, 64)        36928     \n",
            "                                                                 \n",
            " batch_normalization_10 (Bat  (None, 32, 32, 64)       256       \n",
            " chNormalization)                                                \n",
            "                                                                 \n",
            " max_pooling2d_7 (MaxPooling  (None, 16, 16, 64)       0         \n",
            " 2D)                                                             \n",
            "                                                                 \n",
            " conv2d_16 (Conv2D)          (None, 16, 16, 128)       73856     \n",
            "                                                                 \n",
            " conv2d_17 (Conv2D)          (None, 16, 16, 128)       147584    \n",
            "                                                                 \n",
            " batch_normalization_11 (Bat  (None, 16, 16, 128)      512       \n",
            " chNormalization)                                                \n",
            "                                                                 \n",
            " max_pooling2d_8 (MaxPooling  (None, 8, 8, 128)        0         \n",
            " 2D)                                                             \n",
            "                                                                 \n",
            " conv2d_18 (Conv2D)          (None, 8, 8, 256)         295168    \n",
            "                                                                 \n",
            " conv2d_19 (Conv2D)          (None, 8, 8, 256)         590080    \n",
            "                                                                 \n",
            " conv2d_20 (Conv2D)          (None, 8, 8, 256)         590080    \n",
            "                                                                 \n",
            " batch_normalization_12 (Bat  (None, 8, 8, 256)        1024      \n",
            " chNormalization)                                                \n",
            "                                                                 \n",
            " max_pooling2d_9 (MaxPooling  (None, 4, 4, 256)        0         \n",
            " 2D)                                                             \n",
            "                                                                 \n",
            " flatten_4 (Flatten)         (None, 4096)              0         \n",
            "                                                                 \n",
            " dense_10 (Dense)            (None, 512)               2097664   \n",
            "                                                                 \n",
            " dense_11 (Dense)            (None, 512)               262656    \n",
            "                                                                 \n",
            " dense_12 (Dense)            (None, 10)                5130      \n",
            "                                                                 \n",
            "=================================================================\n",
            "Total params: 4,102,730\n",
            "Trainable params: 4,101,834\n",
            "Non-trainable params: 896\n",
            "_________________________________________________________________\n"
          ]
        }
      ]
    },
    {
      "cell_type": "markdown",
      "source": [
        "## Model 2"
      ],
      "metadata": {
        "id": "2q7AvUMNH5OK"
      }
    },
    {
      "cell_type": "code",
      "source": [
        "from keras.layers import Conv2D, MaxPooling2D, Flatten, Dense\n",
        "from keras.models import Sequential\n",
        "\n",
        "model2 = Sequential()\n",
        "\n",
        "# Layer 1: Convolutional layer with 32 filters, kernel size of 3x3, and 'same' padding\n",
        "model2.add(Conv2D(32, kernel_size=(3, 3), input_shape=(32, 32, 3), padding='same', activation='relu'))\n",
        "\n",
        "# Layer 2: Max pooling layer with pool size of 2x2\n",
        "model2.add(MaxPooling2D(pool_size=(2, 2)))\n",
        "\n",
        "# Layer 3: Convolutional layer with 64 filters, kernel size of 3x3, and 'same' padding\n",
        "model2.add(Conv2D(64, kernel_size=(3, 3), padding='same', activation='relu'))\n",
        "\n",
        "# Layer 4: Max pooling layer with pool size of 2x2\n",
        "model2.add(MaxPooling2D(pool_size=(2, 2)))\n",
        "\n",
        "# Layer 5: Flatten layer to convert the 3D feature maps to 1D feature vectors\n",
        "model2.add(Flatten())\n",
        "\n",
        "# Layer 6: Fully connected layer with 128 units and 'relu' activation\n",
        "model2.add(Dense(128, activation='relu'))\n",
        "\n",
        "# Layer 7: Output layer with 'softmax' activation for multi-class classification\n",
        "model2.add(Dense(10, activation='softmax'))"
      ],
      "metadata": {
        "id": "AQ06Scev7QoG"
      },
      "execution_count": 22,
      "outputs": []
    },
    {
      "cell_type": "code",
      "source": [
        "model2.summary()"
      ],
      "metadata": {
        "colab": {
          "base_uri": "https://localhost:8080/"
        },
        "id": "zcmAyCkkHO3s",
        "outputId": "61e72489-1762-42c3-99ed-48f248d7ea4c"
      },
      "execution_count": 23,
      "outputs": [
        {
          "output_type": "stream",
          "name": "stdout",
          "text": [
            "Model: \"sequential_4\"\n",
            "_________________________________________________________________\n",
            " Layer (type)                Output Shape              Param #   \n",
            "=================================================================\n",
            " conv2d_21 (Conv2D)          (None, 32, 32, 32)        896       \n",
            "                                                                 \n",
            " max_pooling2d_10 (MaxPoolin  (None, 16, 16, 32)       0         \n",
            " g2D)                                                            \n",
            "                                                                 \n",
            " conv2d_22 (Conv2D)          (None, 16, 16, 64)        18496     \n",
            "                                                                 \n",
            " max_pooling2d_11 (MaxPoolin  (None, 8, 8, 64)         0         \n",
            " g2D)                                                            \n",
            "                                                                 \n",
            " flatten_5 (Flatten)         (None, 4096)              0         \n",
            "                                                                 \n",
            " dense_13 (Dense)            (None, 128)               524416    \n",
            "                                                                 \n",
            " dense_14 (Dense)            (None, 10)                1290      \n",
            "                                                                 \n",
            "=================================================================\n",
            "Total params: 545,098\n",
            "Trainable params: 545,098\n",
            "Non-trainable params: 0\n",
            "_________________________________________________________________\n"
          ]
        }
      ]
    },
    {
      "cell_type": "markdown",
      "source": [
        "## Model 3"
      ],
      "metadata": {
        "id": "yYxGuj8gImXD"
      }
    },
    {
      "cell_type": "code",
      "source": [
        "model3 = Sequential()\n",
        "\n",
        "# Layer 1: Convolutional layer with 32 filters, kernel size of 3x3, and 'same' padding\n",
        "model3.add(Conv2D(32, kernel_size=(3, 3), input_shape=(32, 32, 3), padding='same', activation='relu'))\n",
        "model3.add(BatchNormalization())\n",
        "model3.add(Dropout(0.2))\n",
        "\n",
        "# Layer 2: Convolutional layer with 32 filters, kernel size of 3x3, and 'same' padding\n",
        "model3.add(Conv2D(32, kernel_size=(3, 3), padding='same', activation='relu'))\n",
        "model3.add(BatchNormalization())\n",
        "model3.add(Dropout(0.2))\n",
        "\n",
        "# Layer 3: Max pooling layer with pool size of 2x2\n",
        "model3.add(MaxPooling2D(pool_size=(2, 2)))\n",
        "\n",
        "# Layer 4: Convolutional layer with 64 filters, kernel size of 3x3, and 'same' padding\n",
        "model3.add(Conv2D(64, kernel_size=(3, 3), padding='same', activation='relu'))\n",
        "model3.add(BatchNormalization())\n",
        "model3.add(Dropout(0.2))\n",
        "\n",
        "# Layer 5: Convolutional layer with 64 filters, kernel size of 3x3, and 'same' padding\n",
        "model3.add(Conv2D(64, kernel_size=(3, 3), padding='same', activation='relu'))\n",
        "model3.add(BatchNormalization())\n",
        "model3.add(Dropout(0.2))\n",
        "\n",
        "# Layer 6: Max pooling layer with pool size of 2x2\n",
        "model3.add(MaxPooling2D(pool_size=(2, 2)))\n",
        "\n",
        "# Layer 7: Convolutional layer with 128 filters, kernel size of 3x3, and 'same' padding\n",
        "model3.add(Conv2D(128, kernel_size=(3, 3), padding='same', activation='relu'))\n",
        "model3.add(BatchNormalization())\n",
        "model3.add(Dropout(0.2))\n",
        "\n",
        "# Layer 8: Flatten layer to convert the 3D feature maps to 1D feature vectors\n",
        "model3.add(Flatten())\n",
        "\n",
        "# Layer 9: Fully connected layer with 512 units and 'relu' activation\n",
        "model3.add(Dense(512, activation='relu'))\n",
        "model3.add(BatchNormalization())\n",
        "model3.add(Dropout(0.2))\n",
        "\n",
        "# Layer 10: Fully connected layer with 512 units and 'relu' activation\n",
        "model3.add(Dense(512, activation='relu'))\n",
        "model3.add(BatchNormalization())\n",
        "model3.add(Dropout(0.2))\n",
        "\n",
        "# Layer 11: Output layer with 'softmax' activation for multi-class classification\n",
        "model3.add(Dense(10, activation='softmax'))"
      ],
      "metadata": {
        "id": "GA1rXQCqIn3k"
      },
      "execution_count": 24,
      "outputs": []
    },
    {
      "cell_type": "code",
      "source": [
        "model3.summary()"
      ],
      "metadata": {
        "colab": {
          "base_uri": "https://localhost:8080/"
        },
        "id": "oGmC2KU8Iqg1",
        "outputId": "e3f8654d-0af1-415f-9c9e-3653d5e51435"
      },
      "execution_count": 25,
      "outputs": [
        {
          "output_type": "stream",
          "name": "stdout",
          "text": [
            "Model: \"sequential_5\"\n",
            "_________________________________________________________________\n",
            " Layer (type)                Output Shape              Param #   \n",
            "=================================================================\n",
            " conv2d_23 (Conv2D)          (None, 32, 32, 32)        896       \n",
            "                                                                 \n",
            " batch_normalization_13 (Bat  (None, 32, 32, 32)       128       \n",
            " chNormalization)                                                \n",
            "                                                                 \n",
            " dropout_7 (Dropout)         (None, 32, 32, 32)        0         \n",
            "                                                                 \n",
            " conv2d_24 (Conv2D)          (None, 32, 32, 32)        9248      \n",
            "                                                                 \n",
            " batch_normalization_14 (Bat  (None, 32, 32, 32)       128       \n",
            " chNormalization)                                                \n",
            "                                                                 \n",
            " dropout_8 (Dropout)         (None, 32, 32, 32)        0         \n",
            "                                                                 \n",
            " max_pooling2d_12 (MaxPoolin  (None, 16, 16, 32)       0         \n",
            " g2D)                                                            \n",
            "                                                                 \n",
            " conv2d_25 (Conv2D)          (None, 16, 16, 64)        18496     \n",
            "                                                                 \n",
            " batch_normalization_15 (Bat  (None, 16, 16, 64)       256       \n",
            " chNormalization)                                                \n",
            "                                                                 \n",
            " dropout_9 (Dropout)         (None, 16, 16, 64)        0         \n",
            "                                                                 \n",
            " conv2d_26 (Conv2D)          (None, 16, 16, 64)        36928     \n",
            "                                                                 \n",
            " batch_normalization_16 (Bat  (None, 16, 16, 64)       256       \n",
            " chNormalization)                                                \n",
            "                                                                 \n",
            " dropout_10 (Dropout)        (None, 16, 16, 64)        0         \n",
            "                                                                 \n",
            " max_pooling2d_13 (MaxPoolin  (None, 8, 8, 64)         0         \n",
            " g2D)                                                            \n",
            "                                                                 \n",
            " conv2d_27 (Conv2D)          (None, 8, 8, 128)         73856     \n",
            "                                                                 \n",
            " batch_normalization_17 (Bat  (None, 8, 8, 128)        512       \n",
            " chNormalization)                                                \n",
            "                                                                 \n",
            " dropout_11 (Dropout)        (None, 8, 8, 128)         0         \n",
            "                                                                 \n",
            " flatten_6 (Flatten)         (None, 8192)              0         \n",
            "                                                                 \n",
            " dense_15 (Dense)            (None, 512)               4194816   \n",
            "                                                                 \n",
            " batch_normalization_18 (Bat  (None, 512)              2048      \n",
            " chNormalization)                                                \n",
            "                                                                 \n",
            " dropout_12 (Dropout)        (None, 512)               0         \n",
            "                                                                 \n",
            " dense_16 (Dense)            (None, 512)               262656    \n",
            "                                                                 \n",
            " batch_normalization_19 (Bat  (None, 512)              2048      \n",
            " chNormalization)                                                \n",
            "                                                                 \n",
            " dropout_13 (Dropout)        (None, 512)               0         \n",
            "                                                                 \n",
            " dense_17 (Dense)            (None, 10)                5130      \n",
            "                                                                 \n",
            "=================================================================\n",
            "Total params: 4,607,402\n",
            "Trainable params: 4,604,714\n",
            "Non-trainable params: 2,688\n",
            "_________________________________________________________________\n"
          ]
        }
      ]
    },
    {
      "cell_type": "markdown",
      "source": [
        "## Model 4 (Imported)"
      ],
      "metadata": {
        "id": "HXFRPJTnMTNf"
      }
    },
    {
      "cell_type": "code",
      "source": [
        "from keras.applications.vgg16 import VGG16\n",
        "from keras.applications.vgg16 import preprocess_input\n",
        "from keras.applications.vgg16 import decode_predictions\n",
        "\n",
        "base_model = VGG16(weights='imagenet', include_top=False, input_shape=(32,32,3))"
      ],
      "metadata": {
        "id": "HUgtfza7MWIi"
      },
      "execution_count": 41,
      "outputs": []
    },
    {
      "cell_type": "code",
      "source": [
        "# Freeze base model layers\n",
        "for layer in base_model.layers:\n",
        "    layer.trainable = False"
      ],
      "metadata": {
        "id": "VKmllHXWMZdg"
      },
      "execution_count": 42,
      "outputs": []
    },
    {
      "cell_type": "code",
      "source": [
        "# Add new layers\n",
        "x = base_model.output\n",
        "x = Flatten()(x)\n",
        "x = Dense(4096, activation='relu')(x)\n",
        "predictions = Dense(10, activation='softmax')(x)"
      ],
      "metadata": {
        "id": "Eccd83caMdRF"
      },
      "execution_count": 43,
      "outputs": []
    },
    {
      "cell_type": "code",
      "source": [
        "from keras.models import Model\n",
        "model4 = Model(inputs=base_model.input, outputs=predictions)"
      ],
      "metadata": {
        "id": "0XZJEg47Meyx"
      },
      "execution_count": 44,
      "outputs": []
    },
    {
      "cell_type": "code",
      "source": [
        "model4.summary()"
      ],
      "metadata": {
        "colab": {
          "base_uri": "https://localhost:8080/"
        },
        "id": "ZQJhllZCMgqe",
        "outputId": "e0a2bc66-477b-46b5-f9ec-6879ea102b55"
      },
      "execution_count": 45,
      "outputs": [
        {
          "output_type": "stream",
          "name": "stdout",
          "text": [
            "Model: \"model_1\"\n",
            "_________________________________________________________________\n",
            " Layer (type)                Output Shape              Param #   \n",
            "=================================================================\n",
            " input_3 (InputLayer)        [(None, 32, 32, 3)]       0         \n",
            "                                                                 \n",
            " block1_conv1 (Conv2D)       (None, 32, 32, 64)        1792      \n",
            "                                                                 \n",
            " block1_conv2 (Conv2D)       (None, 32, 32, 64)        36928     \n",
            "                                                                 \n",
            " block1_pool (MaxPooling2D)  (None, 16, 16, 64)        0         \n",
            "                                                                 \n",
            " block2_conv1 (Conv2D)       (None, 16, 16, 128)       73856     \n",
            "                                                                 \n",
            " block2_conv2 (Conv2D)       (None, 16, 16, 128)       147584    \n",
            "                                                                 \n",
            " block2_pool (MaxPooling2D)  (None, 8, 8, 128)         0         \n",
            "                                                                 \n",
            " block3_conv1 (Conv2D)       (None, 8, 8, 256)         295168    \n",
            "                                                                 \n",
            " block3_conv2 (Conv2D)       (None, 8, 8, 256)         590080    \n",
            "                                                                 \n",
            " block3_conv3 (Conv2D)       (None, 8, 8, 256)         590080    \n",
            "                                                                 \n",
            " block3_pool (MaxPooling2D)  (None, 4, 4, 256)         0         \n",
            "                                                                 \n",
            " block4_conv1 (Conv2D)       (None, 4, 4, 512)         1180160   \n",
            "                                                                 \n",
            " block4_conv2 (Conv2D)       (None, 4, 4, 512)         2359808   \n",
            "                                                                 \n",
            " block4_conv3 (Conv2D)       (None, 4, 4, 512)         2359808   \n",
            "                                                                 \n",
            " block4_pool (MaxPooling2D)  (None, 2, 2, 512)         0         \n",
            "                                                                 \n",
            " block5_conv1 (Conv2D)       (None, 2, 2, 512)         2359808   \n",
            "                                                                 \n",
            " block5_conv2 (Conv2D)       (None, 2, 2, 512)         2359808   \n",
            "                                                                 \n",
            " block5_conv3 (Conv2D)       (None, 2, 2, 512)         2359808   \n",
            "                                                                 \n",
            " block5_pool (MaxPooling2D)  (None, 1, 1, 512)         0         \n",
            "                                                                 \n",
            " flatten_8 (Flatten)         (None, 512)               0         \n",
            "                                                                 \n",
            " dense_20 (Dense)            (None, 4096)              2101248   \n",
            "                                                                 \n",
            " dense_21 (Dense)            (None, 10)                40970     \n",
            "                                                                 \n",
            "=================================================================\n",
            "Total params: 16,856,906\n",
            "Trainable params: 2,142,218\n",
            "Non-trainable params: 14,714,688\n",
            "_________________________________________________________________\n"
          ]
        }
      ]
    },
    {
      "cell_type": "markdown",
      "source": [
        "## Training"
      ],
      "metadata": {
        "id": "lyIaZpXYIhu-"
      }
    },
    {
      "cell_type": "code",
      "source": [
        "model.compile(optimizer='adam', loss='categorical_crossentropy', metrics=['accuracy'])"
      ],
      "metadata": {
        "id": "EWKp1koGBAso"
      },
      "execution_count": 31,
      "outputs": []
    },
    {
      "cell_type": "code",
      "source": [
        "model2.compile(optimizer='adam', loss='categorical_crossentropy', metrics=['accuracy'])"
      ],
      "metadata": {
        "id": "xteiVkBtHRh5"
      },
      "execution_count": 32,
      "outputs": []
    },
    {
      "cell_type": "code",
      "source": [
        "model3.compile(optimizer='adam', loss='categorical_crossentropy', metrics=['accuracy'])"
      ],
      "metadata": {
        "id": "3dGX_ADqI4sP"
      },
      "execution_count": 33,
      "outputs": []
    },
    {
      "cell_type": "code",
      "source": [
        "model4.compile(optimizer='adam', loss='categorical_crossentropy', metrics=['accuracy'])"
      ],
      "metadata": {
        "id": "i9CP7CLpMo5O"
      },
      "execution_count": 34,
      "outputs": []
    },
    {
      "cell_type": "code",
      "source": [
        "Epochs = 10"
      ],
      "metadata": {
        "id": "8KfHbtqYPF31"
      },
      "execution_count": null,
      "outputs": []
    },
    {
      "cell_type": "code",
      "source": [
        "history = model.fit(x_train, y_train, batch_size=64, epochs=Epochs, validation_data=(x_test, y_test))"
      ],
      "metadata": {
        "colab": {
          "base_uri": "https://localhost:8080/"
        },
        "id": "Gv8KPJIz8LXP",
        "outputId": "31504d6f-72a3-444a-e2c7-f867aa886d8b"
      },
      "execution_count": 35,
      "outputs": [
        {
          "output_type": "stream",
          "name": "stdout",
          "text": [
            "Epoch 1/10\n",
            "782/782 [==============================] - 27s 22ms/step - loss: 1.4024 - accuracy: 0.5011 - val_loss: 1.1983 - val_accuracy: 0.5869\n",
            "Epoch 2/10\n",
            "782/782 [==============================] - 16s 20ms/step - loss: 0.8736 - accuracy: 0.6900 - val_loss: 1.1498 - val_accuracy: 0.5996\n",
            "Epoch 3/10\n",
            "782/782 [==============================] - 15s 20ms/step - loss: 0.6702 - accuracy: 0.7653 - val_loss: 0.9646 - val_accuracy: 0.6785\n",
            "Epoch 4/10\n",
            "782/782 [==============================] - 15s 19ms/step - loss: 0.5421 - accuracy: 0.8121 - val_loss: 0.8308 - val_accuracy: 0.7224\n",
            "Epoch 5/10\n",
            "782/782 [==============================] - 15s 19ms/step - loss: 0.4443 - accuracy: 0.8463 - val_loss: 0.7398 - val_accuracy: 0.7637\n",
            "Epoch 6/10\n",
            "782/782 [==============================] - 15s 19ms/step - loss: 0.3587 - accuracy: 0.8749 - val_loss: 0.7637 - val_accuracy: 0.7737\n",
            "Epoch 7/10\n",
            "782/782 [==============================] - 15s 20ms/step - loss: 0.2827 - accuracy: 0.9027 - val_loss: 0.8654 - val_accuracy: 0.7691\n",
            "Epoch 8/10\n",
            "782/782 [==============================] - 15s 20ms/step - loss: 0.2271 - accuracy: 0.9202 - val_loss: 0.7529 - val_accuracy: 0.7972\n",
            "Epoch 9/10\n",
            "782/782 [==============================] - 16s 20ms/step - loss: 0.1829 - accuracy: 0.9368 - val_loss: 0.7047 - val_accuracy: 0.8114\n",
            "Epoch 10/10\n",
            "782/782 [==============================] - 15s 19ms/step - loss: 0.1421 - accuracy: 0.9514 - val_loss: 0.8798 - val_accuracy: 0.7904\n"
          ]
        }
      ]
    },
    {
      "cell_type": "code",
      "source": [
        "history2 = model2.fit(x_train, y_train, batch_size=64, epochs=Epoch, validation_data=(x_test, y_test))"
      ],
      "metadata": {
        "colab": {
          "base_uri": "https://localhost:8080/"
        },
        "id": "XK_bLj4cHSt2",
        "outputId": "eda9ae2d-abdf-45e7-aa5b-50820ee48069"
      },
      "execution_count": 36,
      "outputs": [
        {
          "output_type": "stream",
          "name": "stdout",
          "text": [
            "Epoch 1/10\n",
            "782/782 [==============================] - 5s 5ms/step - loss: 1.3934 - accuracy: 0.5031 - val_loss: 1.1094 - val_accuracy: 0.6098\n",
            "Epoch 2/10\n",
            "782/782 [==============================] - 4s 5ms/step - loss: 1.0373 - accuracy: 0.6397 - val_loss: 1.0050 - val_accuracy: 0.6460\n",
            "Epoch 3/10\n",
            "782/782 [==============================] - 4s 5ms/step - loss: 0.9006 - accuracy: 0.6856 - val_loss: 0.9149 - val_accuracy: 0.6834\n",
            "Epoch 4/10\n",
            "782/782 [==============================] - 4s 5ms/step - loss: 0.8070 - accuracy: 0.7200 - val_loss: 0.8704 - val_accuracy: 0.7051\n",
            "Epoch 5/10\n",
            "782/782 [==============================] - 4s 5ms/step - loss: 0.7359 - accuracy: 0.7423 - val_loss: 0.9278 - val_accuracy: 0.6789\n",
            "Epoch 6/10\n",
            "782/782 [==============================] - 4s 5ms/step - loss: 0.6651 - accuracy: 0.7696 - val_loss: 0.8829 - val_accuracy: 0.7006\n",
            "Epoch 7/10\n",
            "782/782 [==============================] - 4s 5ms/step - loss: 0.5990 - accuracy: 0.7915 - val_loss: 0.8683 - val_accuracy: 0.7115\n",
            "Epoch 8/10\n",
            "782/782 [==============================] - 6s 8ms/step - loss: 0.5370 - accuracy: 0.8126 - val_loss: 0.8785 - val_accuracy: 0.7169\n",
            "Epoch 9/10\n",
            "782/782 [==============================] - 4s 5ms/step - loss: 0.4790 - accuracy: 0.8319 - val_loss: 0.9300 - val_accuracy: 0.7119\n",
            "Epoch 10/10\n",
            "782/782 [==============================] - 5s 6ms/step - loss: 0.4259 - accuracy: 0.8520 - val_loss: 0.9592 - val_accuracy: 0.7024\n"
          ]
        }
      ]
    },
    {
      "cell_type": "code",
      "source": [
        "history3 = model3.fit(x_train, y_train, batch_size=64, epochs=Epoch, validation_data=(x_test, y_test))"
      ],
      "metadata": {
        "colab": {
          "base_uri": "https://localhost:8080/"
        },
        "id": "I51Wqg6mI6oD",
        "outputId": "8672acc6-031b-4601-ab7f-0ced07ec5051"
      },
      "execution_count": 37,
      "outputs": [
        {
          "output_type": "stream",
          "name": "stdout",
          "text": [
            "Epoch 1/10\n",
            "782/782 [==============================] - 12s 13ms/step - loss: 1.4781 - accuracy: 0.4913 - val_loss: 1.3330 - val_accuracy: 0.5483\n",
            "Epoch 2/10\n",
            "782/782 [==============================] - 10s 12ms/step - loss: 0.9214 - accuracy: 0.6773 - val_loss: 1.0291 - val_accuracy: 0.6552\n",
            "Epoch 3/10\n",
            "782/782 [==============================] - 10s 12ms/step - loss: 0.7338 - accuracy: 0.7436 - val_loss: 0.9136 - val_accuracy: 0.7071\n",
            "Epoch 4/10\n",
            "782/782 [==============================] - 10s 12ms/step - loss: 0.6221 - accuracy: 0.7805 - val_loss: 0.8378 - val_accuracy: 0.7301\n",
            "Epoch 5/10\n",
            "782/782 [==============================] - 9s 12ms/step - loss: 0.5315 - accuracy: 0.8116 - val_loss: 0.7661 - val_accuracy: 0.7469\n",
            "Epoch 6/10\n",
            "782/782 [==============================] - 10s 12ms/step - loss: 0.4546 - accuracy: 0.8394 - val_loss: 0.7419 - val_accuracy: 0.7677\n",
            "Epoch 7/10\n",
            "782/782 [==============================] - 10s 12ms/step - loss: 0.3825 - accuracy: 0.8657 - val_loss: 0.6869 - val_accuracy: 0.7889\n",
            "Epoch 8/10\n",
            "782/782 [==============================] - 10s 12ms/step - loss: 0.3207 - accuracy: 0.8875 - val_loss: 0.7674 - val_accuracy: 0.7746\n",
            "Epoch 9/10\n",
            "782/782 [==============================] - 10s 13ms/step - loss: 0.2809 - accuracy: 0.8994 - val_loss: 0.7670 - val_accuracy: 0.7797\n",
            "Epoch 10/10\n",
            "782/782 [==============================] - 15s 19ms/step - loss: 0.2382 - accuracy: 0.9162 - val_loss: 0.7911 - val_accuracy: 0.7878\n"
          ]
        }
      ]
    },
    {
      "cell_type": "code",
      "source": [
        "history4 = model4.fit(x_train, y_train, batch_size=64, epochs=Epoch, validation_data=(x_test, y_test))"
      ],
      "metadata": {
        "colab": {
          "base_uri": "https://localhost:8080/"
        },
        "id": "0o9LuI7rMr8h",
        "outputId": "6af8ac62-4cef-485b-cd06-92d6b69ed442"
      },
      "execution_count": 38,
      "outputs": [
        {
          "output_type": "stream",
          "name": "stdout",
          "text": [
            "Epoch 1/10\n",
            "782/782 [==============================] - 14s 17ms/step - loss: 1.3191 - accuracy: 0.5372 - val_loss: 1.2354 - val_accuracy: 0.5612\n",
            "Epoch 2/10\n",
            "782/782 [==============================] - 12s 15ms/step - loss: 1.1370 - accuracy: 0.5993 - val_loss: 1.1586 - val_accuracy: 0.5902\n",
            "Epoch 3/10\n",
            "782/782 [==============================] - 13s 16ms/step - loss: 1.0569 - accuracy: 0.6253 - val_loss: 1.1284 - val_accuracy: 0.5989\n",
            "Epoch 4/10\n",
            "782/782 [==============================] - 12s 15ms/step - loss: 0.9898 - accuracy: 0.6500 - val_loss: 1.1015 - val_accuracy: 0.6150\n",
            "Epoch 5/10\n",
            "782/782 [==============================] - 12s 15ms/step - loss: 0.9298 - accuracy: 0.6712 - val_loss: 1.1206 - val_accuracy: 0.6104\n",
            "Epoch 6/10\n",
            "782/782 [==============================] - 12s 15ms/step - loss: 0.8720 - accuracy: 0.6928 - val_loss: 1.1005 - val_accuracy: 0.6243\n",
            "Epoch 7/10\n",
            "782/782 [==============================] - 12s 15ms/step - loss: 0.8140 - accuracy: 0.7122 - val_loss: 1.1209 - val_accuracy: 0.6195\n",
            "Epoch 8/10\n",
            "782/782 [==============================] - 12s 15ms/step - loss: 0.7563 - accuracy: 0.7322 - val_loss: 1.1376 - val_accuracy: 0.6213\n",
            "Epoch 9/10\n",
            "782/782 [==============================] - 12s 15ms/step - loss: 0.6981 - accuracy: 0.7537 - val_loss: 1.1476 - val_accuracy: 0.6268\n",
            "Epoch 10/10\n",
            "782/782 [==============================] - 12s 15ms/step - loss: 0.6461 - accuracy: 0.7736 - val_loss: 1.1548 - val_accuracy: 0.6301\n"
          ]
        }
      ]
    },
    {
      "cell_type": "markdown",
      "source": [
        "# Analytics"
      ],
      "metadata": {
        "id": "RuZ2h6sN661G"
      }
    },
    {
      "cell_type": "code",
      "source": [
        "class_names = ['airplane', 'automobile', 'bird', 'cat', 'deer',\n",
        "               'dog', 'frog', 'horse', 'ship', 'truck']"
      ],
      "metadata": {
        "id": "R8uQBB6POBMc"
      },
      "execution_count": null,
      "outputs": []
    },
    {
      "cell_type": "code",
      "source": [
        "test_loss4, test_acc4 = model4.evaluate(x_test, y_test, verbose=0)\n",
        "test_loss3, test_acc3 = model3.evaluate(x_test, y_test, verbose=0)\n",
        "test_loss2, test_acc2 = model2.evaluate(x_test, y_test, verbose=0)\n",
        "test_loss, test_acc = model.evaluate(x_test, y_test, verbose=0)\n",
        "print(\"Testing Loss Model 1:\", test_loss)\n",
        "print(\"Testing Accuracy Model 1:\", test_acc)\n",
        "print(\"Testing Loss Model 2:\", test_loss2)\n",
        "print(\"Testing Accuracy Model 2:\", test_acc2)\n",
        "print(\"Testing Loss Model 3:\", test_loss3)\n",
        "print(\"Testing Accuracy Model 3:\", test_acc3)\n",
        "print(\"Testing Loss Model 4:\", test_loss4)\n",
        "print(\"Testing Accuracy Model 4:\", test_acc4)"
      ],
      "metadata": {
        "colab": {
          "base_uri": "https://localhost:8080/"
        },
        "id": "wmd5jIo1HVR_",
        "outputId": "49a3ec71-449f-4e48-afcd-bfce51c375f3"
      },
      "execution_count": 39,
      "outputs": [
        {
          "output_type": "stream",
          "name": "stdout",
          "text": [
            "Testing Loss Model 1: 0.8798428773880005\n",
            "Testing Accuracy Model 1: 0.7904000282287598\n",
            "Testing Loss Model 2: 0.959234356880188\n",
            "Testing Accuracy Model 2: 0.7024000287055969\n",
            "Testing Loss Model 3: 0.7911202311515808\n",
            "Testing Accuracy Model 3: 0.7878000140190125\n",
            "Testing Loss Model 4: 1.1548272371292114\n",
            "Testing Accuracy Model 4: 0.6301000118255615\n"
          ]
        }
      ]
    },
    {
      "cell_type": "code",
      "source": [
        "import matplotlib.pyplot as plt\n",
        "\n",
        "plt.plot(history.history['accuracy'], label=\"model 1\")\n",
        "plt.title('Model accuracy')\n",
        "plt.ylabel('Accuracy')\n",
        "plt.xlabel('Epoch')\n",
        "# plt.show()\n",
        "\n",
        "model2, = plt.plot(history2.history['accuracy'], label=\"model 2\")\n",
        "plt.title('Model accuracy')\n",
        "plt.ylabel('Accuracy')\n",
        "plt.xlabel('Epoch')\n",
        "# plt.show()\n",
        "\n",
        "plt.plot(history3.history['accuracy'], label=\"model 3\")\n",
        "plt.title('Model accuracy')\n",
        "plt.ylabel('Accuracy')\n",
        "plt.xlabel('Epoch')\n",
        "# plt.show()\n",
        "\n",
        "plt.plot(history4.history['accuracy'], label=\"model 4\")\n",
        "plt.title('Model accuracy')\n",
        "plt.ylabel('Accuracy')\n",
        "plt.xlabel('Epoch')\n",
        "leg = plt.legend(loc='upper left')\n",
        "plt.show()"
      ],
      "metadata": {
        "colab": {
          "base_uri": "https://localhost:8080/",
          "height": 295
        },
        "id": "s9ptVgLTodgE",
        "outputId": "d8c16160-35f3-402a-cd28-1d0c452692e4"
      },
      "execution_count": 52,
      "outputs": [
        {
          "output_type": "display_data",
          "data": {
            "text/plain": [
              "<Figure size 432x288 with 1 Axes>"
            ],
            "image/png": "[encoded data removed]"
          },
          "metadata": {
            "needs_background": "light"
          }
        }
      ]
    }
  ]
}