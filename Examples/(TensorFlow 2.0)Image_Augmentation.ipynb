{
  "cells": [
    {
      "cell_type": "markdown",
      "metadata": {
        "id": "TBrwISeplqEG"
      },
      "source": [
        "# Image Augmentation\n",
        "- Check images/sample-train \n",
        "- Check images/sample-confirm is empty\n"
      ]
    },
    {
      "cell_type": "code",
      "execution_count": null,
      "metadata": {
        "collapsed": true,
        "id": "G5qZuyM9lqEK"
      },
      "outputs": [],
      "source": []
    },
    {
      "cell_type": "code",
      "execution_count": 12,
      "metadata": {
        "collapsed": true,
        "id": "a4Gr0iRUlqEK"
      },
      "outputs": [],
      "source": [
        "import numpy as np"
      ]
    },
    {
      "cell_type": "code",
      "execution_count": 13,
      "metadata": {
        "id": "1vn9rSbNlqEL"
      },
      "outputs": [],
      "source": [
        "from keras_preprocessing.image import ImageDataGenerator,array_to_img,img_to_array,load_img\n",
        "from keras.applications.inception_v3 import preprocess_input"
      ]
    },
    {
      "cell_type": "markdown",
      "metadata": {
        "collapsed": true,
        "id": "YiPyn8YDlqEM"
      },
      "source": [
        "**Check  that sample-confirm is empty**"
      ]
    },
    {
      "cell_type": "code",
      "execution_count": 15,
      "metadata": {
        "collapsed": true,
        "id": "ejNMcOcelqEN"
      },
      "outputs": [],
      "source": [
        "train_datagen = ImageDataGenerator(\n",
        "    preprocessing_function=preprocess_input,\n",
        "    width_shift_range=0.2,\n",
        "    height_shift_range=0.2,\n",
        "    shear_range=0.2,\n",
        "    zoom_range=0.2,\n",
        "    horizontal_flip=True\n",
        ")\n",
        "\n",
        "test_datagen = ImageDataGenerator(\n",
        "    preprocessing_function=preprocess_input,\n",
        "    width_shift_range = 0.2,\n",
        "    height_shift_range = 0.2,\n",
        "    shear_range = 0.2,\n",
        "    zoom_range = 0.2,\n",
        "    horizontal_flip = True\n",
        ")\n",
        "\n",
        "jf_datagen = ImageDataGenerator(\n",
        "    preprocessing_function=preprocess_input,\n",
        "    horizontal_flip=True\n",
        ")"
      ]
    },
    {
      "cell_type": "code",
      "source": [
        "from google.colab import drive\n",
        "drive.mount('/content/drive')"
      ],
      "metadata": {
        "colab": {
          "base_uri": "https://localhost:8080/"
        },
        "id": "576NFaXWl4jY",
        "outputId": "b9b3076f-a279-4041-c3db-56c163096d78"
      },
      "execution_count": 16,
      "outputs": [
        {
          "output_type": "stream",
          "name": "stdout",
          "text": [
            "Drive already mounted at /content/drive; to attempt to forcibly remount, call drive.mount(\"/content/drive\", force_remount=True).\n"
          ]
        }
      ]
    },
    {
      "cell_type": "markdown",
      "metadata": {
        "id": "aCOVTDohlqEN"
      },
      "source": [
        "## Check on a sample to see the image generators work in the way we expect"
      ]
    },
    {
      "cell_type": "code",
      "execution_count": 17,
      "metadata": {
        "colab": {
          "base_uri": "https://localhost:8080/"
        },
        "id": "w3nQcGUzlqEO",
        "outputId": "69e1ab2f-409e-44ff-bd44-bfc73bf45fe4"
      },
      "outputs": [
        {
          "output_type": "stream",
          "name": "stdout",
          "text": [
            "Found 0 images belonging to 2 classes.\n"
          ]
        }
      ],
      "source": [
        "train_generator = train_datagen.flow_from_directory('/content/drive/MyDrive/images/sample-train/',target_size=(150,150), save_to_dir='/content/drive/MyDrive/images/sample-confirm/')"
      ]
    },
    {
      "cell_type": "code",
      "execution_count": 18,
      "metadata": {
        "colab": {
          "base_uri": "https://localhost:8080/"
        },
        "id": "NAfG6OCBlqEO",
        "outputId": "62f4eeb7-85ce-41cc-aa1f-b5c52b584946"
      },
      "outputs": [
        {
          "output_type": "stream",
          "name": "stdout",
          "text": [
            "Found 0 images belonging to 2 classes.\n"
          ]
        }
      ],
      "source": [
        "i=0\n",
        "for batch in train_datagen.flow_from_directory('/content/drive/MyDrive/images/sample-train/', target_size=(150,150), save_to_dir='/content/drive/MyDrive/images/sample-confirm/'):\n",
        "    i+=1\n",
        "    if (i>10):\n",
        "        break\n"
      ]
    },
    {
      "cell_type": "code",
      "execution_count": 9,
      "metadata": {
        "scrolled": true,
        "colab": {
          "base_uri": "https://localhost:8080/"
        },
        "id": "Uq-LB9tVlqEP",
        "outputId": "5bb16d24-5b49-45ff-90f9-7df9d79af9c8"
      },
      "outputs": [
        {
          "output_type": "stream",
          "name": "stdout",
          "text": [
            "Found 0 images belonging to 2 classes.\n"
          ]
        }
      ],
      "source": [
        "j=0\n",
        "for batch in jf_datagen.flow_from_directory('/content/drive/MyDrive/images/sample-train/', target_size=(150,150), save_to_dir='/content/drive/MyDrive/images/sample-confirm/'):\n",
        "    j+=1\n",
        "    if ( j > 10):\n",
        "        break"
      ]
    },
    {
      "cell_type": "code",
      "execution_count": null,
      "metadata": {
        "collapsed": true,
        "id": "rTLEJAfzlqEP"
      },
      "outputs": [],
      "source": []
    },
    {
      "cell_type": "code",
      "execution_count": null,
      "metadata": {
        "collapsed": true,
        "id": "jb7jxyS2lqEP"
      },
      "outputs": [],
      "source": []
    }
  ],
  "metadata": {
    "anaconda-cloud": {},
    "kernelspec": {
      "display_name": "Python [anuj]",
      "language": "python",
      "name": "Python [anuj]"
    },
    "language_info": {
      "codemirror_mode": {
        "name": "ipython",
        "version": 3
      },
      "file_extension": ".py",
      "mimetype": "text/x-python",
      "name": "python",
      "nbconvert_exporter": "python",
      "pygments_lexer": "ipython3",
      "version": "3.5.3"
    },
    "colab": {
      "provenance": []
    }
  },
  "nbformat": 4,
  "nbformat_minor": 0
}
